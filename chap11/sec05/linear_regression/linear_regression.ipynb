{
 "cells": [
  {
   "cell_type": "code",
   "execution_count": 1,
   "metadata": {},
   "outputs": [
    {
     "name": "stdout",
     "output_type": "stream",
     "text": [
      "[33.74080525] -760.8771642249769\n"
     ]
    }
   ],
   "source": [
    "# 線形単回帰分析を実行\n",
    "\n",
    "import pandas as pd\n",
    "import numpy as np\n",
    "from sklearn import linear_model\n",
    "\n",
    "df = pd.read_csv('清涼飲料水売上.csv', encoding='cp932')\n",
    "x  = df['最高気温']                      # 説明変数のデータをxに代入\n",
    "y  = df['清涼飲料売上数']                # 目的変数のデータをyに代入\n",
    "model = linear_model.LinearRegression()  # LinearRegressionオブジェクトを生成\n",
    "model.fit(x[:, np.newaxis], y)           # 線形回帰分析を実行\n",
    "\n",
    "print(model.coef_, model.intercept_)     # 係数aと切片bを取得"
   ]
  },
  {
   "cell_type": "code",
   "execution_count": 2,
   "metadata": {},
   "outputs": [
    {
     "name": "stdout",
     "output_type": "stream",
     "text": [
      "[251.34699314]\n",
      "[453.79182461]\n"
     ]
    }
   ],
   "source": [
    "# 最高気温が30度、36度ののときの売上数をそれぞれ予測する\n",
    "x1 = [[30]]\n",
    "x2 = [[36]]\n",
    "print(model.predict(x1)) # 気温が30度のときの売上予測\n",
    "print(model.predict(x2)) # 気温が36度のときの売上予測"
   ]
  },
  {
   "cell_type": "code",
   "execution_count": 3,
   "metadata": {},
   "outputs": [
    {
     "data": {
      "text/plain": [
       "<matplotlib.legend.Legend at 0x287d3a4b9c8>"
      ]
     },
     "execution_count": 3,
     "metadata": {},
     "output_type": "execute_result"
    },
    {
     "data": {
      "image/png": "[encoded data removed]",
      "text/plain": [
       "<Figure size 432x288 with 1 Axes>"
      ]
     },
     "metadata": {
      "needs_background": "light"
     },
     "output_type": "display_data"
    }
   ],
   "source": [
    "# 散布図を描画して回帰直線を引く\n",
    "\n",
    "from matplotlib import pyplot as plt\n",
    "%matplotlib inline\n",
    "xx = np.arange(20, 40)                # 20～40の等差数列を生成\n",
    "yy = model.predict(xx[:, np.newaxis]) # 回帰分析結果でxxに対するy値を予測する\n",
    "plt.plot(xx, yy, label='predicted')   # 回帰直線をプロット\n",
    "plt.plot(x, y, 'o', label='sales')    # x、yの散布図をプロット\n",
    "plt.xlabel('temp')                    # x軸のラベル\n",
    "plt.ylabel('sale')                    # y軸のラベル\n",
    "plt.xlim(20, 40)                      # x軸の範囲を設定\n",
    "plt.ylim(0, 500)                      # y軸の範囲を設定\n",
    "plt.legend()                          # 凡例を表示"
   ]
  },
  {
   "cell_type": "code",
   "execution_count": 4,
   "metadata": {},
   "outputs": [
    {
     "name": "stdout",
     "output_type": "stream",
     "text": [
      "0.9413818994683983\n"
     ]
    }
   ],
   "source": [
    "# 決定係数R^2を求める\n",
    "print(model.score(x[:, np.newaxis], y)) # 決定係数"
   ]
  }
 ],
 "metadata": {
  "kernelspec": {
   "display_name": "Python 3",
   "language": "python",
   "name": "python3"
  },
  "language_info": {
   "codemirror_mode": {
    "name": "ipython",
    "version": 3
   },
   "file_extension": ".py",
   "mimetype": "text/x-python",
   "name": "python",
   "nbconvert_exporter": "python",
   "pygments_lexer": "ipython3",
   "version": "3.7.6"
  }
 },
 "nbformat": 4,
 "nbformat_minor": 2
}
