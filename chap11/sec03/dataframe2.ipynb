{
 "cells": [
  {
   "cell_type": "code",
   "execution_count": 1,
   "metadata": {
    "scrolled": true
   },
   "outputs": [
    {
     "name": "stdout",
     "output_type": "stream",
     "text": [
      "    最高気温  清涼飲料売上数\n",
      "0     26       84\n",
      "1     25       61\n",
      "2     26       85\n",
      "3     24       63\n",
      "4     25       71\n",
      "5     24       81\n",
      "6     26       98\n",
      "7     26      101\n",
      "8     25       93\n",
      "9     27      118\n",
      "10    27      114\n",
      "11    26      124\n",
      "12    28      156\n",
      "13    28      188\n",
      "14    27      184\n",
      "15    28      213\n",
      "16    29      241\n",
      "17    29      233\n",
      "18    29      207\n",
      "19    31      267\n",
      "20    31      332\n",
      "21    29      266\n",
      "22    32      334\n",
      "23    33      346\n",
      "24    34      359\n",
      "25    33      361\n",
      "26    34      372\n",
      "27    35      368\n",
      "28    32      378\n",
      "29    34      394\n"
     ]
    }
   ],
   "source": [
    "# CSVファイルをデータフレームに読み込む\n",
    "\n",
    "import pandas as pd\n",
    "# Windowsの標準エンコードCP932で読み込む\n",
    "df = pd.read_csv(\"data.csv\", encoding='cp932')\n",
    "# データフレームを出力\n",
    "print(df)"
   ]
  },
  {
   "cell_type": "code",
   "execution_count": 2,
   "metadata": {},
   "outputs": [],
   "source": [
    "# 散布図を描く\n",
    "\n",
    "# インポートとinlineの宣言\n",
    "from matplotlib import pyplot as plt\n",
    "%matplotlib inline"
   ]
  },
  {
   "cell_type": "code",
   "execution_count": 3,
   "metadata": {},
   "outputs": [],
   "source": [
    "# CSVファイルの読み込み\n",
    "df = pd.read_csv('data.csv', encoding='cp932')"
   ]
  },
  {
   "cell_type": "code",
   "execution_count": 4,
   "metadata": {},
   "outputs": [
    {
     "data": {
      "text/plain": [
       "Text(0, 0.5, 'sales')"
      ]
     },
     "execution_count": 4,
     "metadata": {},
     "output_type": "execute_result"
    },
    {
     "data": {
      "image/png": "[encoded data removed]",
      "text/plain": [
       "<Figure size 432x288 with 1 Axes>"
      ]
     },
     "metadata": {
      "needs_background": "light"
     },
     "output_type": "display_data"
    }
   ],
   "source": [
    "# 散布図の描画\n",
    "\n",
    "plt.plot(df['最高気温'],       # x軸は気温\n",
    "         df['清涼飲料売上数'], # y軸は売上数 \n",
    "         'o'                   # ドットをプロット\n",
    "        )\n",
    "plt.xlabel('temperature')     # x軸ラベル\n",
    "plt.ylabel('sales')           # y軸ラベル"
   ]
  },
  {
   "cell_type": "code",
   "execution_count": 23,
   "metadata": {},
   "outputs": [
    {
     "name": "stdout",
     "output_type": "stream",
     "text": [
      "    最高気温  清涼飲料売上数\n",
      "0     26       84\n",
      "1     25       61\n",
      "2     26       85\n",
      "3     24       63\n",
      "4     25       71\n",
      "5     24       81\n",
      "6     26       98\n",
      "7     26      101\n",
      "8     25       93\n",
      "9     27      118\n",
      "10    27      114\n",
      "11    26      124\n",
      "12    28      156\n",
      "13    28      188\n",
      "14    27      184\n",
      "15    28      213\n",
      "16    29      241\n",
      "17    29      233\n",
      "18    29      207\n",
      "19    31      267\n",
      "20    31      332\n",
      "21    29      266\n",
      "22    32      334\n",
      "23    33      346\n",
      "24    34      359\n",
      "25    33      361\n",
      "26    34      372\n",
      "27    35      368\n",
      "28    32      378\n",
      "29    34      394\n"
     ]
    }
   ],
   "source": [
    "# PandasのインポートとCSVファイルの読み込み\n",
    "\n",
    "import pandas as pd\n",
    "df = pd.read_csv('data.csv', encoding='cp932')  # CSVファイルの読み込み\n",
    "print(df)"
   ]
  },
  {
   "cell_type": "code",
   "execution_count": 6,
   "metadata": {},
   "outputs": [
    {
     "data": {
      "text/plain": [
       "最高気温        28.766667\n",
       "清涼飲料売上数    209.733333\n",
       "dtype: float64"
      ]
     },
     "execution_count": 6,
     "metadata": {},
     "output_type": "execute_result"
    }
   ],
   "source": [
    "# 各列の平均を求める\n",
    "df.mean() # 平均"
   ]
  },
  {
   "cell_type": "code",
   "execution_count": 7,
   "metadata": {},
   "outputs": [
    {
     "data": {
      "text/plain": [
       "28.766666666666666"
      ]
     },
     "execution_count": 7,
     "metadata": {},
     "output_type": "execute_result"
    }
   ],
   "source": [
    "# 特定の列の結果のみを参照する\n",
    "m = df.mean()\n",
    "m['最高気温']"
   ]
  },
  {
   "cell_type": "code",
   "execution_count": 8,
   "metadata": {},
   "outputs": [
    {
     "data": {
      "text/plain": [
       "最高気温        28.0\n",
       "清涼飲料売上数    197.5\n",
       "dtype: float64"
      ]
     },
     "execution_count": 8,
     "metadata": {},
     "output_type": "execute_result"
    }
   ],
   "source": [
    "# 中央値を求める\n",
    "df.median() # 中央値"
   ]
  },
  {
   "cell_type": "code",
   "execution_count": 21,
   "metadata": {},
   "outputs": [
    {
     "data": {
      "text/plain": [
       "最高気温          11.219540\n",
       "清涼飲料売上数    13568.133333\n",
       "dtype: float64"
      ]
     },
     "execution_count": 21,
     "metadata": {},
     "output_type": "execute_result"
    }
   ],
   "source": [
    "# 不偏分散を求める\n",
    "df.var()  # 不偏分散"
   ]
  },
  {
   "cell_type": "code",
   "execution_count": 33,
   "metadata": {},
   "outputs": [
    {
     "data": {
      "text/plain": [
       "最高気温          10.845556\n",
       "清涼飲料売上数    13115.862222\n",
       "dtype: float64"
      ]
     },
     "execution_count": 33,
     "metadata": {},
     "output_type": "execute_result"
    }
   ],
   "source": [
    "# 不偏推定量を用いない分散を求める\n",
    "df.var(ddof=0) # 標本分散"
   ]
  },
  {
   "cell_type": "code",
   "execution_count": 20,
   "metadata": {},
   "outputs": [
    {
     "data": {
      "text/plain": [
       "最高気温         3.349558\n",
       "清涼飲料売上数    116.482331\n",
       "dtype: float64"
      ]
     },
     "execution_count": 20,
     "metadata": {},
     "output_type": "execute_result"
    }
   ],
   "source": [
    "# 不偏標準偏差を求める\n",
    "df.std()          # 不偏標準偏差"
   ]
  },
  {
   "cell_type": "code",
   "execution_count": 34,
   "metadata": {},
   "outputs": [
    {
     "data": {
      "text/plain": [
       "最高気温         3.293259\n",
       "清涼飲料売上数    114.524505\n",
       "dtype: float64"
      ]
     },
     "execution_count": 34,
     "metadata": {},
     "output_type": "execute_result"
    }
   ],
   "source": [
    "# 不偏推定量を用いない標準偏差を求める\n",
    "df.std(ddof=0)   # 標本標準偏差"
   ]
  },
  {
   "cell_type": "code",
   "execution_count": 13,
   "metadata": {},
   "outputs": [],
   "source": [
    "# 基本統計量を一括で求める\n",
    "\n",
    "# PandasのインポートとCSVファイルの読み込み\n",
    "import pandas as pd\n",
    "df = pd.read_csv('data.csv', encoding='cp932')  # CSVファイルの読み込み"
   ]
  },
  {
   "cell_type": "code",
   "execution_count": 14,
   "metadata": {},
   "outputs": [
    {
     "data": {
      "text/html": [
       "<div>\n",
       "<style scoped>\n",
       "    .dataframe tbody tr th:only-of-type {\n",
       "        vertical-align: middle;\n",
       "    }\n",
       "\n",
       "    .dataframe tbody tr th {\n",
       "        vertical-align: top;\n",
       "    }\n",
       "\n",
       "    .dataframe thead th {\n",
       "        text-align: right;\n",
       "    }\n",
       "</style>\n",
       "<table border=\"1\" class=\"dataframe\">\n",
       "  <thead>\n",
       "    <tr style=\"text-align: right;\">\n",
       "      <th></th>\n",
       "      <th>最高気温</th>\n",
       "      <th>清涼飲料売上数</th>\n",
       "    </tr>\n",
       "  </thead>\n",
       "  <tbody>\n",
       "    <tr>\n",
       "      <th>count</th>\n",
       "      <td>30.000000</td>\n",
       "      <td>30.000000</td>\n",
       "    </tr>\n",
       "    <tr>\n",
       "      <th>mean</th>\n",
       "      <td>28.766667</td>\n",
       "      <td>209.733333</td>\n",
       "    </tr>\n",
       "    <tr>\n",
       "      <th>std</th>\n",
       "      <td>3.349558</td>\n",
       "      <td>116.482331</td>\n",
       "    </tr>\n",
       "    <tr>\n",
       "      <th>min</th>\n",
       "      <td>24.000000</td>\n",
       "      <td>61.000000</td>\n",
       "    </tr>\n",
       "    <tr>\n",
       "      <th>25%</th>\n",
       "      <td>26.000000</td>\n",
       "      <td>98.750000</td>\n",
       "    </tr>\n",
       "    <tr>\n",
       "      <th>50%</th>\n",
       "      <td>28.000000</td>\n",
       "      <td>197.500000</td>\n",
       "    </tr>\n",
       "    <tr>\n",
       "      <th>75%</th>\n",
       "      <td>31.750000</td>\n",
       "      <td>333.500000</td>\n",
       "    </tr>\n",
       "    <tr>\n",
       "      <th>max</th>\n",
       "      <td>35.000000</td>\n",
       "      <td>394.000000</td>\n",
       "    </tr>\n",
       "  </tbody>\n",
       "</table>\n",
       "</div>"
      ],
      "text/plain": [
       "            最高気温     清涼飲料売上数\n",
       "count  30.000000   30.000000\n",
       "mean   28.766667  209.733333\n",
       "std     3.349558  116.482331\n",
       "min    24.000000   61.000000\n",
       "25%    26.000000   98.750000\n",
       "50%    28.000000  197.500000\n",
       "75%    31.750000  333.500000\n",
       "max    35.000000  394.000000"
      ]
     },
     "execution_count": 14,
     "metadata": {},
     "output_type": "execute_result"
    }
   ],
   "source": [
    "df.describe() # 基本統計量"
   ]
  }
 ],
 "metadata": {
  "kernelspec": {
   "display_name": "Python 3",
   "language": "python",
   "name": "python3"
  },
  "language_info": {
   "codemirror_mode": {
    "name": "ipython",
    "version": 3
   },
   "file_extension": ".py",
   "mimetype": "text/x-python",
   "name": "python",
   "nbconvert_exporter": "python",
   "pygments_lexer": "ipython3",
   "version": "3.7.6"
  }
 },
 "nbformat": 4,
 "nbformat_minor": 2
}
