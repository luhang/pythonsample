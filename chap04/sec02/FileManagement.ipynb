{
 "cells": [
  {
   "cell_type": "code",
   "execution_count": null,
   "metadata": {},
   "outputs": [],
   "source": [
    "# C:\\data\\test.txtをC:\\mydataフォルダーにコピー\n",
    "\n",
    "# shutilモジュールをインポート\n",
    "import shutil\n",
    "# C:\\test.txtをC:\\mydataのフォルダーにコピー\n",
    "shutil.copy('C:/data/test.txt', 'C:/mydata')"
   ]
  },
  {
   "cell_type": "code",
   "execution_count": null,
   "metadata": {},
   "outputs": [],
   "source": [
    "# C:\\data\\test.txtを'C:\\mydata\\copy.txtとしてコピーする\n",
    "shutil.copy('C:\\\\data\\\\test.txt', 'C:\\\\mydata\\\\copy.txt')"
   ]
  },
  {
   "cell_type": "code",
   "execution_count": null,
   "metadata": {},
   "outputs": [],
   "source": [
    "# Cドライブ直下のmydataフォルダーをmydata_backupという名前でコピー\n",
    "\n",
    "# shutilモジュールをインポート\n",
    "import shutil\n",
    "# 'C:\\mydataをC:\\mydata_backupとしてコピーする\n",
    "shutil.copytree('C:/mydata', 'C:/mydata_backup')"
   ]
  },
  {
   "cell_type": "code",
   "execution_count": null,
   "metadata": {},
   "outputs": [],
   "source": [
    "# C:\\mydata\\test.txtをC:\\mydata_backupへ移動\n",
    "\n",
    "import shutil     # shutilモジュールをインポート\n",
    "shutil.move('C:/mydata/test.txt', 'C:/mydata_backup')"
   ]
  },
  {
   "cell_type": "code",
   "execution_count": null,
   "metadata": {
    "scrolled": true
   },
   "outputs": [],
   "source": [
    "# 移動後のファイル名を変更する\n",
    "shutil.move('C:/mydata/test.txt', 'C:/mydata_backup/sample.txt')"
   ]
  },
  {
   "cell_type": "code",
   "execution_count": null,
   "metadata": {},
   "outputs": [],
   "source": [
    "# フォルダーを移動する\n",
    "shutil.move('C:\\\\mydata\\\\temp', 'C:\\\\mydata_backup')"
   ]
  },
  {
   "cell_type": "code",
   "execution_count": null,
   "metadata": {},
   "outputs": [],
   "source": [
    "# フォルダー名を変更して移動する\n",
    "shutil.move('C:/mydata/temp', 'C:/mydata_backup/new')"
   ]
  },
  {
   "cell_type": "code",
   "execution_count": null,
   "metadata": {},
   "outputs": [],
   "source": [
    "# 指定された拡張子のファイルを削除する関数\n",
    "\n",
    "import os\n",
    "\n",
    "def deleteFile():\n",
    "    # 削除するファイルの拡張子を取得\n",
    "    extension = input('削除するファイルの拡張子を入力してください>')\n",
    "\n",
    "    # カレントディレクトリのファイル名を取得\n",
    "    for filename in os.listdir():\n",
    "        # 指定された拡張子のファイルを削除する処理\n",
    "        if filename.endswith(extension):\n",
    "            print(filename)                  # ファイル名出力\n",
    "            ans = input('削除しますか？(Y)') # 削除するか確認\n",
    "\n",
    "            if ans == 'Y':                   # 'Y'が入力されたら\n",
    "                os.unlink(filename)          # 完全に削除する"
   ]
  },
  {
   "cell_type": "code",
   "execution_count": null,
   "metadata": {},
   "outputs": [],
   "source": [
    "# 拡張子を指定してファイルを削除する\n",
    "deleteFile()"
   ]
  },
  {
   "cell_type": "code",
   "execution_count": null,
   "metadata": {},
   "outputs": [],
   "source": [
    "# 指定されたフォルダーを削除する関数\n",
    "\n",
    "import os, shutil\n",
    "\n",
    "def deleteFolder():    \n",
    "    # 削除するフォルダーのパスを取得\n",
    "    path = input('削除するフォルダーのパスを入力してください>')\n",
    "\n",
    "    if os.path.isdir(path):              # 指定されたパスが存在する\n",
    "        print(path)                      # 指定されたパスを出力\n",
    "        ans = input('削除しますか？(Y)') # 削除するか確認\n",
    "        if ans == 'Y':                   # 'Y'が入力されたら\n",
    "            shutil.rmtree(path)          # 完全に削除する\n",
    "            print('削除しました。')\n",
    "\n",
    "    else:                                # 指定されたパスが存在しない\n",
    "        print('指定したフォルダーは存在しません。')"
   ]
  },
  {
   "cell_type": "code",
   "execution_count": null,
   "metadata": {},
   "outputs": [],
   "source": [
    "# パスを指定してフォルダーを削除する\n",
    "deleteFolder()"
   ]
  },
  {
   "cell_type": "code",
   "execution_count": null,
   "metadata": {},
   "outputs": [],
   "source": [
    "import os\n",
    "# カレントディレクトリにファイルを作成する\n",
    "testFile = open('sample.txt', 'w')\n",
    "testFile.write('ファイルに書き込みます。')\n",
    "testFile.close()\n",
    "# カレントディレクトリにフォルダーを作成する\n",
    "os.makedirs('new')"
   ]
  },
  {
   "cell_type": "code",
   "execution_count": null,
   "metadata": {},
   "outputs": [],
   "source": [
    "# ファイルとフォルダーの削除（ゴミ箱へ移動）\n",
    "import send2trash\n",
    "\n",
    "send2trash.send2trash('sample.txt') # ファイルを削除（ゴミ箱へ移動）\n",
    "send2trash.send2trash('new')        # フォルダーを削除（ゴミ箱へ移動）"
   ]
  },
  {
   "cell_type": "code",
   "execution_count": 3,
   "metadata": {},
   "outputs": [],
   "source": [
    "# 指定されたディレクトリのすべてのサブフォルダーとファイルを出力する関数\n",
    "import os\n",
    "\n",
    "def DispDir():\n",
    "    # ディレクトリのパスを取得\n",
    "    dir = input('ディレクトリのパスを入力してください>')\n",
    "\n",
    "    for foldername, subfolders, filenames in os.walk(dir):\n",
    "        print('現在のディレクトリは-->' + foldername)\n",
    "\n",
    "        for subfolder in subfolders:\n",
    "            print(foldername + 'のサブフォルダー:' + subfolder)\n",
    "\n",
    "        for filename in filenames:\n",
    "            print(foldername + 'のファイル:' + filename)\n",
    "\n",
    "        print('')"
   ]
  },
  {
   "cell_type": "code",
   "execution_count": 4,
   "metadata": {
    "scrolled": true
   },
   "outputs": [
    {
     "name": "stdout",
     "output_type": "stream",
     "text": [
      "ディレクトリのパスを入力してください>c:\\test\n",
      "現在のディレクトリは-->c:\\test\n",
      "c:\\testのサブフォルダー:recipe\n",
      "c:\\testのサブフォルダー:tips\n",
      "c:\\testのファイル:testData.txt\n",
      "\n",
      "現在のディレクトリは-->c:\\test\\recipe\n",
      "c:\\test\\recipeのファイル:recipi1.txt\n",
      "c:\\test\\recipeのファイル:recipi2.txt\n",
      "\n",
      "現在のディレクトリは-->c:\\test\\tips\n",
      "c:\\test\\tipsのファイル:mtTips.txt\n",
      "\n"
     ]
    }
   ],
   "source": [
    "DispDir()"
   ]
  },
  {
   "cell_type": "code",
   "execution_count": null,
   "metadata": {},
   "outputs": [],
   "source": [
    "# ZIPファイルを作成して任意のファイルを圧縮する関数\n",
    "\n",
    "import os, zipfile\n",
    "\n",
    "def CreateZip():\n",
    "    # ディレクトリのパスを取得\n",
    "    drc = input('ディレクトリのパスを入力してください >')\n",
    "    # ZIPファイルの名前を取得\n",
    "    name = input('作成するZIPファイルの名前に.zipを付けて入力してください >')\n",
    "    # ZIP圧縮するファイルのパスを取得\n",
    "    fpath = input('ZIP圧縮するファイルのパスを入力してください >')\n",
    "    # ディレクトリを移動\n",
    "    os.chdir(drc)\n",
    "    # ZIPファイルを作成し書き込みモードで開く\n",
    "    new_zip = zipfile.ZipFile(name, 'w')\n",
    "    # ZIPファイルにファイルを追加する\n",
    "    new_zip.write(fpath, compress_type=zipfile.ZIP_DEFLATED)\n",
    "    # ZIPファイルを閉じる\n",
    "    new_zip.close()\n",
    "    print('ZIPファイルの作成が完了しました。')"
   ]
  },
  {
   "cell_type": "code",
   "execution_count": null,
   "metadata": {},
   "outputs": [],
   "source": [
    "CreateZip()"
   ]
  },
  {
   "cell_type": "code",
   "execution_count": null,
   "metadata": {},
   "outputs": [],
   "source": [
    "# ZIPファイルに任意のファイルを追加する関数\n",
    "\n",
    "import os, zipfile\n",
    "\n",
    "def CreateZip():\n",
    "    # ディレクトリのパスを取得\n",
    "    drc = input('ディレクトリのパスを入力してください >')\n",
    "    # ZIPファイルの名前を取得\n",
    "    name = input('ZIPファイルの名前に.zipを付けて入力してください >')\n",
    "    # ZIP圧縮するファイルのパスを取得\n",
    "    fpath = input('ZIP圧縮するファイルのパスを入力してください >')\n",
    "    # ディレクトリを移動\n",
    "    os.chdir(drc)\n",
    "    # ZIPファイルを追加モードで開く\n",
    "    new_zip = zipfile.ZipFile(name, 'a')\n",
    "    # ZIPファイルにファイルを追加する\n",
    "    new_zip.write(fpath, compress_type=zipfile.ZIP_DEFLATED)\n",
    "    # ZIPファイルを閉じる\n",
    "    new_zip.close()\n",
    "    print('ZIPファイルへの追加が完了しました。')"
   ]
  },
  {
   "cell_type": "code",
   "execution_count": null,
   "metadata": {},
   "outputs": [],
   "source": [
    "# フォルダーごとZIP圧縮する（1回目）\n",
    "CreateZip()"
   ]
  },
  {
   "cell_type": "code",
   "execution_count": null,
   "metadata": {},
   "outputs": [],
   "source": [
    "# フォルダーごとZIP圧縮する（2回目）\n",
    "CreateZip()"
   ]
  },
  {
   "cell_type": "code",
   "execution_count": null,
   "metadata": {},
   "outputs": [],
   "source": [
    "# ZIPファイルのすべてのファイル名のリストを取得\n",
    "\n",
    "import os, zipfile\n",
    "\n",
    "os.chdir('C:/mydata')\n",
    "zp = zipfile.ZipFile('mydoc.zip')\n",
    "zp.namelist()"
   ]
  },
  {
   "cell_type": "code",
   "execution_count": null,
   "metadata": {},
   "outputs": [],
   "source": [
    "# 圧縮前後のファイルサイズを取得\n",
    "\n",
    "# ZIPファイルのdoc以下に格納されているdocument1.txtのZipInfoオブジェクトを生成\n",
    "info = zp.getinfo('doc/document1.txt') # モードを省略すると読み取り専用で開く\n",
    "info.file_size  # 圧縮前のファイルサイズを取得"
   ]
  },
  {
   "cell_type": "code",
   "execution_count": null,
   "metadata": {},
   "outputs": [],
   "source": [
    "info.compress_size  # 圧縮後のファイルサイズを取得"
   ]
  },
  {
   "cell_type": "code",
   "execution_count": null,
   "metadata": {},
   "outputs": [],
   "source": [
    "# 圧縮率を表示してみる\n",
    "'圧縮率は{}です。'.format(round(info.file_size / info.compress_size, 2))"
   ]
  },
  {
   "cell_type": "code",
   "execution_count": null,
   "metadata": {},
   "outputs": [],
   "source": [
    "# C:\\mydata内のmydoc.zipの中身をC:\\mydata\\exp以下に展開する\n",
    "\n",
    "import os, zipfile\n",
    "# ディレクトリを移動\n",
    "os.chdir('C:/mydata')\n",
    "# ZIPファイルを読み込み専用モードで開く\n",
    "zip_obj = zipfile.ZipFile('mydoc.zip')\n",
    "# C:\\mydata\\\\xpにnew.zipの中身を展開する\n",
    "zip_obj.extractall('C:/mydata/exp')"
   ]
  },
  {
   "cell_type": "code",
   "execution_count": null,
   "metadata": {},
   "outputs": [],
   "source": [
    "# 特定のファイルのみを展開する\n",
    "\n",
    "import os, zipfile\n",
    "# ディレクトリを移動\n",
    "os.chdir('C:/mydata')\n",
    "# ZIPファイルを読み込み専用モードで開く\n",
    "zip_obj = zipfile.ZipFile('mydoc.zip')\n",
    "# mydoc.zipのdocument1.txtをexp_recipe内に展開\n",
    "zip_obj.extract('document1.txt', 'exp_recipe')\n",
    "zip_obj.close()"
   ]
  },
  {
   "cell_type": "code",
   "execution_count": null,
   "metadata": {},
   "outputs": [],
   "source": [
    "# ディレクトリを移動\n",
    "os.chdir('C:/mydata')\n",
    "# ZIPファイルを読み込み専用モードで開く\n",
    "zip_obj = zipfile.ZipFile('mydoc.zip')\n",
    "# new.zipのdocフォルダー内のdocument1.txtをexp_recipe内に展開\n",
    "zip_obj.extract('doc/document1.txt', 'exp_recipe')\n",
    "zip_obj.close()"
   ]
  },
  {
   "cell_type": "code",
   "execution_count": null,
   "metadata": {},
   "outputs": [],
   "source": []
  }
 ],
 "metadata": {
  "kernelspec": {
   "display_name": "Python 3",
   "language": "python",
   "name": "python3"
  },
  "language_info": {
   "codemirror_mode": {
    "name": "ipython",
    "version": 3
   },
   "file_extension": ".py",
   "mimetype": "text/x-python",
   "name": "python",
   "nbconvert_exporter": "python",
   "pygments_lexer": "ipython3",
   "version": "3.7.6"
  }
 },
 "nbformat": 4,
 "nbformat_minor": 2
}
