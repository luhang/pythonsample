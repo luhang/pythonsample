{
 "cells": [
  {
   "cell_type": "code",
   "execution_count": null,
   "metadata": {},
   "outputs": [],
   "source": [
    "# Notebookのカレントディレクトリを取得する\n",
    "\n",
    "import os    # osモジュールをインポート\n",
    "os.getcwd()  # カレントディレクトリを取得"
   ]
  },
  {
   "cell_type": "code",
   "execution_count": null,
   "metadata": {},
   "outputs": [],
   "source": [
    "# カレントディレクトリを変更する\n",
    "\n",
    "import os                       # osモジュールをインポート\n",
    "os.chdir('C:/Windows/System32') # Cドライブの「Windows」→「System32」に移動\n",
    "os.getcwd()                     # カレントディレクトリを取得"
   ]
  },
  {
   "cell_type": "code",
   "execution_count": null,
   "metadata": {},
   "outputs": [],
   "source": [
    "# カレントディレクトリを元に戻す\n",
    "\n",
    "import os                         # osモジュールをインポート\n",
    "os.chdir('元のカレントディレクトリのパスをここに入力')\n",
    "os.getcwd()                       # カレントディレクトリを取得"
   ]
  },
  {
   "cell_type": "code",
   "execution_count": null,
   "metadata": {},
   "outputs": [],
   "source": [
    "# 新規のフォルダーを作成する\n",
    "\n",
    "import os                        # osモジュールをインポート\n",
    "os.makedirs('C:/test/sample/my') # Cドライブ以下にtest→sample→myを作成"
   ]
  },
  {
   "cell_type": "code",
   "execution_count": null,
   "metadata": {},
   "outputs": [],
   "source": [
    "# カレントディレクトリの確認\n",
    "\n",
    "import os\n",
    "# カレントディレクトリの絶対パスを取得\n",
    "os.path.abspath('.')"
   ]
  },
  {
   "cell_type": "code",
   "execution_count": null,
   "metadata": {},
   "outputs": [],
   "source": [
    "# 絶対パス／相対パスの確認\n",
    "\n",
    "# カレントディレクトリのパスをos.path.abspath()で取得して引数にする\n",
    "os.path.isabs(os.path.abspath('.'))"
   ]
  },
  {
   "cell_type": "code",
   "execution_count": null,
   "metadata": {},
   "outputs": [],
   "source": [
    "# 相対パスを取得する\n",
    "\n",
    "import os\n",
    "# Cドライブ直下からWindowsフォルダーへの相対パスを調べる\n",
    "os.path.relpath('C:/Windows', 'C:/')"
   ]
  },
  {
   "cell_type": "code",
   "execution_count": null,
   "metadata": {},
   "outputs": [],
   "source": [
    "# C:\\Program FilesからC:\\Windowsへの相対パス\n",
    "os.path.relpath('C:/Windows', 'C:/Program Files')"
   ]
  },
  {
   "cell_type": "code",
   "execution_count": null,
   "metadata": {},
   "outputs": [],
   "source": [
    "# カレントディレクトリからC:\\Windowsへの相対パスを調べる\n",
    "os.path.relpath('C:/Windows', '.')"
   ]
  },
  {
   "cell_type": "code",
   "execution_count": null,
   "metadata": {},
   "outputs": [],
   "source": [
    "# ディレクトリパスとベース名の取得\n",
    "\n",
    "import os\n",
    "# 「メモ帳」の実行ファイルのパス\n",
    "path = 'C:/Windows/System32/notepad.exe'\n",
    "# ディレクトリパスを取得\n",
    "os.path.dirname(path)"
   ]
  },
  {
   "cell_type": "code",
   "execution_count": null,
   "metadata": {},
   "outputs": [],
   "source": [
    "# ベースパスを取得\n",
    "os.path.basename(path)"
   ]
  },
  {
   "cell_type": "code",
   "execution_count": null,
   "metadata": {},
   "outputs": [],
   "source": [
    "# ディレクトリパスとベース名をタプルにする\n",
    "\n",
    "path = 'C:/Windows/System32/notepad.exe'\n",
    "(os.path.dirname(path), os.path.basename(path))"
   ]
  },
  {
   "cell_type": "code",
   "execution_count": null,
   "metadata": {},
   "outputs": [],
   "source": [
    "# ディレクトリパスとベース名を格納したタプルを取得する\n",
    "\n",
    "os.path.split(path)"
   ]
  },
  {
   "cell_type": "code",
   "execution_count": null,
   "metadata": {},
   "outputs": [],
   "source": [
    "# OSが使用しているパス区切り記号を取得\n",
    "\n",
    "import os\n",
    "os.sep"
   ]
  },
  {
   "cell_type": "code",
   "execution_count": null,
   "metadata": {},
   "outputs": [],
   "source": [
    "# パスを分解してリストとして取得する\n",
    "\n",
    "path = 'C:\\\\Windows\\\\System32\\\\notepad.exe'\n",
    "# os.sepを引数にしてパスを分解する\n",
    "path.split(os.sep)"
   ]
  },
  {
   "cell_type": "code",
   "execution_count": null,
   "metadata": {},
   "outputs": [],
   "source": [
    "# パス区切り記号を引数にしてパスを分解する\n",
    "\n",
    "path.split('\\\\')"
   ]
  },
  {
   "cell_type": "code",
   "execution_count": null,
   "metadata": {},
   "outputs": [],
   "source": [
    "# 「メモ帳」の実行ファイルのサイズを取得する\n",
    "\n",
    "import os\n",
    "os.path.getsize('C:/Windows/System32/notepad.exe')"
   ]
  },
  {
   "cell_type": "code",
   "execution_count": null,
   "metadata": {},
   "outputs": [],
   "source": [
    "# System32'フォルダーのファイルとフォルダーの一覧を取得する\n",
    "\n",
    "import os\n",
    "os.listdir('C:/Windows/System32')"
   ]
  },
  {
   "cell_type": "code",
   "execution_count": null,
   "metadata": {},
   "outputs": [],
   "source": [
    "# フォルダー内のファイルの合計サイズを取得する関数\n",
    "import os\n",
    "\n",
    "def fileSize(path):\n",
    "    # ファイルサイズを保持する変数\n",
    "    size = 0\n",
    "    # フォルダー内のすべてのファイル名をループ処理\n",
    "    for filename in os.listdir(path):\n",
    "        # ファイルサイズを取得してsizeに足し合わせる\n",
    "        size = size + os.path.getsize(\n",
    "                         # ディレクトリパスとファイル名を連結してフルパスを作る\n",
    "                         os.path.join(path, filename)\n",
    "                         )\n",
    "    # 合計サイズを出力\n",
    "    print(size)"
   ]
  },
  {
   "cell_type": "code",
   "execution_count": null,
   "metadata": {},
   "outputs": [],
   "source": [
    "# ディレクトリを指定してfileSize()を実行\n",
    "fileSize('C:/Windows/System32')"
   ]
  },
  {
   "cell_type": "code",
   "execution_count": null,
   "metadata": {},
   "outputs": [],
   "source": [
    "# os.path.join()でフォルダー名とファイル名を連結してパスを作る\n",
    "\n",
    "os.path.join('user', 'temp', 'document.txt')"
   ]
  },
  {
   "cell_type": "code",
   "execution_count": null,
   "metadata": {},
   "outputs": [],
   "source": [
    "# パスで指定した要素の存在をチェックする\n",
    "\n",
    "os.path.exists('C:/Windows') # CドライブにWindowsというディレクトリが存在する？"
   ]
  },
  {
   "cell_type": "code",
   "execution_count": null,
   "metadata": {},
   "outputs": [],
   "source": [
    "os.path.isfile('C:/Windows') # CドライブのWindowsはファイル？"
   ]
  },
  {
   "cell_type": "code",
   "execution_count": null,
   "metadata": {},
   "outputs": [],
   "source": [
    "os.path.isdir('C:/Windows') # CドライブのWindowsはフォルダー？"
   ]
  },
  {
   "cell_type": "code",
   "execution_count": null,
   "metadata": {},
   "outputs": [],
   "source": [
    "os.path.exists('D:/')       # Dドライブは存在する？"
   ]
  },
  {
   "cell_type": "code",
   "execution_count": null,
   "metadata": {},
   "outputs": [],
   "source": [
    "# リストの要素をShelveオブジェクトとしてファイルに保存する関数\n",
    "import shelve\n",
    "\n",
    "def saveByShelve(fname, key, list):\n",
    "    shelve_file = shelve.open(fname)    # ファイルfnameをオープン\n",
    "    shelve_file[key] = list             # キーの名前を'key'にしてlistを保存する\n",
    "    shelve_file.close()                 # ファイルを閉じる\n",
    "    print('ファイルを保存しました。')   # メッセージ（任意）"
   ]
  },
  {
   "cell_type": "code",
   "execution_count": null,
   "metadata": {},
   "outputs": [],
   "source": [
    "# 保存データを作成してsaveByShelve()を実行\n",
    "\n",
    "fname = 'shelve'                            # ファイル名\n",
    "key = 'd1'                                  # キー\n",
    "lst = ['秀和太郎', '秀和花子', '築地次郎']  # 保存するデータ\n",
    "saveByShelve(fname, key, lst)"
   ]
  },
  {
   "cell_type": "code",
   "execution_count": null,
   "metadata": {},
   "outputs": [],
   "source": [
    "# Shelveオブジェクトのファイルをオープンしてデータを取り出す\n",
    "\n",
    "# データの読み込みのみ\n",
    "shelve_file = shelve.open(fname) # friendファイルを開く\n",
    "print(shelve_file[key])          # 保存済みのデータを取得して出力\n",
    "shelve_file.close()              # ファイルを閉じる"
   ]
  },
  {
   "cell_type": "code",
   "execution_count": null,
   "metadata": {},
   "outputs": [],
   "source": [
    "# 作成済みのhelveオブジェクトのファイルにデータを追加し一覧を取得\n",
    "\n",
    "fname = 'shelve'                    # ファイル名\n",
    "key = 'd2'                          # キー\n",
    "lst = ['A1', 'B2', 'A2']            # 保存するデータ\n",
    "saveByShelve(fname, key, lst)       # データを保存\n",
    "\n",
    "shelve_file = shelve.open(fname)    # friendファイルを開く\n",
    "keys = list(shelve_file.keys())     # 登録済みのキーの一覧を取得\n",
    "print('keys = ', keys)\n",
    "values = list(shelve_file.values()) # 登録済みの値の一覧を取得\n",
    "values = list(shelve_file.values()) # 登録済みの値の一覧を取得\n",
    "print('values = ', values)\n",
    "shelve_file.close()                 # ファイルを閉じる"
   ]
  },
  {
   "cell_type": "code",
   "execution_count": null,
   "metadata": {},
   "outputs": [],
   "source": [
    "# 辞書を格納したリストをpprint.pprint()メソッドで整形して出力\n",
    "name_id = [{'name':'秀和太郎', 'id':'A101'},{'name':'秀和花子', 'id':'B101'},\n",
    "           {'name':'築地次郎', 'id':'A102'}]\n",
    "import pprint\n",
    "pprint.pprint(name_id)"
   ]
  },
  {
   "cell_type": "code",
   "execution_count": null,
   "metadata": {},
   "outputs": [],
   "source": [
    "# name_idをpprint.pformat()でフォーマットする\n",
    "pprint.pformat(name_id)"
   ]
  },
  {
   "cell_type": "code",
   "execution_count": null,
   "metadata": {},
   "outputs": [],
   "source": [
    "# リストの定義コードを別ファイルに保存する関数\n",
    "\n",
    "import pprint                      # pprintのインポート\n",
    "\n",
    "def saveListDef(fname, lst_name, lst):\n",
    "    # ソースファイルを書き込みモードで開く\n",
    "    file = open(fname,             # 拡張子を含むファイル名\n",
    "                'w',               # 書き込みモードを指定\n",
    "                encoding = 'utf-8' # 文字コードをUTF-8にする\n",
    "                )\n",
    "    # リストの定義コードを作成してファイルに書き込む\n",
    "    file.write(lst_name + ' = ' + pprint.pformat(lst) + '\\n')\n",
    "    # ファイルを閉じる\n",
    "    file.close()"
   ]
  },
  {
   "cell_type": "code",
   "execution_count": null,
   "metadata": {},
   "outputs": [],
   "source": [
    "# リストを定義してsaveListDef()を実行\n",
    "\n",
    "# ファイル名\n",
    "fname = 'customer.py'\n",
    "# 変数名\n",
    "lst_name = 'name_id'\n",
    "# 辞書のリストを作成\n",
    "lst = [{'name':'秀和太郎', 'id':'A101'},\n",
    " {'name':'秀和花子', 'id':'B101'},\n",
    " {'name':'築地次郎', 'id':'A102'}]\n",
    "saveListDef(fname, lst_name, lst)"
   ]
  },
  {
   "cell_type": "code",
   "execution_count": null,
   "metadata": {},
   "outputs": [],
   "source": [
    "# 別ファイルに保存された変数（リスト）を呼出す\n",
    "\n",
    "# customer.pyをインポート\n",
    "import customer\n",
    "# customerモジュールに保存されている辞書のリストを出力\n",
    "print(customer.name_id)"
   ]
  }
 ],
 "metadata": {
  "kernelspec": {
   "display_name": "Python 3",
   "language": "python",
   "name": "python3"
  },
  "language_info": {
   "codemirror_mode": {
    "name": "ipython",
    "version": 3
   },
   "file_extension": ".py",
   "mimetype": "text/x-python",
   "name": "python",
   "nbconvert_exporter": "python",
   "pygments_lexer": "ipython3",
   "version": "3.7.6"
  }
 },
 "nbformat": 4,
 "nbformat_minor": 2
}
