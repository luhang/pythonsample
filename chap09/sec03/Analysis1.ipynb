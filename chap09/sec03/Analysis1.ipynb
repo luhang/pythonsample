{
 "cells": [
  {
   "cell_type": "code",
   "execution_count": 1,
   "metadata": {},
   "outputs": [
    {
     "name": "stdout",
     "output_type": "stream",
     "text": [
      "わたし\t名詞,代名詞,一般,*,*,*,わたし,ワタシ,ワタシ\n",
      "は\t助詞,係助詞,*,*,*,*,は,ハ,ワ\n",
      "Python\t名詞,固有名詞,組織,*,*,*,Python,*,*\n",
      "の\t助詞,連体化,*,*,*,*,の,ノ,ノ\n",
      "プログラム\t名詞,サ変接続,*,*,*,*,プログラム,プログラム,プログラム\n",
      "です\t助動詞,*,*,*,特殊・デス,基本形,です,デス,デス\n"
     ]
    }
   ],
   "source": [
    "# 形態素解析を行う\n",
    "\n",
    "from janome.tokenizer import Tokenizer # ①janome.tokenizerをインポート\n",
    "t = Tokenizer()                        # ②Tokenizerオブジェクトを生成\n",
    "tokens = t.tokenize('わたしはPythonのプログラムです')  # ③形態素解析\n",
    "for token in tokens:                   # ③解析結果のリストから抽出\n",
    "    print(token)"
   ]
  },
  {
   "cell_type": "code",
   "execution_count": 2,
   "metadata": {},
   "outputs": [
    {
     "data": {
      "text/plain": [
       "[<janome.tokenizer.Token at 0x2c9a420d208>,\n",
       " <janome.tokenizer.Token at 0x2c9a420d248>,\n",
       " <janome.tokenizer.Token at 0x2c9a420d288>,\n",
       " <janome.tokenizer.Token at 0x2c9a420d2c8>,\n",
       " <janome.tokenizer.Token at 0x2c9a420d308>,\n",
       " <janome.tokenizer.Token at 0x2c9a420d388>]"
      ]
     },
     "execution_count": 2,
     "metadata": {},
     "output_type": "execute_result"
    }
   ],
   "source": [
    "tokens"
   ]
  },
  {
   "cell_type": "code",
   "execution_count": 3,
   "metadata": {},
   "outputs": [
    {
     "name": "stdout",
     "output_type": "stream",
     "text": [
      "わたし\t名詞,代名詞,一般,*,*,*,わたし,ワタシ,ワタシ\n"
     ]
    }
   ],
   "source": [
    "print(tokens[0])"
   ]
  },
  {
   "cell_type": "code",
   "execution_count": 4,
   "metadata": {},
   "outputs": [
    {
     "data": {
      "text/plain": [
       "['わたし', 'は', 'Python', 'の', 'プログラム', 'です']"
      ]
     },
     "execution_count": 4,
     "metadata": {},
     "output_type": "execute_result"
    }
   ],
   "source": [
    "# 内包表記を使って文章の中のすべての形態素の見出しを取り出す\n",
    "[token.surface for token in tokens]"
   ]
  },
  {
   "cell_type": "code",
   "execution_count": 5,
   "metadata": {},
   "outputs": [
    {
     "name": "stdout",
     "output_type": "stream",
     "text": [
      "名詞,代名詞,一般,*\n"
     ]
    }
   ],
   "source": [
    "# リストの1つ目のTokenオブジェクトから品詞を取り出す\n",
    "print(tokens[0].part_of_speech)"
   ]
  },
  {
   "cell_type": "code",
   "execution_count": 6,
   "metadata": {},
   "outputs": [
    {
     "name": "stdout",
     "output_type": "stream",
     "text": [
      "*\n"
     ]
    }
   ],
   "source": [
    "# リストの1つ目のTokenオブジェクトから活用型を取り出す\n",
    "print(tokens[0].infl_type)"
   ]
  },
  {
   "cell_type": "code",
   "execution_count": 7,
   "metadata": {},
   "outputs": [
    {
     "name": "stdout",
     "output_type": "stream",
     "text": [
      "わたし\n"
     ]
    }
   ],
   "source": [
    "# リストの1つ目のTokenオブジェクトから原型を取り出す\n",
    "print(tokens[0].base_form)"
   ]
  },
  {
   "cell_type": "code",
   "execution_count": 8,
   "metadata": {},
   "outputs": [
    {
     "name": "stdout",
     "output_type": "stream",
     "text": [
      "ワタシ\n"
     ]
    }
   ],
   "source": [
    "# リストの1つ目のTokenオブジェクトから読みを取り出す\n",
    "print(tokens[0].reading)"
   ]
  },
  {
   "cell_type": "code",
   "execution_count": 9,
   "metadata": {},
   "outputs": [
    {
     "name": "stdout",
     "output_type": "stream",
     "text": [
      "ワタシ\n"
     ]
    }
   ],
   "source": [
    "# リストの1つ目のTokenオブジェクトから発音を取り出す\n",
    "print(tokens[0].phonetic)"
   ]
  },
  {
   "cell_type": "code",
   "execution_count": 10,
   "metadata": {},
   "outputs": [
    {
     "name": "stdout",
     "output_type": "stream",
     "text": [
      "　Pythonのソースコードの書き方は、オブジェクト指向、命令型、手続き型、関数型などの形式に対応していますので、状況に応じて使い分けることができます。\n",
      "　オブジェクト指向を使えばより高度なプログラミングを行えますが、命令型、手続き型、関数型はプログラムを書くための基本なので、まずはこれらの書き方を学んでからオブジェクト指向に進むのが一般的です。\n",
      "　Pythonの用途は広く、PC上で動作する一般的なアプリケーションの開発から、Webアプリ、ゲーム、画像処理をはじめとする各種自動処理に使われる一方、統計分析、AI（人工知能）開発のためのディープラーニング（深層学習）の分野で多く利用されています。\n",
      "\n"
     ]
    }
   ],
   "source": [
    "# テキストファイルのデータをまとめて読み込む\n",
    "\n",
    "file = open(\n",
    "    'sample.txt',       # ソースファイルと同じ場所にあるrandom.txtを開く\n",
    "    'r',                # 読み取りモード\n",
    "    encoding = 'utf_8'  # テキストファイルのエンコーディング方式を指定\n",
    "    )\n",
    "data = file.read()   # ファイル終端までのすべてのデータを取得\n",
    "\n",
    "file.close()             # ファイルオブジェクトをクローズ\n",
    "lines = data.split('\\n') # 改行で区切った文字列リストを取得\n",
    "for line in lines:       # リストから要素を1つずつ取り出す\n",
    "    print(line)"
   ]
  },
  {
   "cell_type": "code",
   "execution_count": 11,
   "metadata": {},
   "outputs": [
    {
     "name": "stdout",
     "output_type": "stream",
     "text": [
      "　Pythonのソースコードの書き方は、オブジェクト指向、命令型、手続き型、関数型などの形式に対応していますので、状況に応じて使い分けることができます。\n",
      "\n",
      "　オブジェクト指向を使えばより高度なプログラミングを行えますが、命令型、手続き型、関数型はプログラムを書くための基本なので、まずはこれらの書き方を学んでからオブジェクト指向に進むのが一般的です。\n",
      "\n",
      "　Pythonの用途は広く、PC上で動作する一般的なアプリケーションの開発から、Webアプリ、ゲーム、画像処理をはじめとする各種自動処理に使われる一方、統計分析、AI（人工知能）開発のためのディープラーニング（深層学習）の分野で多く利用されています。\n",
      "\n"
     ]
    }
   ],
   "source": [
    "# テキストファイルから1行ずつリストに読み込む\n",
    "\n",
    "file = open(\n",
    "    'sample.txt',           # ソースファイルと同じ場所にあるrandom.txtを開く\n",
    "    'r',encoding = 'utf_8'  # 読み取りモード\n",
    "    )\n",
    "lines = file.readlines()  # 1行ずつ読み込む(各要素の末尾に改行文字) file.close()\n",
    "for line in lines:\n",
    "    print (line)"
   ]
  },
  {
   "cell_type": "code",
   "execution_count": 12,
   "metadata": {},
   "outputs": [
    {
     "name": "stdout",
     "output_type": "stream",
     "text": [
      "　Pythonのソースコードの書き方は、オブジェクト指向、命令型、手続き型、関数型などの形式に対応していますので、状況に応じて使い分けることができます。\n",
      "\n",
      "　オブジェクト指向を使えばより高度なプログラミングを行えますが、命令型、手続き型、関数型はプログラムを書くための基本なので、まずはこれらの書き方を学んでからオブジェクト指向に進むのが一般的です。\n",
      "\n",
      "　Pythonの用途は広く、PC上で動作する一般的なアプリケーションの開発から、Webアプリ、ゲーム、画像処理をはじめとする各種自動処理に使われる一方、統計分析、AI（人工知能）開発のためのディープラーニング（深層学習）の分野で多く利用されています。\n",
      "\n"
     ]
    }
   ],
   "source": [
    "# 1行ずつ読み込みできるファイルオブジェクトを利用する\n",
    "\n",
    "with open('sample.txt',  # ファイル名\n",
    "          'r',                # モード\n",
    "          encoding = 'utf_8'  # エンコード方式\n",
    "          ) as file:          #ファイルオブジェクトを変数fileに保持する\n",
    "    for line in file:\n",
    "        print(line)"
   ]
  },
  {
   "cell_type": "code",
   "execution_count": null,
   "metadata": {},
   "outputs": [],
   "source": []
  }
 ],
 "metadata": {
  "kernelspec": {
   "display_name": "Python 3",
   "language": "python",
   "name": "python3"
  },
  "language_info": {
   "codemirror_mode": {
    "name": "ipython",
    "version": 3
   },
   "file_extension": ".py",
   "mimetype": "text/x-python",
   "name": "python",
   "nbconvert_exporter": "python",
   "pygments_lexer": "ipython3",
   "version": "3.7.6"
  }
 },
 "nbformat": 4,
 "nbformat_minor": 2
}
