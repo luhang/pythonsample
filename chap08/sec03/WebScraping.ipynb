{
 "cells": [
  {
   "cell_type": "code",
   "execution_count": null,
   "metadata": {},
   "outputs": [],
   "source": [
    "# 「Yahoo!ニュース」が配信するRSSからヘッドラインを抜き出す\n",
    "\n",
    "import requests\n",
    "from bs4 import BeautifulSoup                                         # ①\n",
    "\n",
    "xml = requests.get('http://news.yahoo.co.jp/pickup/science/rss.xml')  # ②\n",
    "soup = BeautifulSoup(xml.text, 'html.parser')                         # ③\n",
    "for news in soup.findAll('item'):                                     # ④\n",
    "    print(news.title.string)                                          # ⑤"
   ]
  },
  {
   "cell_type": "code",
   "execution_count": null,
   "metadata": {},
   "outputs": [],
   "source": []
  }
 ],
 "metadata": {
  "kernelspec": {
   "display_name": "Python 3",
   "language": "python",
   "name": "python3"
  },
  "language_info": {
   "codemirror_mode": {
    "name": "ipython",
    "version": 3
   },
   "file_extension": ".py",
   "mimetype": "text/x-python",
   "name": "python",
   "nbconvert_exporter": "python",
   "pygments_lexer": "ipython3",
   "version": "3.7.6"
  }
 },
 "nbformat": 4,
 "nbformat_minor": 2
}
