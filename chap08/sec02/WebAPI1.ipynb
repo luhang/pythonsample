{
 "cells": [
  {
   "cell_type": "code",
   "execution_count": 1,
   "metadata": {
    "scrolled": true
   },
   "outputs": [
    {
     "name": "stdout",
     "output_type": "stream",
     "text": [
      "{\"pinpointLocations\":[{\"link\":\"http://weather.livedoor.com/area/forecast/1310100\",\"name\":\"\\u5343\\u4ee3\\u7530\\u533a\"},{\"link\":\"http://weather.livedoor.com/area/forecast/1310200\",\"name\":\"\\u4e2d\\u592e\\u533a\"},{\"link\":\"http://weather.livedoor.com/area/forecast/1310300\",\"name\":\"\\u6e2f\\u533a\"},{\"link\":\"http://weather.livedoor.com/area/forecast/1310400\",\"name\":\"\\u65b0\\u5bbf\\u533a\"},{\"link\":\"http://weather.livedoor.com/area/forecast/1310500\",\"name\":\"\\u6587\\u4eac\\u533a\"},{\"link\":\"http://weather.livedoor.com/area/forecast/1310600\",\"name\":\"\\u53f0\\u6771\\u533a\"},{\"link\":\"http://weather.livedoor.com/area/forecast/1310700\",\"name\":\"\\u58a8\\u7530\\u533a\"},{\"link\":\"http://weather.livedoor.com/area/forecast/1310800\",\"name\":\"\\u6c5f\\u6771\\u533a\"},{\"link\":\"http://weather.livedoor.com/area/forecast/1310900\",\"name\":\"\\u54c1\\u5ddd\\u533a\"},{\"link\":\"http://weather.livedoor.com/area/forecast/1311000\",\"name\":\"\\u76ee\\u9ed2\\u533a\"},{\"link\":\"http://weather.livedoor.com/area/forecast/1311100\",\"name\":\"\\u5927\\u7530\\u533a\"},{\"link\":\"http://weather.livedoor.com/area/forecast/1311200\",\"name\":\"\\u4e16\\u7530\\u8c37\\u533a\"},{\"link\":\"http://weather.livedoor.com/area/forecast/1311300\",\"name\":\"\\u6e0b\\u8c37\\u533a\"},{\"link\":\"http://weather.livedoor.com/area/forecast/1311400\",\"name\":\"\\u4e2d\\u91ce\\u533a\"},{\"link\":\"http://weather.livedoor.com/area/forecast/1311500\",\"name\":\"\\u6749\\u4e26\\u533a\"},{\"link\":\"http://weather.livedoor.com/area/forecast/1311600\",\"name\":\"\\u8c4a\\u5cf6\\u533a\"},{\"link\":\"http://weather.livedoor.com/area/forecast/1311700\",\"name\":\"\\u5317\\u533a\"},{\"link\":\"http://weather.livedoor.com/area/forecast/1311800\",\"name\":\"\\u8352\\u5ddd\\u533a\"},{\"link\":\"http://weather.livedoor.com/area/forecast/1311900\",\"name\":\"\\u677f\\u6a4b\\u533a\"},{\"link\":\"http://weather.livedoor.com/area/forecast/1312000\",\"name\":\"\\u7df4\\u99ac\\u533a\"},{\"link\":\"http://weather.livedoor.com/area/forecast/1312100\",\"name\":\"\\u8db3\\u7acb\\u533a\"},{\"link\":\"http://weather.livedoor.com/area/forecast/1312200\",\"name\":\"\\u845b\\u98fe\\u533a\"},{\"link\":\"http://weather.livedoor.com/area/forecast/1312300\",\"name\":\"\\u6c5f\\u6238\\u5ddd\\u533a\"},{\"link\":\"http://weather.livedoor.com/area/forecast/1320100\",\"name\":\"\\u516b\\u738b\\u5b50\\u5e02\"},{\"link\":\"http://weather.livedoor.com/area/forecast/1320200\",\"name\":\"\\u7acb\\u5ddd\\u5e02\"},{\"link\":\"http://weather.livedoor.com/area/forecast/1320300\",\"name\":\"\\u6b66\\u8535\\u91ce\\u5e02\"},{\"link\":\"http://weather.livedoor.com/area/forecast/1320400\",\"name\":\"\\u4e09\\u9df9\\u5e02\"},{\"link\":\"http://weather.livedoor.com/area/forecast/1320500\",\"name\":\"\\u9752\\u6885\\u5e02\"},{\"link\":\"http://weather.livedoor.com/area/forecast/1320600\",\"name\":\"\\u5e9c\\u4e2d\\u5e02\"},{\"link\":\"http://weather.livedoor.com/area/forecast/1320700\",\"name\":\"\\u662d\\u5cf6\\u5e02\"},{\"link\":\"http://weather.livedoor.com/area/forecast/1320800\",\"name\":\"\\u8abf\\u5e03\\u5e02\"},{\"link\":\"http://weather.livedoor.com/area/forecast/1320900\",\"name\":\"\\u753a\\u7530\\u5e02\"},{\"link\":\"http://weather.livedoor.com/area/forecast/1321000\",\"name\":\"\\u5c0f\\u91d1\\u4e95\\u5e02\"},{\"link\":\"http://weather.livedoor.com/area/forecast/1321100\",\"name\":\"\\u5c0f\\u5e73\\u5e02\"},{\"link\":\"http://weather.livedoor.com/area/forecast/1321200\",\"name\":\"\\u65e5\\u91ce\\u5e02\"},{\"link\":\"http://weather.livedoor.com/area/forecast/1321300\",\"name\":\"\\u6771\\u6751\\u5c71\\u5e02\"},{\"link\":\"http://weather.livedoor.com/area/forecast/1321400\",\"name\":\"\\u56fd\\u5206\\u5bfa\\u5e02\"},{\"link\":\"http://weather.livedoor.com/area/forecast/1321500\",\"name\":\"\\u56fd\\u7acb\\u5e02\"},{\"link\":\"http://weather.livedoor.com/area/forecast/1321800\",\"name\":\"\\u798f\\u751f\\u5e02\"},{\"link\":\"http://weather.livedoor.com/area/forecast/1321900\",\"name\":\"\\u72db\\u6c5f\\u5e02\"},{\"link\":\"http://weather.livedoor.com/area/forecast/1322000\",\"name\":\"\\u6771\\u5927\\u548c\\u5e02\"},{\"link\":\"http://weather.livedoor.com/area/forecast/1322100\",\"name\":\"\\u6e05\\u702c\\u5e02\"},{\"link\":\"http://weather.livedoor.com/area/forecast/1322200\",\"name\":\"\\u6771\\u4e45\\u7559\\u7c73\\u5e02\"},{\"link\":\"http://weather.livedoor.com/area/forecast/1322300\",\"name\":\"\\u6b66\\u8535\\u6751\\u5c71\\u5e02\"},{\"link\":\"http://weather.livedoor.com/area/forecast/1322400\",\"name\":\"\\u591a\\u6469\\u5e02\"},{\"link\":\"http://weather.livedoor.com/area/forecast/1322500\",\"name\":\"\\u7a32\\u57ce\\u5e02\"},{\"link\":\"http://weather.livedoor.com/area/forecast/1322700\",\"name\":\"\\u7fbd\\u6751\\u5e02\"},{\"link\":\"http://weather.livedoor.com/area/forecast/1322800\",\"name\":\"\\u3042\\u304d\\u308b\\u91ce\\u5e02\"},{\"link\":\"http://weather.livedoor.com/area/forecast/1322900\",\"name\":\"\\u897f\\u6771\\u4eac\\u5e02\"},{\"link\":\"http://weather.livedoor.com/area/forecast/1330300\",\"name\":\"\\u745e\\u7a42\\u753a\"},{\"link\":\"http://weather.livedoor.com/area/forecast/1330500\",\"name\":\"\\u65e5\\u306e\\u51fa\\u753a\"},{\"link\":\"http://weather.livedoor.com/area/forecast/1330700\",\"name\":\"\\u6a9c\\u539f\\u6751\"},{\"link\":\"http://weather.livedoor.com/area/forecast/1330800\",\"name\":\"\\u5965\\u591a\\u6469\\u753a\"}],\"link\":\"http://weather.livedoor.com/area/forecast/130010\",\"forecasts\":[{\"dateLabel\":\"\\u4eca\\u65e5\",\"telop\":\"\\u96e8\\u306e\\u3061\\u66c7\",\"date\":\"2020-01-23\",\"temperature\":{\"min\":null,\"max\":{\"celsius\":\"7\",\"fahrenheit\":\"44.6\"}},\"image\":{\"width\":50,\"url\":\"http://weather.livedoor.com/img/icon/20.gif\",\"title\":\"\\u96e8\\u306e\\u3061\\u66c7\",\"height\":31}},{\"dateLabel\":\"\\u660e\\u65e5\",\"telop\":\"\\u66c7\\u308a\",\"date\":\"2020-01-24\",\"temperature\":{\"min\":{\"celsius\":\"3\",\"fahrenheit\":\"37.4\"},\"max\":{\"celsius\":\"12\",\"fahrenheit\":\"53.6\"}},\"image\":{\"width\":50,\"url\":\"http://weather.livedoor.com/img/icon/8.gif\",\"title\":\"\\u66c7\\u308a\",\"height\":31}},{\"dateLabel\":\"\\u660e\\u5f8c\\u65e5\",\"telop\":\"\\u66c7\\u308a\",\"date\":\"2020-01-25\",\"temperature\":{\"min\":null,\"max\":null},\"image\":{\"width\":50,\"url\":\"http://weather.livedoor.com/img/icon/8.gif\",\"title\":\"\\u66c7\\u308a\",\"height\":31}}],\"location\":{\"city\":\"\\u6771\\u4eac\",\"area\":\"\\u95a2\\u6771\",\"prefecture\":\"\\u6771\\u4eac\\u90fd\"},\"publicTime\":\"2020-01-23T14:00:00\\u002b0900\",\"copyright\":{\"provider\":[{\"link\":\"http://tenki.jp/\",\"name\":\"\\u65e5\\u672c\\u6c17\\u8c61\\u5354\\u4f1a\"}],\"link\":\"http://weather.livedoor.com/\",\"title\":\"(C) LINE Corporation\",\"image\":{\"width\":118,\"link\":\"http://weather.livedoor.com/\",\"url\":\"http://weather.livedoor.com/img/cmn/livedoor.gif\",\"title\":\"livedoor \\u5929\\u6c17\\u60c5\\u5831\",\"height\":26}},\"title\":\"\\u6771\\u4eac\\u90fd \\u6771\\u4eac \\u306e\\u5929\\u6c17\",\"description\":{\"text\":\" \\u524d\\u7dda\\u304c\\u83ef\\u4e2d\\u304b\\u3089\\u897f\\u65e5\\u672c\\u3092\\u901a\\u3063\\u3066\\u4f0a\\u8c46\\u8af8\\u5cf6\\u4ed8\\u8fd1\\u306b\\u306e\\u3073\\u3066\\u304a\\u308a\\u3001\\u524d\\u7dda\\u4e0a\\u306e\\u56db\\u56fd\\u4ed8\\u8fd1\\u306b\\u306f\\u4f4e\\u6c17\\u5727\\u304c\\u3042\\u3063\\u3066\\u3001\\u6771\\u3078\\u9032\\u3093\\u3067\\u3044\\u307e\\u3059\\u3002\\n\\n \\u6771\\u4eac\\u5730\\u65b9\\u306f\\u3001\\u96e8\\u304c\\u964d\\u3063\\u3066\\u3044\\u307e\\u3059\\u3002\\n\\n 23\\u65e5\\u306f\\u3001\\u524d\\u7dda\\u3084\\u4f4e\\u6c17\\u5727\\u306e\\u5f71\\u97ff\\u306b\\u3088\\u308a\\u3001\\u96e8\\u3067\\u3001\\u591c\\u306f\\u66c7\\u308a\\u3068\\u306a\\u308b\\u3067\\u3057\\u3087\\u3046\\u3002\\u4f0a\\u8c46\\u8af8\\u5cf6\\u3067\\u306f\\u3001\\u96f7\\u3092\\u4f34\\u3063\\u3066\\u6fc0\\u3057\\u3044\\u96e8\\u306e\\u964d\\u308b\\u6240\\u304c\\u3042\\u308b\\u898b\\u8fbc\\u307f\\u3067\\u3059\\u3002\\n\\n 24\\u65e5\\u306f\\u3001\\u6c17\\u5727\\u306e\\u8c37\\u3084\\u5bd2\\u6c17\\u306e\\u5f71\\u97ff\\u306b\\u3088\\u308a\\u3001\\u304a\\u304a\\u3080\\u306d\\u66c7\\u308a\\u3068\\u306a\\u308b\\u3067\\u3057\\u3087\\u3046\\u3002\\n\\n\\u3010\\u95a2\\u6771\\u7532\\u4fe1\\u5730\\u65b9\\u3011\\n \\u95a2\\u6771\\u7532\\u4fe1\\u5730\\u65b9\\u306f\\u3001\\u96e8\\u3084\\u96ea\\u304c\\u964d\\u3063\\u3066\\u3044\\u307e\\u3059\\u3002\\n\\n 23\\u65e5\\u306f\\u3001\\u524d\\u7dda\\u3084\\u4f4e\\u6c17\\u5727\\u306e\\u5f71\\u97ff\\u306b\\u3088\\u308a\\u3001\\u96e8\\u3067\\u3001\\u306f\\u3058\\u3081\\u96ea\\u306e\\u6240\\u3082\\u3042\\u308a\\u307e\\u3059\\u304c\\u3001\\u591c\\u306f\\u304a\\u304a\\u3080\\u306d\\u66c7\\u308a\\u3068\\u306a\\u308b\\u3067\\u3057\\u3087\\u3046\\u3002\\u4f0a\\u8c46\\u8af8\\u5cf6\\u3067\\u306f\\u3001\\u96f7\\u3092\\u4f34\\u3063\\u3066\\u96e8\\u304c\\u6fc0\\u3057\\u304f\\u964d\\u308b\\u6240\\u304c\\u3042\\u308b\\u898b\\u8fbc\\u307f\\u3067\\u3059\\u3002\\n\\n 24\\u65e5\\u306f\\u3001\\u6c17\\u5727\\u306e\\u8c37\\u3084\\u5bd2\\u6c17\\u306e\\u5f71\\u97ff\\u306b\\u3088\\u308a\\u3001\\u304a\\u304a\\u3080\\u306d\\u66c7\\u308a\\u3067\\u3001\\u9577\\u91ce\\u770c\\u5317\\u90e8\\u3067\\u306f\\u3001\\u96e8\\u3084\\u96ea\\u306e\\u964d\\u308b\\u6240\\u304c\\u3042\\u308b\\u3067\\u3057\\u3087\\u3046\\u3002\\n\\n \\u95a2\\u6771\\u5730\\u65b9\\u3068\\u4f0a\\u8c46\\u8af8\\u5cf6\\u306e\\u6d77\\u4e0a\\u3067\\u306f\\u300123\\u65e5\\u304b\\u308924\\u65e5\\u306b\\u304b\\u3051\\u3066\\u6ce2\\u304c\\u9ad8\\u304f\\u3001\\u3046\\u306d\\u308a\\u3092\\u4f34\\u3046\\u3067\\u3057\\u3087\\u3046\\u3002\\u8239\\u8236\\u306f\\u3001\\u9ad8\\u6ce2\\u306b\\u6ce8\\u610f\\u3057\\u3066\\u304f\\u3060\\u3055\\u3044\\u3002\",\"publicTime\":\"2020-01-23T10:34:00\\u002b0900\"}}\n"
     ]
    }
   ],
   "source": [
    "# Weather HacksのJSONデータをそのまま出力してみる\n",
    "\n",
    "import requests\n",
    "url = 'http://weather.livedoor.com/forecast/webservice/json/v1?city=130010'\n",
    "data = requests.get(url)\n",
    "print(data.text)"
   ]
  },
  {
   "cell_type": "code",
   "execution_count": 2,
   "metadata": {},
   "outputs": [
    {
     "name": "stdout",
     "output_type": "stream",
     "text": [
      "{'copyright': {'image': {'height': 26,\n",
      "                         'link': 'http://weather.livedoor.com/',\n",
      "                         'title': 'livedoor 天気情報',\n",
      "                         'url': 'http://weather.livedoor.com/img/cmn/livedoor.gif',\n",
      "                         'width': 118},\n",
      "               'link': 'http://weather.livedoor.com/',\n",
      "               'provider': [{'link': 'http://tenki.jp/', 'name': '日本気象協会'}],\n",
      "               'title': '(C) LINE Corporation'},\n",
      " 'description': {'publicTime': '2020-01-23T10:34:00+0900',\n",
      "                 'text': ' '\n",
      "                         '前線が華中から西日本を通って伊豆諸島付近にのびており、前線上の四国付近には低気圧があって、東へ進んでいます。\\n'\n",
      "                         '\\n'\n",
      "                         ' 東京地方は、雨が降っています。\\n'\n",
      "                         '\\n'\n",
      "                         ' '\n",
      "                         '23日は、前線や低気圧の影響により、雨で、夜は曇りとなるでしょう。伊豆諸島では、雷を伴って激しい雨の降る所がある見込みです。\\n'\n",
      "                         '\\n'\n",
      "                         ' 24日は、気圧の谷や寒気の影響により、おおむね曇りとなるでしょう。\\n'\n",
      "                         '\\n'\n",
      "                         '【関東甲信地方】\\n'\n",
      "                         ' 関東甲信地方は、雨や雪が降っています。\\n'\n",
      "                         '\\n'\n",
      "                         ' '\n",
      "                         '23日は、前線や低気圧の影響により、雨で、はじめ雪の所もありますが、夜はおおむね曇りとなるでしょう。伊豆諸島では、雷を伴って雨が激しく降る所がある見込みです。\\n'\n",
      "                         '\\n'\n",
      "                         ' 24日は、気圧の谷や寒気の影響により、おおむね曇りで、長野県北部では、雨や雪の降る所があるでしょう。\\n'\n",
      "                         '\\n'\n",
      "                         ' '\n",
      "                         '関東地方と伊豆諸島の海上では、23日から24日にかけて波が高く、うねりを伴うでしょう。船舶は、高波に注意してください。'},\n",
      " 'forecasts': [{'date': '2020-01-23',\n",
      "                'dateLabel': '今日',\n",
      "                'image': {'height': 31,\n",
      "                          'title': '雨のち曇',\n",
      "                          'url': 'http://weather.livedoor.com/img/icon/20.gif',\n",
      "                          'width': 50},\n",
      "                'telop': '雨のち曇',\n",
      "                'temperature': {'max': {'celsius': '7', 'fahrenheit': '44.6'},\n",
      "                                'min': None}},\n",
      "               {'date': '2020-01-24',\n",
      "                'dateLabel': '明日',\n",
      "                'image': {'height': 31,\n",
      "                          'title': '曇り',\n",
      "                          'url': 'http://weather.livedoor.com/img/icon/8.gif',\n",
      "                          'width': 50},\n",
      "                'telop': '曇り',\n",
      "                'temperature': {'max': {'celsius': '12', 'fahrenheit': '53.6'},\n",
      "                                'min': {'celsius': '3', 'fahrenheit': '37.4'}}},\n",
      "               {'date': '2020-01-25',\n",
      "                'dateLabel': '明後日',\n",
      "                'image': {'height': 31,\n",
      "                          'title': '曇り',\n",
      "                          'url': 'http://weather.livedoor.com/img/icon/8.gif',\n",
      "                          'width': 50},\n",
      "                'telop': '曇り',\n",
      "                'temperature': {'max': None, 'min': None}}],\n",
      " 'link': 'http://weather.livedoor.com/area/forecast/130010',\n",
      " 'location': {'area': '関東', 'city': '東京', 'prefecture': '東京都'},\n",
      " 'pinpointLocations': [{'link': 'http://weather.livedoor.com/area/forecast/1310100',\n",
      "                        'name': '千代田区'},\n",
      "                       {'link': 'http://weather.livedoor.com/area/forecast/1310200',\n",
      "                        'name': '中央区'},\n",
      "                       {'link': 'http://weather.livedoor.com/area/forecast/1310300',\n",
      "                        'name': '港区'},\n",
      "                       {'link': 'http://weather.livedoor.com/area/forecast/1310400',\n",
      "                        'name': '新宿区'},\n",
      "                       {'link': 'http://weather.livedoor.com/area/forecast/1310500',\n",
      "                        'name': '文京区'},\n",
      "                       {'link': 'http://weather.livedoor.com/area/forecast/1310600',\n",
      "                        'name': '台東区'},\n",
      "                       {'link': 'http://weather.livedoor.com/area/forecast/1310700',\n",
      "                        'name': '墨田区'},\n",
      "                       {'link': 'http://weather.livedoor.com/area/forecast/1310800',\n",
      "                        'name': '江東区'},\n",
      "                       {'link': 'http://weather.livedoor.com/area/forecast/1310900',\n",
      "                        'name': '品川区'},\n",
      "                       {'link': 'http://weather.livedoor.com/area/forecast/1311000',\n",
      "                        'name': '目黒区'},\n",
      "                       {'link': 'http://weather.livedoor.com/area/forecast/1311100',\n",
      "                        'name': '大田区'},\n",
      "                       {'link': 'http://weather.livedoor.com/area/forecast/1311200',\n",
      "                        'name': '世田谷区'},\n",
      "                       {'link': 'http://weather.livedoor.com/area/forecast/1311300',\n",
      "                        'name': '渋谷区'},\n",
      "                       {'link': 'http://weather.livedoor.com/area/forecast/1311400',\n",
      "                        'name': '中野区'},\n",
      "                       {'link': 'http://weather.livedoor.com/area/forecast/1311500',\n",
      "                        'name': '杉並区'},\n",
      "                       {'link': 'http://weather.livedoor.com/area/forecast/1311600',\n",
      "                        'name': '豊島区'},\n",
      "                       {'link': 'http://weather.livedoor.com/area/forecast/1311700',\n",
      "                        'name': '北区'},\n",
      "                       {'link': 'http://weather.livedoor.com/area/forecast/1311800',\n",
      "                        'name': '荒川区'},\n",
      "                       {'link': 'http://weather.livedoor.com/area/forecast/1311900',\n",
      "                        'name': '板橋区'},\n",
      "                       {'link': 'http://weather.livedoor.com/area/forecast/1312000',\n",
      "                        'name': '練馬区'},\n",
      "                       {'link': 'http://weather.livedoor.com/area/forecast/1312100',\n",
      "                        'name': '足立区'},\n",
      "                       {'link': 'http://weather.livedoor.com/area/forecast/1312200',\n",
      "                        'name': '葛飾区'},\n",
      "                       {'link': 'http://weather.livedoor.com/area/forecast/1312300',\n",
      "                        'name': '江戸川区'},\n",
      "                       {'link': 'http://weather.livedoor.com/area/forecast/1320100',\n",
      "                        'name': '八王子市'},\n",
      "                       {'link': 'http://weather.livedoor.com/area/forecast/1320200',\n",
      "                        'name': '立川市'},\n",
      "                       {'link': 'http://weather.livedoor.com/area/forecast/1320300',\n",
      "                        'name': '武蔵野市'},\n",
      "                       {'link': 'http://weather.livedoor.com/area/forecast/1320400',\n",
      "                        'name': '三鷹市'},\n",
      "                       {'link': 'http://weather.livedoor.com/area/forecast/1320500',\n",
      "                        'name': '青梅市'},\n",
      "                       {'link': 'http://weather.livedoor.com/area/forecast/1320600',\n",
      "                        'name': '府中市'},\n",
      "                       {'link': 'http://weather.livedoor.com/area/forecast/1320700',\n",
      "                        'name': '昭島市'},\n",
      "                       {'link': 'http://weather.livedoor.com/area/forecast/1320800',\n",
      "                        'name': '調布市'},\n",
      "                       {'link': 'http://weather.livedoor.com/area/forecast/1320900',\n",
      "                        'name': '町田市'},\n",
      "                       {'link': 'http://weather.livedoor.com/area/forecast/1321000',\n",
      "                        'name': '小金井市'},\n",
      "                       {'link': 'http://weather.livedoor.com/area/forecast/1321100',\n",
      "                        'name': '小平市'},\n",
      "                       {'link': 'http://weather.livedoor.com/area/forecast/1321200',\n",
      "                        'name': '日野市'},\n",
      "                       {'link': 'http://weather.livedoor.com/area/forecast/1321300',\n",
      "                        'name': '東村山市'},\n",
      "                       {'link': 'http://weather.livedoor.com/area/forecast/1321400',\n",
      "                        'name': '国分寺市'},\n",
      "                       {'link': 'http://weather.livedoor.com/area/forecast/1321500',\n",
      "                        'name': '国立市'},\n",
      "                       {'link': 'http://weather.livedoor.com/area/forecast/1321800',\n",
      "                        'name': '福生市'},\n",
      "                       {'link': 'http://weather.livedoor.com/area/forecast/1321900',\n",
      "                        'name': '狛江市'},\n",
      "                       {'link': 'http://weather.livedoor.com/area/forecast/1322000',\n",
      "                        'name': '東大和市'},\n",
      "                       {'link': 'http://weather.livedoor.com/area/forecast/1322100',\n",
      "                        'name': '清瀬市'},\n",
      "                       {'link': 'http://weather.livedoor.com/area/forecast/1322200',\n",
      "                        'name': '東久留米市'},\n",
      "                       {'link': 'http://weather.livedoor.com/area/forecast/1322300',\n"
     ]
    },
    {
     "name": "stdout",
     "output_type": "stream",
     "text": [
      "                        'name': '武蔵村山市'},\n",
      "                       {'link': 'http://weather.livedoor.com/area/forecast/1322400',\n",
      "                        'name': '多摩市'},\n",
      "                       {'link': 'http://weather.livedoor.com/area/forecast/1322500',\n",
      "                        'name': '稲城市'},\n",
      "                       {'link': 'http://weather.livedoor.com/area/forecast/1322700',\n",
      "                        'name': '羽村市'},\n",
      "                       {'link': 'http://weather.livedoor.com/area/forecast/1322800',\n",
      "                        'name': 'あきる野市'},\n",
      "                       {'link': 'http://weather.livedoor.com/area/forecast/1322900',\n",
      "                        'name': '西東京市'},\n",
      "                       {'link': 'http://weather.livedoor.com/area/forecast/1330300',\n",
      "                        'name': '瑞穂町'},\n",
      "                       {'link': 'http://weather.livedoor.com/area/forecast/1330500',\n",
      "                        'name': '日の出町'},\n",
      "                       {'link': 'http://weather.livedoor.com/area/forecast/1330700',\n",
      "                        'name': '檜原村'},\n",
      "                       {'link': 'http://weather.livedoor.com/area/forecast/1330800',\n",
      "                        'name': '奥多摩町'}],\n",
      " 'publicTime': '2020-01-23T14:00:00+0900',\n",
      " 'title': '東京都 東京 の天気'}\n"
     ]
    }
   ],
   "source": [
    "# Weather HacksのJSONデータをjson()で加工したものを取得\n",
    "\n",
    "import pprint\n",
    "url = 'http://weather.livedoor.com/forecast/webservice/json/v1?city=130010'\n",
    "data = requests.get(url).json()\n",
    "pprint.pprint(data)"
   ]
  },
  {
   "cell_type": "code",
   "execution_count": 3,
   "metadata": {},
   "outputs": [
    {
     "data": {
      "text/plain": [
       "dict_keys(['pinpointLocations', 'link', 'forecasts', 'location', 'publicTime', 'copyright', 'title', 'description'])"
      ]
     },
     "execution_count": 3,
     "metadata": {},
     "output_type": "execute_result"
    }
   ],
   "source": [
    "# JSONデータからキーを抽出する\n",
    "\n",
    "import requests\n",
    "url = 'http://weather.livedoor.com/forecast/webservice/json/v1?city=130010'\n",
    "data = requests.get(url).json()\n",
    "data.keys()"
   ]
  },
  {
   "cell_type": "code",
   "execution_count": 4,
   "metadata": {
    "scrolled": true
   },
   "outputs": [
    {
     "name": "stdout",
     "output_type": "stream",
     "text": [
      "{'dateLabel': '今日', 'telop': '雨のち曇', 'date': '2020-01-23', 'temperature': {'min': None, 'max': {'celsius': '7', 'fahrenheit': '44.6'}}, 'image': {'width': 50, 'url': 'http://weather.livedoor.com/img/icon/20.gif', 'title': '雨のち曇', 'height': 31}}\n"
     ]
    }
   ],
   "source": [
    "# 今日の天気の部分を抜き出す\n",
    "\n",
    "import requests\n",
    "url = 'http://weather.livedoor.com/forecast/webservice/json/v1?city=130010'\n",
    "data = requests.get(url).json()\n",
    "print(data['forecasts'][0])     # 'forecasts'キーの1つ目の要素を指定"
   ]
  },
  {
   "cell_type": "code",
   "execution_count": 5,
   "metadata": {},
   "outputs": [],
   "source": [
    "# 今日、明日、明後日の天気予報を取得する関数\n",
    "\n",
    "import requests\n",
    "\n",
    "def weatherInfo(id):\n",
    "    url = 'http://weather.livedoor.com/forecast/webservice/json/v1'\n",
    "    payload = { 'city': id }                                # ①\n",
    "    weather_data = requests.get(url, params=payload).json() # ②\n",
    "    for weather in weather_data['forecasts']:               # ③\n",
    "        print(\n",
    "            weather['dateLabel']\n",
    "            + 'の天気は'\n",
    "            + weather['telop']\n",
    "        )"
   ]
  },
  {
   "cell_type": "code",
   "execution_count": 6,
   "metadata": {},
   "outputs": [
    {
     "name": "stdout",
     "output_type": "stream",
     "text": [
      "今日の天気は雨のち曇\n",
      "明日の天気は曇り\n",
      "明後日の天気は曇り\n"
     ]
    }
   ],
   "source": [
    "weatherInfo('130010')  # 東京都(id = 130010)の天気予報を取得する"
   ]
  },
  {
   "cell_type": "code",
   "execution_count": null,
   "metadata": {},
   "outputs": [],
   "source": []
  }
 ],
 "metadata": {
  "kernelspec": {
   "display_name": "Python 3",
   "language": "python",
   "name": "python3"
  },
  "language_info": {
   "codemirror_mode": {
    "name": "ipython",
    "version": 3
   },
   "file_extension": ".py",
   "mimetype": "text/x-python",
   "name": "python",
   "nbconvert_exporter": "python",
   "pygments_lexer": "ipython3",
   "version": "3.7.6"
  }
 },
 "nbformat": 4,
 "nbformat_minor": 2
}
