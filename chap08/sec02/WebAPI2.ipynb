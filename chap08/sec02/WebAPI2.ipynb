{
 "cells": [
  {
   "cell_type": "code",
   "execution_count": 1,
   "metadata": {
    "scrolled": false
   },
   "outputs": [
    {
     "name": "stdout",
     "output_type": "stream",
     "text": [
      "何を検索しますか? >BABYMETAL\n",
      "Category:2010年に結成した音楽グループ\n",
      "Category:2人組の音楽グループ\n",
      "Category:BABYMETAL\n",
      "Category:BNF識別子が指定されている記事\n",
      "Category:CDショップ大賞受賞者\n",
      "Category:GND識別子が指定されている記事\n",
      "Category:ISBNマジックリンクを使用しているページ\n",
      "Category:ISNI識別子が指定されている記事\n",
      "Category:LCCN識別子が指定されている記事\n",
      "Category:LOUD PARK出演者\n",
      "検索結果を保存しますか?(yes) >yes\n"
     ]
    }
   ],
   "source": [
    "# ウィキペディアの検索・保存プログラム\n",
    "\n",
    "import requests\n",
    "import sys\n",
    "\n",
    "# プロンプトを表示して検索キーワードを取得\n",
    "title = input('何を検索しますか? >')        # 1\n",
    "# MediaWikiのAPIにアクセスするためのURL\n",
    "url = 'https://ja.wikipedia.org/w/api.php'  # 2\n",
    "\n",
    "# カテゴリ一覧を取得するためのクエリ情報\n",
    "api_params1 = {                             # 3\n",
    "                'action': 'query',\n",
    "                'titles': title,\n",
    "                'prop': 'categories',\n",
    "                'format': 'json'\n",
    "              }\n",
    "\n",
    "api_params2 = {                             # 4\n",
    "                'action': 'query',\n",
    "                'titles': title,\n",
    "                'prop': 'revisions',\n",
    "                'rvprop': 'content',\n",
    "                'format': 'xmlfm'\n",
    "              }\n",
    "\n",
    "categories = requests.get(url, params=api_params1).json() # 5\n",
    "page_id = categories['query']['pages']                    # 6\n",
    "\n",
    "if '-1' in page_id:                    # 7\n",
    "    print('該当するページがありません')\n",
    "else:                                  # 8\n",
    "    id = list(page_id.keys())          # 9\n",
    "    if 'categories' in categories['query']['pages'][id[0]]:            # 10\n",
    "        categories = categories['query']['pages'][id[0]]['categories'] # 11\n",
    "        for t in categories:                                           # 12\n",
    "            print(t['title'])        \n",
    "        admit = input('検索結果を保存しますか?(yes) >')                # 13\n",
    "        \n",
    "        if admit == 'yes':                                             # 14\n",
    "            data = requests.get(url, params=api_params2)               # 15\n",
    "        with open(title + '.html', 'w', encoding = 'utf_8') as f:      # 16\n",
    "            f.write(data.text)\n",
    "    else:\n",
    "        print('保存できるページを検索できませんでした')"
   ]
  },
  {
   "cell_type": "code",
   "execution_count": null,
   "metadata": {},
   "outputs": [],
   "source": []
  }
 ],
 "metadata": {
  "kernelspec": {
   "display_name": "Python 3",
   "language": "python",
   "name": "python3"
  },
  "language_info": {
   "codemirror_mode": {
    "name": "ipython",
    "version": 3
   },
   "file_extension": ".py",
   "mimetype": "text/x-python",
   "name": "python",
   "nbconvert_exporter": "python",
   "pygments_lexer": "ipython3",
   "version": "3.7.6"
  }
 },
 "nbformat": 4,
 "nbformat_minor": 2
}
