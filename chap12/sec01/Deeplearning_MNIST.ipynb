{
 "cells": [
  {
   "cell_type": "code",
   "execution_count": null,
   "metadata": {},
   "outputs": [],
   "source": [
    "from keras.datasets import mnist # MNISTデータセットをインポート\n",
    "\n",
    "# MNISTデータセットを読み込む。\n",
    "(x_train, y_train), (x_test, y_test) = mnist.load_data()\n",
    "\n",
    "# データの前処理\n",
    "# (60000,28,28)の3次元配列を(60000,784(=28×28))の2次元配列に変換。\n",
    "x_train = x_train.reshape(60000, 784)\n",
    "# (10000,28,28)の3次元配列を(10000,784(=28×28))の2次元配列に変換。\n",
    "x_test = x_test.reshape(10000, 784)\n",
    "# 画素のデータをグレースケールの色調の最大値255で割って0から1.0の範囲にする。\n",
    "x_train = x_train/255.0\n",
    "x_test = x_test/255.0"
   ]
  },
  {
   "cell_type": "code",
   "execution_count": null,
   "metadata": {},
   "outputs": [],
   "source": [
    "# 正解ラベルをワンホット表現に変換\n",
    "\n",
    "# keras.utilsからnp_utilsをインポート\n",
    "from keras.utils import np_utils\n",
    "\n",
    "num_classes = 10   # 出力層のニューロンの数(クラスの数)\n",
    "y_train = np_utils.to_categorical(y_train, num_classes)\n",
    "y_test = np_utils.to_categorical(y_test, num_classes)"
   ]
  },
  {
   "cell_type": "code",
   "execution_count": null,
   "metadata": {},
   "outputs": [],
   "source": [
    "## ニューラルネットワークの作成 ##\n",
    "\n",
    "from keras.models import Sequential\n",
    "from keras.layers import Dense, Dropout\n",
    "from keras.optimizers import Adam\n",
    "\n",
    "model = Sequential()                 # ニューラルネットワークの基になるオブジェクトを生成\n",
    "\n",
    "# 第1層の作成\n",
    "model.add(Dense(512,                 # 第1層のニューロン数は512\n",
    "                input_shape=(784,),  # 第0層のデータ形状は要素数784の1次元配列\n",
    "                activation='relu'    # 活性化関数はReLU\n",
    "                ))"
   ]
  },
  {
   "cell_type": "code",
   "execution_count": null,
   "metadata": {},
   "outputs": [],
   "source": [
    "# 第1層の次にドロップアウトを実装する\n",
    "\n",
    "from keras.layers import Dropout\n",
    "\n",
    "model.add(Dropout(rate=0.25))         # ドロップアウト率を25パーセントにする"
   ]
  },
  {
   "cell_type": "code",
   "execution_count": null,
   "metadata": {},
   "outputs": [],
   "source": [
    "# 第2層(出力層)の作成\n",
    "\n",
    "model.add(Dense(num_classes,           # 第2層のニューロン数は10\n",
    "                activation='softmax'   # 活性化関数はSoftmax\n",
    "                ))"
   ]
  },
  {
   "cell_type": "code",
   "execution_count": null,
   "metadata": {},
   "outputs": [],
   "source": [
    "# バックプロパゲーションを実装する\n",
    "\n",
    "model.compile(\n",
    "    loss='categorical_crossentropy', # 誤差関数を交差エントロピー誤差にする。\n",
    "    optimizer=Adam(),                # 学習方法をAdamにする。\n",
    "    metrics=['accuracy'])            # 学習評価には正解率を使う。"
   ]
  },
  {
   "cell_type": "code",
   "execution_count": null,
   "metadata": {},
   "outputs": [],
   "source": [
    "# ニューラルネットワークの構造を出力\n",
    "model.summary()"
   ]
  },
  {
   "cell_type": "code",
   "execution_count": null,
   "metadata": {},
   "outputs": [],
   "source": [
    "# ディープラーニングを実行する\n",
    "\n",
    "batch = 50    # ミニバッチの数。\n",
    "epochs = 5    # 学習する回数。\n",
    "\n",
    "history = model.fit(x_train,           # 訓練データ\n",
    "                    y_train,           # 正解ラベル\n",
    "                    batch_size=batch,  # ミニバッチのサイズ\n",
    "                    epochs=epochs,     # 学習する回数\n",
    "                    verbose=1,         # 学習の進捗状況を出力する\n",
    "                    validation_data=(\n",
    "                        x_test, y_test # テストデータの指定\n",
    "                        )\n",
    "                    )"
   ]
  },
  {
   "cell_type": "code",
   "execution_count": null,
   "metadata": {},
   "outputs": [],
   "source": [
    "## 学習結果の評価\n",
    "\n",
    "# テストデータを使って学習結果を評価する。\n",
    "score = model.evaluate(x_test, y_test, verbose=0)\n",
    "# テストデータの誤り率を出力。\n",
    "print('Test loss:', score[0])\n",
    "# テストデータの正解率を出力。\n",
    "print('Test accuracy:', score[1])"
   ]
  }
 ],
 "metadata": {
  "kernelspec": {
   "display_name": "Python 3",
   "language": "python",
   "name": "python3"
  },
  "language_info": {
   "codemirror_mode": {
    "name": "ipython",
    "version": 3
   },
   "file_extension": ".py",
   "mimetype": "text/x-python",
   "name": "python",
   "nbconvert_exporter": "python",
   "pygments_lexer": "ipython3",
   "version": "3.7.6"
  }
 },
 "nbformat": 4,
 "nbformat_minor": 2
}
