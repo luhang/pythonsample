{
 "cells": [
  {
   "cell_type": "code",
   "execution_count": 1,
   "metadata": {},
   "outputs": [
    {
     "name": "stderr",
     "output_type": "stream",
     "text": [
      "Using TensorFlow backend.\n"
     ]
    }
   ],
   "source": [
    "import numpy as np\n",
    "from keras.datasets import cifar10\n",
    "from keras.utils import np_utils\n",
    "\n",
    "# CIFAR-10データを読み込む\n",
    "(X_train, y_train), (X_test, y_test) = cifar10.load_data()"
   ]
  },
  {
   "cell_type": "code",
   "execution_count": 2,
   "metadata": {},
   "outputs": [],
   "source": [
    "# 前処理を行う。\n",
    "\n",
    "# 訓練データのピクセル値を0～1の範囲に変換。\n",
    "X_train = X_train.astype('float32')\n",
    "X_train /= 255.0\n",
    "# テストデータのピクセル値を0～1の範囲に変換。\n",
    "X_test = X_test.astype('float32')\n",
    "X_test /= 255.0\n",
    "\n",
    "# 正解ラベルを10クラスのワンホット表現に変換。\n",
    "classes = 10\n",
    "Y_train = np_utils.to_categorical(y_train, classes)\n",
    "Y_test = np_utils.to_categorical(y_test, classes)"
   ]
  },
  {
   "cell_type": "code",
   "execution_count": 3,
   "metadata": {},
   "outputs": [
    {
     "name": "stdout",
     "output_type": "stream",
     "text": [
      "WARNING:tensorflow:From C:\\Users\\Toshiya\\Anaconda3\\envs\\DoTraining\\lib\\site-packages\\keras\\backend\\tensorflow_backend.py:74: The name tf.get_default_graph is deprecated. Please use tf.compat.v1.get_default_graph instead.\n",
      "\n",
      "WARNING:tensorflow:From C:\\Users\\Toshiya\\Anaconda3\\envs\\DoTraining\\lib\\site-packages\\keras\\backend\\tensorflow_backend.py:517: The name tf.placeholder is deprecated. Please use tf.compat.v1.placeholder instead.\n",
      "\n",
      "WARNING:tensorflow:From C:\\Users\\Toshiya\\Anaconda3\\envs\\DoTraining\\lib\\site-packages\\keras\\backend\\tensorflow_backend.py:4138: The name tf.random_uniform is deprecated. Please use tf.random.uniform instead.\n",
      "\n"
     ]
    }
   ],
   "source": [
    "# 第1層：畳み込み層1\n",
    "from keras.models import Sequential\n",
    "from keras.layers import Conv2D, MaxPooling2D, Dropout, Flatten, Dense\n",
    "\n",
    "# CNNを構築\n",
    "model = Sequential()\n",
    "\n",
    "# （第1層）畳み込み層1\n",
    "model.add(\n",
    "    Conv2D(\n",
    "        filters=32,                # フィルターの数は32\n",
    "        kernel_size=(3, 3),        # 3×3のフィルターを使用\n",
    "        input_shape=(32, 32, 3),   # 入力データの形状\n",
    "        padding='same',            # ゼロパディングを行う\n",
    "        activation='relu'          # 活性化関数はReLU\n",
    "        ))"
   ]
  },
  {
   "cell_type": "code",
   "execution_count": 4,
   "metadata": {},
   "outputs": [],
   "source": [
    "# （第2層）畳み込み層2\n",
    "model.add(\n",
    "    Conv2D(\n",
    "        filters=32,                # フィルターの数は32\n",
    "        kernel_size=(3, 3),        # 3×3のフィルターを使用\n",
    "        padding='same',            # ゼロパディングを行う\n",
    "        activation='relu'          # 活性化関数はReLU\n",
    "        ))"
   ]
  },
  {
   "cell_type": "code",
   "execution_count": 5,
   "metadata": {},
   "outputs": [
    {
     "name": "stdout",
     "output_type": "stream",
     "text": [
      "WARNING:tensorflow:From C:\\Users\\Toshiya\\Anaconda3\\envs\\DoTraining\\lib\\site-packages\\keras\\backend\\tensorflow_backend.py:3976: The name tf.nn.max_pool is deprecated. Please use tf.nn.max_pool2d instead.\n",
      "\n",
      "WARNING:tensorflow:From C:\\Users\\Toshiya\\Anaconda3\\envs\\DoTraining\\lib\\site-packages\\keras\\backend\\tensorflow_backend.py:133: The name tf.placeholder_with_default is deprecated. Please use tf.compat.v1.placeholder_with_default instead.\n",
      "\n",
      "WARNING:tensorflow:From C:\\Users\\Toshiya\\Anaconda3\\envs\\DoTraining\\lib\\site-packages\\keras\\backend\\tensorflow_backend.py:3445: calling dropout (from tensorflow.python.ops.nn_ops) with keep_prob is deprecated and will be removed in a future version.\n",
      "Instructions for updating:\n",
      "Please use `rate` instead of `keep_prob`. Rate should be set to `rate = 1 - keep_prob`.\n"
     ]
    }
   ],
   "source": [
    "# （第3層）プーリング層1：ウィンドウサイズは2×2\n",
    "model.add(\n",
    "    MaxPooling2D(pool_size=(2, 2))\n",
    ")\n",
    "\n",
    "# ドロップアウトは25％\n",
    "model.add(Dropout(0.25))"
   ]
  },
  {
   "cell_type": "code",
   "execution_count": 6,
   "metadata": {},
   "outputs": [],
   "source": [
    "# （第4層）畳み込み層3\n",
    "model.add(\n",
    "    Conv2D(filters=64,             # フィルターの数は64\n",
    "           kernel_size=(3, 3),     # 3×3のフィルターを使用\n",
    "           padding='same',\n",
    "           activation='relu'       # 活性化関数はReLU\n",
    "           ))"
   ]
  },
  {
   "cell_type": "code",
   "execution_count": 7,
   "metadata": {},
   "outputs": [],
   "source": [
    "# （第5層）畳み込み層4\n",
    "model.add(\n",
    "    Conv2D(filters=64,             # フィルターの数は64\n",
    "           kernel_size=(3, 3),     # 3×3のフィルターを使用\n",
    "           padding='same',         # ゼロパディングを行う\n",
    "           activation='relu'       # 活性化関数はReLU\n",
    "           ))"
   ]
  },
  {
   "cell_type": "code",
   "execution_count": 8,
   "metadata": {},
   "outputs": [],
   "source": [
    "# （第6層）プーリング層2：ウィンドウサイズは2×2\n",
    "model.add(\n",
    "    MaxPooling2D(\n",
    "        pool_size=(2, 2)\n",
    "    ))\n",
    "\n",
    "# ドロップアウトは25％\n",
    "model.add(Dropout(0.25))"
   ]
  },
  {
   "cell_type": "code",
   "execution_count": 9,
   "metadata": {},
   "outputs": [],
   "source": [
    "# Flatten層　4階テンソルから2階テンソルに変換\n",
    "from keras.layers import Flatten\n",
    "\n",
    "model.add(Flatten())"
   ]
  },
  {
   "cell_type": "code",
   "execution_count": 10,
   "metadata": {},
   "outputs": [],
   "source": [
    "# （第7層）全結合層\n",
    "model.add(\n",
    "    Dense(512,                     # ニューロン数は512\n",
    "          activation='relu'))      # 活性化関数はReLU\n",
    "          \n",
    "\n",
    "# ドロップアウトは50％\n",
    "model.add(Dropout(0.5))"
   ]
  },
  {
   "cell_type": "code",
   "execution_count": 11,
   "metadata": {},
   "outputs": [],
   "source": [
    "# （第8層）出力層\n",
    "model.add(\n",
    "    Dense(classes,                 # 出力層のニューロン数はclasses\n",
    "          activation='softmax'))   # 活性化関数はソフトマックス"
   ]
  },
  {
   "cell_type": "code",
   "execution_count": 12,
   "metadata": {},
   "outputs": [
    {
     "name": "stdout",
     "output_type": "stream",
     "text": [
      "WARNING:tensorflow:From C:\\Users\\Toshiya\\Anaconda3\\envs\\DoTraining\\lib\\site-packages\\keras\\optimizers.py:790: The name tf.train.Optimizer is deprecated. Please use tf.compat.v1.train.Optimizer instead.\n",
      "\n",
      "WARNING:tensorflow:From C:\\Users\\Toshiya\\Anaconda3\\envs\\DoTraining\\lib\\site-packages\\keras\\backend\\tensorflow_backend.py:3295: The name tf.log is deprecated. Please use tf.math.log instead.\n",
      "\n"
     ]
    }
   ],
   "source": [
    "# Sequentialオブジェクトのコンパイル\n",
    "from keras.optimizers import Adam\n",
    "\n",
    "model.compile(\n",
    "    loss='categorical_crossentropy', # 損失関数は交差エントロピー誤差\n",
    "    optimizer=Adam(),                # 最適化をAdamアルゴリズムで行う\n",
    "    metrics=['accuracy']             # 学習評価として正解率を指定\n",
    "    )"
   ]
  },
  {
   "cell_type": "code",
   "execution_count": 13,
   "metadata": {},
   "outputs": [
    {
     "name": "stdout",
     "output_type": "stream",
     "text": [
      "_________________________________________________________________\n",
      "Layer (type)                 Output Shape              Param #   \n",
      "=================================================================\n",
      "conv2d_1 (Conv2D)            (None, 32, 32, 32)        896       \n",
      "_________________________________________________________________\n",
      "conv2d_2 (Conv2D)            (None, 32, 32, 32)        9248      \n",
      "_________________________________________________________________\n",
      "max_pooling2d_1 (MaxPooling2 (None, 16, 16, 32)        0         \n",
      "_________________________________________________________________\n",
      "dropout_1 (Dropout)          (None, 16, 16, 32)        0         \n",
      "_________________________________________________________________\n",
      "conv2d_3 (Conv2D)            (None, 16, 16, 64)        18496     \n",
      "_________________________________________________________________\n",
      "conv2d_4 (Conv2D)            (None, 16, 16, 64)        36928     \n",
      "_________________________________________________________________\n",
      "max_pooling2d_2 (MaxPooling2 (None, 8, 8, 64)          0         \n",
      "_________________________________________________________________\n",
      "dropout_2 (Dropout)          (None, 8, 8, 64)          0         \n",
      "_________________________________________________________________\n",
      "flatten_1 (Flatten)          (None, 4096)              0         \n",
      "_________________________________________________________________\n",
      "dense_1 (Dense)              (None, 512)               2097664   \n",
      "_________________________________________________________________\n",
      "dropout_3 (Dropout)          (None, 512)               0         \n",
      "_________________________________________________________________\n",
      "dense_2 (Dense)              (None, 10)                5130      \n",
      "=================================================================\n",
      "Total params: 2,168,362\n",
      "Trainable params: 2,168,362\n",
      "Non-trainable params: 0\n",
      "_________________________________________________________________\n"
     ]
    }
   ],
   "source": [
    "# モデルのサマリを表示\n",
    "model.summary()"
   ]
  },
  {
   "cell_type": "code",
   "execution_count": 14,
   "metadata": {},
   "outputs": [
    {
     "name": "stdout",
     "output_type": "stream",
     "text": [
      "WARNING:tensorflow:From C:\\Users\\Toshiya\\Anaconda3\\envs\\DoTraining\\lib\\site-packages\\tensorflow_core\\python\\ops\\math_grad.py:1424: where (from tensorflow.python.ops.array_ops) is deprecated and will be removed in a future version.\n",
      "Instructions for updating:\n",
      "Use tf.where in 2.0, which has the same broadcast rule as np.where\n",
      "WARNING:tensorflow:From C:\\Users\\Toshiya\\Anaconda3\\envs\\DoTraining\\lib\\site-packages\\keras\\backend\\tensorflow_backend.py:986: The name tf.assign_add is deprecated. Please use tf.compat.v1.assign_add instead.\n",
      "\n",
      "WARNING:tensorflow:From C:\\Users\\Toshiya\\Anaconda3\\envs\\DoTraining\\lib\\site-packages\\keras\\backend\\tensorflow_backend.py:973: The name tf.assign is deprecated. Please use tf.compat.v1.assign instead.\n",
      "\n",
      "WARNING:tensorflow:From C:\\Users\\Toshiya\\Anaconda3\\envs\\DoTraining\\lib\\site-packages\\keras\\backend\\tensorflow_backend.py:2741: The name tf.Session is deprecated. Please use tf.compat.v1.Session instead.\n",
      "\n",
      "Train on 50000 samples, validate on 10000 samples\n",
      "Epoch 1/30\n",
      "WARNING:tensorflow:From C:\\Users\\Toshiya\\Anaconda3\\envs\\DoTraining\\lib\\site-packages\\keras\\backend\\tensorflow_backend.py:174: The name tf.get_default_session is deprecated. Please use tf.compat.v1.get_default_session instead.\n",
      "\n",
      "WARNING:tensorflow:From C:\\Users\\Toshiya\\Anaconda3\\envs\\DoTraining\\lib\\site-packages\\keras\\backend\\tensorflow_backend.py:181: The name tf.ConfigProto is deprecated. Please use tf.compat.v1.ConfigProto instead.\n",
      "\n",
      "WARNING:tensorflow:From C:\\Users\\Toshiya\\Anaconda3\\envs\\DoTraining\\lib\\site-packages\\keras\\backend\\tensorflow_backend.py:190: The name tf.global_variables is deprecated. Please use tf.compat.v1.global_variables instead.\n",
      "\n",
      "WARNING:tensorflow:From C:\\Users\\Toshiya\\Anaconda3\\envs\\DoTraining\\lib\\site-packages\\keras\\backend\\tensorflow_backend.py:199: The name tf.is_variable_initialized is deprecated. Please use tf.compat.v1.is_variable_initialized instead.\n",
      "\n",
      "WARNING:tensorflow:From C:\\Users\\Toshiya\\Anaconda3\\envs\\DoTraining\\lib\\site-packages\\keras\\backend\\tensorflow_backend.py:206: The name tf.variables_initializer is deprecated. Please use tf.compat.v1.variables_initializer instead.\n",
      "\n",
      "50000/50000 [==============================] - 445s 9ms/step - loss: 1.5067 - acc: 0.4519 - val_loss: 1.2368 - val_acc: 0.5543\n",
      "Epoch 2/30\n",
      "50000/50000 [==============================] - 463s 9ms/step - loss: 1.1043 - acc: 0.6087 - val_loss: 0.9228 - val_acc: 0.6703\n",
      "Epoch 3/30\n",
      "50000/50000 [==============================] - 513s 10ms/step - loss: 0.9500 - acc: 0.6639 - val_loss: 0.8245 - val_acc: 0.7072\n",
      "Epoch 4/30\n",
      "50000/50000 [==============================] - 405s 8ms/step - loss: 0.8436 - acc: 0.7044 - val_loss: 0.7917 - val_acc: 0.7272\n",
      "Epoch 5/30\n",
      "50000/50000 [==============================] - 423s 8ms/step - loss: 0.7614 - acc: 0.7334 - val_loss: 0.7825 - val_acc: 0.7297\n",
      "Epoch 6/30\n",
      "50000/50000 [==============================] - 432s 9ms/step - loss: 0.7042 - acc: 0.7505 - val_loss: 0.6945 - val_acc: 0.7582\n",
      "Epoch 7/30\n",
      "50000/50000 [==============================] - 429s 9ms/step - loss: 0.6532 - acc: 0.7721 - val_loss: 0.6862 - val_acc: 0.7623\n",
      "Epoch 8/30\n",
      "50000/50000 [==============================] - 453s 9ms/step - loss: 0.6106 - acc: 0.7864 - val_loss: 0.6727 - val_acc: 0.7647\n",
      "Epoch 9/30\n",
      "50000/50000 [==============================] - 438s 9ms/step - loss: 0.5721 - acc: 0.7992 - val_loss: 0.6796 - val_acc: 0.7654\n",
      "Epoch 10/30\n",
      "50000/50000 [==============================] - 417s 8ms/step - loss: 0.5423 - acc: 0.8076 - val_loss: 0.6383 - val_acc: 0.7828\n",
      "Epoch 11/30\n",
      "50000/50000 [==============================] - 392s 8ms/step - loss: 0.5109 - acc: 0.8178 - val_loss: 0.6505 - val_acc: 0.7833\n",
      "Epoch 12/30\n",
      "50000/50000 [==============================] - 392s 8ms/step - loss: 0.4829 - acc: 0.8287 - val_loss: 0.7062 - val_acc: 0.7674\n",
      "Epoch 13/30\n",
      "50000/50000 [==============================] - 392s 8ms/step - loss: 0.4640 - acc: 0.8344 - val_loss: 0.6549 - val_acc: 0.7814\n",
      "Epoch 14/30\n",
      "50000/50000 [==============================] - 395s 8ms/step - loss: 0.4422 - acc: 0.8431 - val_loss: 0.6544 - val_acc: 0.7870\n",
      "Epoch 15/30\n",
      "50000/50000 [==============================] - 386s 8ms/step - loss: 0.4224 - acc: 0.8512 - val_loss: 0.6407 - val_acc: 0.7875\n",
      "Epoch 16/30\n",
      "50000/50000 [==============================] - 383s 8ms/step - loss: 0.4036 - acc: 0.8578 - val_loss: 0.6551 - val_acc: 0.7908\n",
      "Epoch 17/30\n",
      "50000/50000 [==============================] - 382s 8ms/step - loss: 0.3902 - acc: 0.8611 - val_loss: 0.6511 - val_acc: 0.7925\n",
      "Epoch 18/30\n",
      "50000/50000 [==============================] - 383s 8ms/step - loss: 0.3772 - acc: 0.8668 - val_loss: 0.6746 - val_acc: 0.7874\n",
      "Epoch 19/30\n",
      "50000/50000 [==============================] - 382s 8ms/step - loss: 0.3671 - acc: 0.8689 - val_loss: 0.6609 - val_acc: 0.7909\n",
      "Epoch 20/30\n",
      "50000/50000 [==============================] - 383s 8ms/step - loss: 0.3515 - acc: 0.8769 - val_loss: 0.6663 - val_acc: 0.7888\n",
      "Epoch 21/30\n",
      "50000/50000 [==============================] - 384s 8ms/step - loss: 0.3527 - acc: 0.8754 - val_loss: 0.6685 - val_acc: 0.7933\n",
      "Epoch 22/30\n",
      "50000/50000 [==============================] - 381s 8ms/step - loss: 0.3334 - acc: 0.8804 - val_loss: 0.6727 - val_acc: 0.7904\n",
      "Epoch 23/30\n",
      "50000/50000 [==============================] - 382s 8ms/step - loss: 0.3261 - acc: 0.8843 - val_loss: 0.6826 - val_acc: 0.7919\n",
      "Epoch 24/30\n",
      "50000/50000 [==============================] - 383s 8ms/step - loss: 0.3216 - acc: 0.8861 - val_loss: 0.7014 - val_acc: 0.7878\n",
      "Epoch 25/30\n",
      "50000/50000 [==============================] - 390s 8ms/step - loss: 0.3114 - acc: 0.8906 - val_loss: 0.6989 - val_acc: 0.7902\n",
      "Epoch 26/30\n",
      "50000/50000 [==============================] - 393s 8ms/step - loss: 0.3056 - acc: 0.8944 - val_loss: 0.6862 - val_acc: 0.7950\n",
      "Epoch 27/30\n",
      "50000/50000 [==============================] - 392s 8ms/step - loss: 0.3009 - acc: 0.8943 - val_loss: 0.7487 - val_acc: 0.7850\n",
      "Epoch 28/30\n",
      "50000/50000 [==============================] - 394s 8ms/step - loss: 0.2927 - acc: 0.8962 - val_loss: 0.6893 - val_acc: 0.7971\n",
      "Epoch 29/30\n",
      "50000/50000 [==============================] - 399s 8ms/step - loss: 0.2890 - acc: 0.8984 - val_loss: 0.6957 - val_acc: 0.7944\n",
      "Epoch 30/30\n",
      "50000/50000 [==============================] - 386s 8ms/step - loss: 0.2880 - acc: 0.9000 - val_loss: 0.6899 - val_acc: 0.7939\n"
     ]
    }
   ],
   "source": [
    "# 学習を行う\n",
    "\n",
    "batch_size = 64 # ミニバッチのサイズ\n",
    "epochs = 30     # 学習回数\n",
    "\n",
    "history = model.fit(X_train,               # 訓練データ\n",
    "                    Y_train,               # 正解ラベル \n",
    "                    batch_size=batch_size, # 勾配計算に用いるミニバッチの数 \n",
    "                    epochs=epochs,         # 学習を繰り返す回数\n",
    "                    verbose=1,             # 学習の進捗状況を出力する\n",
    "                    validation_data=(\n",
    "                        X_test, Y_test     # テストデータの指定\n",
    "                    ))"
   ]
  },
  {
   "cell_type": "code",
   "execution_count": 15,
   "metadata": {},
   "outputs": [
    {
     "data": {
      "image/png": "[encoded data removed]",
      "text/plain": [
       "<Figure size 576x720 with 2 Axes>"
      ]
     },
     "metadata": {
      "needs_background": "light"
     },
     "output_type": "display_data"
    }
   ],
   "source": [
    "# 学習過程をグラフにする\n",
    "\n",
    "import matplotlib.pyplot as plt\n",
    "%matplotlib inline\n",
    "\n",
    "def plot_history(history):\n",
    "    plt.ﬁgure(ﬁgsize=(8, 10))\n",
    "    plt.subplots_adjust(hspace=0.3)\n",
    "    # 精度の履歴をプロット\n",
    "    plt.subplot(2, 1, 1)\n",
    "    plt.plot(history.history['acc'],\"-\",label=\"accuracy\")\n",
    "    plt.plot(history.history['val_acc'],\"-\",label=\"val_acc\")\n",
    "    plt.title('model accuracy')\n",
    "    plt.xlabel('epoch')\n",
    "    plt.ylabel('accuracy')\n",
    "    plt.legend(loc=\"lower right\")\n",
    "\n",
    "    # 損失の履歴をプロット\n",
    "    plt.subplot(2, 1, 2)\n",
    "    plt.plot(history.history['loss'],\"-\",label=\"loss\",)\n",
    "    plt.plot(history.history['val_loss'],\"-\",label=\"val_loss\")\n",
    "    plt.title('model loss')\n",
    "    plt.xlabel('epoch')\n",
    "    plt.ylabel('loss')\n",
    "    plt.legend(loc='upper right')\n",
    "    plt.show()\n",
    "    \n",
    "# 学習の過程をグラフにする\n",
    "plot_history(history)"
   ]
  },
  {
   "cell_type": "code",
   "execution_count": null,
   "metadata": {},
   "outputs": [],
   "source": []
  }
 ],
 "metadata": {
  "kernelspec": {
   "display_name": "Python 3",
   "language": "python",
   "name": "python3"
  },
  "language_info": {
   "codemirror_mode": {
    "name": "ipython",
    "version": 3
   },
   "file_extension": ".py",
   "mimetype": "text/x-python",
   "name": "python",
   "nbconvert_exporter": "python",
   "pygments_lexer": "ipython3",
   "version": "3.7.6"
  }
 },
 "nbformat": 4,
 "nbformat_minor": 2
}
