{
 "cells": [
  {
   "cell_type": "code",
   "execution_count": null,
   "metadata": {},
   "outputs": [],
   "source": [
    "# 明日の予定を決める関数\n",
    "\n",
    "import random            # randomのインポート\n",
    "\n",
    "#グローバル変数の定義\n",
    "response_area = None     # 応答エリアのオブジェクトを保持\n",
    "\n",
    "# 明日の予定を決める関数\n",
    "def wakuwaku():\n",
    "    play =  ['小っちゃな映画館を探して映画を観に行く',\n",
    "             'おしゃれなカフェでまったりする',\n",
    "             '絶叫マシンの遊園地ではしゃぐ',\n",
    "             'マチネーをやってる劇場を探して舞台を観る',\n",
    "             'シナリオなしの路線バスの旅',\n",
    "             'モヤモヤする街を散策する',\n",
    "             'ざわめく街の酒場を放浪する']\n",
    "    # playリストからランダムに抽出\n",
    "    tomorrow = random.choice(play)\n",
    "    # 明日の予定をラベルに表示\n",
    "    response_area.configure(text=tomorrow)"
   ]
  },
  {
   "cell_type": "code",
   "execution_count": null,
   "metadata": {},
   "outputs": [],
   "source": [
    "# 画面を描画する関数\n",
    "\n",
    "import tkinter as tk                    # tkinterのインポート\n",
    "\n",
    "def run():\n",
    "    # グローバル変数を使用するための記述\n",
    "    global response_area # ①\n",
    "\n",
    "    # メインウィンドウを作成\n",
    "    root = tk.Tk()\n",
    "    # ウィンドウのタイトルを設定\n",
    "    root.title('明日のデート : ')\n",
    "    # フォントとフォントサイズを指定するためのタプルを用意\n",
    "    font = ('Helevetica', 14)\n",
    "\n",
    "    # キャンバスの作成\n",
    "    canvas = tk.Canvas(                     # ②\n",
    "                root,                       # 親要素をメインウィンドウに設定\n",
    "                width = 550,                # 幅を設定\n",
    "                height = 200,               # 高さを設定\n",
    "                relief=tk.RIDGE,            # 枠線を表示\n",
    "                bd=2                        # 枠線の幅を設定\n",
    "             )\n",
    "    canvas.pack()                           # ウィンドウ上に配置\n",
    "    \n",
    "    img = tk.PhotoImage(file = 'img1.gif')  # ③表示するイメージを用意\n",
    "    canvas.create_image(                    # キャンバス上にイメージを配置\n",
    "        0,                                  # x座標\n",
    "        0,                                  # y座標\n",
    "        image = img,                        # 配置するイメージを指定\n",
    "        anchor = tk.NW                      # 配置の起点となる位置を左上隅に指定\n",
    "    )\n",
    "\n",
    "    # 応答エリアを作成\n",
    "    response_area = tk.Label(               # ④\n",
    "                        root,               # 親要素をメインウィンドウに設定\n",
    "                        width=50,           # 幅を設定\n",
    "                        height=10,          # 高さを設定\n",
    "                        bg='pink',          # 背景色を設定\n",
    "                        font=font,          # フォントを設定\n",
    "                        relief=tk.RIDGE,    # 枠線の種類を設定\n",
    "                        bd=2                # 枠線の幅を設定\n",
    "                        )\n",
    "    response_area.pack()                    # メインウィンドウ上に配置\n",
    "\n",
    "    # ボタンの作成\n",
    "    button = tk.Button(                     # ⑤\n",
    "        root,                               # 親要素をメインウィンドウに設定\n",
    "        font=font,                          # フォントを設定\n",
    "        text='明日のデートはどーする？',    # ボタンに表示するテキスト\n",
    "        command=wakuwaku                    # クリック時にwakuwaku()関数を呼ぶ\n",
    "        )\n",
    "    button.pack()                           # メインウィンドウ上に配置\n",
    "\n",
    "    # メインループ\n",
    "    root.mainloop()"
   ]
  },
  {
   "cell_type": "code",
   "execution_count": null,
   "metadata": {},
   "outputs": [],
   "source": [
    "run()"
   ]
  },
  {
   "cell_type": "code",
   "execution_count": null,
   "metadata": {},
   "outputs": [],
   "source": []
  }
 ],
 "metadata": {
  "kernelspec": {
   "display_name": "Python 3",
   "language": "python",
   "name": "python3"
  },
  "language_info": {
   "codemirror_mode": {
    "name": "ipython",
    "version": 3
   },
   "file_extension": ".py",
   "mimetype": "text/x-python",
   "name": "python",
   "nbconvert_exporter": "python",
   "pygments_lexer": "ipython3",
   "version": "3.7.6"
  }
 },
 "nbformat": 4,
 "nbformat_minor": 2
}
