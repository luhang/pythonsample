{
 "cells": [
  {
   "cell_type": "code",
   "execution_count": 1,
   "metadata": {},
   "outputs": [
    {
     "name": "stdout",
     "output_type": "stream",
     "text": [
      "<class 'openpyxl.workbook.workbook.Workbook'>\n"
     ]
    }
   ],
   "source": [
    "# Excelブックを読み込む\n",
    "\n",
    "import openpyxl                                  # openpyxlをインポート\n",
    "\n",
    "book = openpyxl.load_workbook('地形別面積.xlsx') # Excelブックを取得\n",
    "print(type(book))                                # オブジェクトの種類を表示"
   ]
  },
  {
   "cell_type": "code",
   "execution_count": 2,
   "metadata": {},
   "outputs": [
    {
     "name": "stdout",
     "output_type": "stream",
     "text": [
      "['Sheet1', 'Sheet2', 'Sheet3']\n"
     ]
    }
   ],
   "source": [
    "# ブックを読み込んでシートのタイトルを取得する\n",
    "\n",
    "import openpyxl\n",
    "\n",
    "# Excelブックを取得\n",
    "book = openpyxl.load_workbook('地形別面積.xlsx')\n",
    "# すべてのシート名を取得 \n",
    "sheets_name =book.sheetnames\n",
    "print(sheets_name)"
   ]
  },
  {
   "cell_type": "code",
   "execution_count": 3,
   "metadata": {},
   "outputs": [
    {
     "name": "stdout",
     "output_type": "stream",
     "text": [
      "<class 'openpyxl.worksheet.worksheet.Worksheet'>\n",
      "Sheet1\n",
      "Sheet1\n"
     ]
    }
   ],
   "source": [
    "# ブックに保存されているシートを取得する\n",
    "\n",
    "# Excelブックを取得\n",
    "book = openpyxl.load_workbook('地形別面積.xlsx')\n",
    "# 名前を指定してSheet1を取得する\n",
    "sheet1 = book['Sheet1']\n",
    "# sheet1のオブジェクトの種類を出力\n",
    "print(type(sheet1))\n",
    "# sheet1に格納されているシートのタイトルを出力\n",
    "print(sheet1.title)\n",
    "# アクティブなシートのタイトルを出力する\n",
    "print(book.active.title)"
   ]
  },
  {
   "cell_type": "code",
   "execution_count": 4,
   "metadata": {},
   "outputs": [
    {
     "name": "stdout",
     "output_type": "stream",
     "text": [
      "A1セル:県名\n",
      "B1セル:山地\n",
      "C1セル:丘陵地\n",
      "D1セル:台地\n",
      "E1セル:低地\n",
      "青森県 4868 1570 1831 1237\n"
     ]
    }
   ],
   "source": [
    "# ブックの読み込み→ワークシートの読み込み→セルの読み込み\n",
    "\n",
    "import openpyxl\n",
    "# Excelブックを取得\n",
    "book = openpyxl.load_workbook('地形別面積.xlsx')\n",
    "\n",
    "# Sheet1を取得する\n",
    "sheet = book['Sheet1']\n",
    "\n",
    "# 1行目のタイトルを出力\n",
    "print('A1セル:' + sheet['A1'].value)\n",
    "print('B1セル:' + sheet['B1'].value)\n",
    "print('C1セル:' + sheet['C1'].value)\n",
    "print('D1セル:' + sheet['D1'].value)\n",
    "print('E1セル:' + sheet['E1'].value)\n",
    "# 2行目のデータを出力\n",
    "print(sheet['A2'].value,\n",
    "      sheet['B2'].value,\n",
    "      sheet['C2'].value,\n",
    "      sheet['D2'].value,\n",
    "      sheet['E2'].value\n",
    "      )"
   ]
  },
  {
   "cell_type": "code",
   "execution_count": 5,
   "metadata": {},
   "outputs": [
    {
     "name": "stdout",
     "output_type": "stream",
     "text": [
      "列1, 行2 : 青森県\n",
      "セルA2 : 青森県\n"
     ]
    }
   ],
   "source": [
    "# Cellオブジェクトから情報を取り出す\n",
    "\n",
    "import openpyxl\n",
    "\n",
    "book  = openpyxl.load_workbook('地形別面積.xlsx') # Excelブックを取得\n",
    "sheet = book['Sheet1']          # Sheet1を取得\n",
    "cel   = sheet['A2']                               # セルA2を取得\n",
    "\n",
    "# 列名、行番号、値を出力\n",
    "print('列' + str(cel.column) +  # 列名のみを取得\n",
    "      ', 行' + str(cel.row) +   # 行番号のみを取得\n",
    "      ' : ' + cel.value)        # セルの値を取得\n",
    "\n",
    "# セル番地、値を出力\n",
    "print('セル' + cel.coordinate + # 行列のセル番地を取得\n",
    "      ' : ' + cel.value)        # セルの値を取得"
   ]
  },
  {
   "cell_type": "code",
   "execution_count": 6,
   "metadata": {},
   "outputs": [
    {
     "name": "stdout",
     "output_type": "stream",
     "text": [
      "岩手県\n"
     ]
    }
   ],
   "source": [
    "# 数値でセル番地を指定する\n",
    "\n",
    "import openpyxl\n",
    "\n",
    "book  = openpyxl.load_workbook('地形別面積.xlsx') # Excelブックを取得\n",
    "sheet = book['Sheet1']                            # Sheet1を取得\n",
    "\n",
    "print(sheet.cell(row=3,       # 行を指定\n",
    "                 column=1     # 列を指定\n",
    "                 ).value)"
   ]
  },
  {
   "cell_type": "code",
   "execution_count": 7,
   "metadata": {},
   "outputs": [
    {
     "name": "stdout",
     "output_type": "stream",
     "text": [
      "2 青森県\n",
      "3 岩手県\n",
      "4 宮城県\n",
      "5 秋田県\n",
      "6 山形県\n",
      "7 福島県\n"
     ]
    }
   ],
   "source": [
    "# 指定した範囲のセルの値を取得する\n",
    "for i in range(2, 8):         # 2行目から7行目までを繰り返す\n",
    "    print(i,                  # 行番号\n",
    "          sheet.cell(row=i,   # 2～7が順番に代入される\n",
    "                     column=1 # 列は2で固定\n",
    "                     ).value)\n"
   ]
  },
  {
   "cell_type": "code",
   "execution_count": 8,
   "metadata": {},
   "outputs": [
    {
     "name": "stdout",
     "output_type": "stream",
     "text": [
      "2 青森県\n",
      "4 宮城県\n",
      "6 山形県\n"
     ]
    }
   ],
   "source": [
    "# 開始セルから行おきに取り出す（偶数列のセルを対象）\n",
    "for i in range(2, 8, 2):      # 2行目から7行目までを1行おきに繰り返す\n",
    "    print(i,                  # 行番号\n",
    "          sheet.cell(row=i,   # 2～7まで1つおきに代入される\n",
    "                     column=1 # 列は2で固定\n",
    "                     ).value)"
   ]
  },
  {
   "cell_type": "code",
   "execution_count": 9,
   "metadata": {},
   "outputs": [
    {
     "name": "stdout",
     "output_type": "stream",
     "text": [
      "最大行数-> 7 最大列数-> 5\n"
     ]
    }
   ],
   "source": [
    "# 集計表のサイズを取得する\n",
    "\n",
    "import openpyxl\n",
    "book = openpyxl.load_workbook('地形別面積.xlsx') # Excelブックを取得\n",
    "sheet = book['Sheet1']                           # Sheet1を取得\n",
    "\n",
    "print('最大行数->',\n",
    "      sheet.max_row,   # 表の行数を取得\n",
    "      '最大列数->',\n",
    "      sheet.max_column # 表の列数を取得\n",
    "      )"
   ]
  },
  {
   "cell_type": "code",
   "execution_count": 10,
   "metadata": {},
   "outputs": [
    {
     "name": "stdout",
     "output_type": "stream",
     "text": [
      "列の文字 A\n",
      "列番号 1\n"
     ]
    }
   ],
   "source": [
    "# 列番号からの列文字の取得／列文字からの列番号の取得\n",
    "\n",
    "import openpyxl\n",
    "# get_column_letter、column_index_from_stringをインポート\n",
    "from openpyxl.utils import get_column_letter, column_index_from_string\n",
    "\n",
    "print('列の文字', get_column_letter(1))        # 列番号から列の文字を取得\n",
    "print('列番号', column_index_from_string('A')) # 列の文字から列番号を取得 "
   ]
  },
  {
   "cell_type": "code",
   "execution_count": 11,
   "metadata": {},
   "outputs": [
    {
     "name": "stdout",
     "output_type": "stream",
     "text": [
      "最終列の列文字-> E\n"
     ]
    }
   ],
   "source": [
    "# 集計表の最終列を列文字で取得する\n",
    "book  = openpyxl.load_workbook('地形別面積.xlsx') # Excelブックを取得\n",
    "sheet = book['Sheet1']                            # Sheet1を取得\n",
    "print('最終列の列文字->',\n",
    "      get_column_letter(sheet.max_column))        # 最終列の列文字を取得"
   ]
  },
  {
   "cell_type": "code",
   "execution_count": 12,
   "metadata": {},
   "outputs": [
    {
     "name": "stdout",
     "output_type": "stream",
     "text": [
      "((<Cell 'Sheet1'.A2>,\n",
      "  <Cell 'Sheet1'.B2>,\n",
      "  <Cell 'Sheet1'.C2>,\n",
      "  <Cell 'Sheet1'.D2>,\n",
      "  <Cell 'Sheet1'.E2>),\n",
      " (<Cell 'Sheet1'.A3>,\n",
      "  <Cell 'Sheet1'.B3>,\n",
      "  <Cell 'Sheet1'.C3>,\n",
      "  <Cell 'Sheet1'.D3>,\n",
      "  <Cell 'Sheet1'.E3>),\n",
      " (<Cell 'Sheet1'.A4>,\n",
      "  <Cell 'Sheet1'.B4>,\n",
      "  <Cell 'Sheet1'.C4>,\n",
      "  <Cell 'Sheet1'.D4>,\n",
      "  <Cell 'Sheet1'.E4>),\n",
      " (<Cell 'Sheet1'.A5>,\n",
      "  <Cell 'Sheet1'.B5>,\n",
      "  <Cell 'Sheet1'.C5>,\n",
      "  <Cell 'Sheet1'.D5>,\n",
      "  <Cell 'Sheet1'.E5>),\n",
      " (<Cell 'Sheet1'.A6>,\n",
      "  <Cell 'Sheet1'.B6>,\n",
      "  <Cell 'Sheet1'.C6>,\n",
      "  <Cell 'Sheet1'.D6>,\n",
      "  <Cell 'Sheet1'.E6>),\n",
      " (<Cell 'Sheet1'.A7>,\n",
      "  <Cell 'Sheet1'.B7>,\n",
      "  <Cell 'Sheet1'.C7>,\n",
      "  <Cell 'Sheet1'.D7>,\n",
      "  <Cell 'Sheet1'.E7>))\n"
     ]
    }
   ],
   "source": [
    "# ワークシートの特定の範囲のCellオブジェクトを取得する\n",
    "\n",
    "import openpyxl, pprint\n",
    "book  = openpyxl.load_workbook('地形別面積.xlsx') # Excelブックを取得\n",
    "sheet = book['Sheet1']                            # Sheet1を取得\n",
    "\n",
    "pprint.pprint((sheet['A2':'E7']))                 # A2～E7のCellオブジェクトを取得"
   ]
  },
  {
   "cell_type": "code",
   "execution_count": null,
   "metadata": {},
   "outputs": [],
   "source": []
  }
 ],
 "metadata": {
  "kernelspec": {
   "display_name": "Python 3",
   "language": "python",
   "name": "python3"
  },
  "language_info": {
   "codemirror_mode": {
    "name": "ipython",
    "version": 3
   },
   "file_extension": ".py",
   "mimetype": "text/x-python",
   "name": "python",
   "nbconvert_exporter": "python",
   "pygments_lexer": "ipython3",
   "version": "3.7.6"
  }
 },
 "nbformat": 4,
 "nbformat_minor": 2
}
