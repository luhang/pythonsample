{
 "cells": [
  {
   "cell_type": "code",
   "execution_count": 2,
   "metadata": {},
   "outputs": [
    {
     "name": "stdout",
     "output_type": "stream",
     "text": [
      "((<Cell 'Sheet1'.A1>,\n",
      "  <Cell 'Sheet1'.A2>,\n",
      "  <Cell 'Sheet1'.A3>,\n",
      "  <Cell 'Sheet1'.A4>,\n",
      "  <Cell 'Sheet1'.A5>,\n",
      "  <Cell 'Sheet1'.A6>,\n",
      "  <Cell 'Sheet1'.A7>),\n",
      " (<Cell 'Sheet1'.B1>,\n",
      "  <Cell 'Sheet1'.B2>,\n",
      "  <Cell 'Sheet1'.B3>,\n",
      "  <Cell 'Sheet1'.B4>,\n",
      "  <Cell 'Sheet1'.B5>,\n",
      "  <Cell 'Sheet1'.B6>,\n",
      "  <Cell 'Sheet1'.B7>),\n",
      " (<Cell 'Sheet1'.C1>,\n",
      "  <Cell 'Sheet1'.C2>,\n",
      "  <Cell 'Sheet1'.C3>,\n",
      "  <Cell 'Sheet1'.C4>,\n",
      "  <Cell 'Sheet1'.C5>,\n",
      "  <Cell 'Sheet1'.C6>,\n",
      "  <Cell 'Sheet1'.C7>),\n",
      " (<Cell 'Sheet1'.D1>,\n",
      "  <Cell 'Sheet1'.D2>,\n",
      "  <Cell 'Sheet1'.D3>,\n",
      "  <Cell 'Sheet1'.D4>,\n",
      "  <Cell 'Sheet1'.D5>,\n",
      "  <Cell 'Sheet1'.D6>,\n",
      "  <Cell 'Sheet1'.D7>),\n",
      " (<Cell 'Sheet1'.E1>,\n",
      "  <Cell 'Sheet1'.E2>,\n",
      "  <Cell 'Sheet1'.E3>,\n",
      "  <Cell 'Sheet1'.E4>,\n",
      "  <Cell 'Sheet1'.E5>,\n",
      "  <Cell 'Sheet1'.E6>,\n",
      "  <Cell 'Sheet1'.E7>))\n"
     ]
    }
   ],
   "source": [
    "# columnプロパティが返すGeneratorオブジェクトをタプルにする\n",
    "\n",
    "import openpyxl, pprint\n",
    "book  = openpyxl.load_workbook('地形別面積.xlsx') # Excelブックを取得\n",
    "sheet = book['Sheet1']                            # Sheet1を取得\n",
    "\n",
    "t = tuple(sheet.columns)  # columnsで取得した列オブジェクトをタプルにする\n",
    "pprint.pprint(t)          # 出力"
   ]
  },
  {
   "cell_type": "code",
   "execution_count": 3,
   "metadata": {},
   "outputs": [
    {
     "name": "stdout",
     "output_type": "stream",
     "text": [
      "県名\n",
      "青森県\n",
      "岩手県\n",
      "宮城県\n",
      "秋田県\n",
      "山形県\n",
      "福島県\n"
     ]
    }
   ],
   "source": [
    "# 集計表から特定の列データのみを取り出す\n",
    "\n",
    "import openpyxl, pprint\n",
    "book  = openpyxl.load_workbook('地形別面積.xlsx') # Excelブックを取得\n",
    "sheet = book['Sheet1']                            # Sheet1を取得\n",
    "\n",
    "t = tuple(sheet.columns)  # columnsで取得した列オブジェクトをタプルにする\n",
    "for cell_obj in t[0]:     # 列オブジェクトのタプルから1列取り出す\n",
    "    print(cell_obj.value)"
   ]
  },
  {
   "cell_type": "code",
   "execution_count": 5,
   "metadata": {},
   "outputs": [
    {
     "name": "stdout",
     "output_type": "stream",
     "text": [
      "県名\n",
      "青森県\n",
      "岩手県\n",
      "宮城県\n",
      "秋田県\n",
      "山形県\n",
      "福島県\n",
      "--- 列のデータ終わり ---\n",
      "山地\n",
      "4868\n",
      "11021\n",
      "2158\n",
      "6755\n",
      "6307\n",
      "10389\n",
      "--- 列のデータ終わり ---\n",
      "丘陵地\n",
      "1570\n",
      "2089\n",
      "2673\n",
      "1629\n",
      "841\n",
      "702\n",
      "--- 列のデータ終わり ---\n",
      "台地\n",
      "1831\n",
      "881\n",
      "652\n",
      "710\n",
      "776\n",
      "1114\n",
      "--- 列のデータ終わり ---\n",
      "低地\n",
      "1237\n",
      "1261\n",
      "1757\n",
      "2453\n",
      "1393\n",
      "1437\n",
      "--- 列のデータ終わり ---\n"
     ]
    }
   ],
   "source": [
    "# すべての列のデータを列単位で取得する\n",
    "\n",
    "import openpyxl, pprint\n",
    "book  = openpyxl.load_workbook('地形別面積.xlsx') # Excelブックを取得\n",
    "sheet = book['Sheet1']                            # Sheet1を取得\n",
    "\n",
    "for cells_obj in tuple(sheet.columns): # 列データのタプルから1列ずつ取り出す\n",
    "    for  cell_obj in cells_obj:\n",
    "        print(cell_obj.value)\n",
    "    print('--- 列のデータ終わり ---')  # 列の区切りを示す"
   ]
  },
  {
   "cell_type": "code",
   "execution_count": 6,
   "metadata": {},
   "outputs": [
    {
     "name": "stdout",
     "output_type": "stream",
     "text": [
      "((<Cell 'Sheet1'.A1>, <Cell 'Sheet1'.B1>, <Cell 'Sheet1'.C1>, <Cell 'Sheet1'.D1>, <Cell 'Sheet1'.E1>), (<Cell 'Sheet1'.A2>, <Cell 'Sheet1'.B2>, <Cell 'Sheet1'.C2>, <Cell 'Sheet1'.D2>, <Cell 'Sheet1'.E2>), (<Cell 'Sheet1'.A3>, <Cell 'Sheet1'.B3>, <Cell 'Sheet1'.C3>, <Cell 'Sheet1'.D3>, <Cell 'Sheet1'.E3>), (<Cell 'Sheet1'.A4>, <Cell 'Sheet1'.B4>, <Cell 'Sheet1'.C4>, <Cell 'Sheet1'.D4>, <Cell 'Sheet1'.E4>), (<Cell 'Sheet1'.A5>, <Cell 'Sheet1'.B5>, <Cell 'Sheet1'.C5>, <Cell 'Sheet1'.D5>, <Cell 'Sheet1'.E5>), (<Cell 'Sheet1'.A6>, <Cell 'Sheet1'.B6>, <Cell 'Sheet1'.C6>, <Cell 'Sheet1'.D6>, <Cell 'Sheet1'.E6>), (<Cell 'Sheet1'.A7>, <Cell 'Sheet1'.B7>, <Cell 'Sheet1'.C7>, <Cell 'Sheet1'.D7>, <Cell 'Sheet1'.E7>))\n"
     ]
    }
   ],
   "source": [
    "# rowsプロパティが返すGeneratorオブジェクトをタプルにする\n",
    "\n",
    "import openpyxl, pprint\n",
    "book  = openpyxl.load_workbook('地形別面積.xlsx') # Excelブックを取得\n",
    "sheet = book['Sheet1']                            # Sheet1を取得\n",
    "\n",
    "t = tuple(sheet.rows)\n",
    "print(t)\n"
   ]
  },
  {
   "cell_type": "code",
   "execution_count": 7,
   "metadata": {},
   "outputs": [
    {
     "name": "stdout",
     "output_type": "stream",
     "text": [
      "青森県\n",
      "4868\n",
      "1570\n",
      "1831\n",
      "1237\n"
     ]
    }
   ],
   "source": [
    "# 集計表から特定のレコードのみを取り出す\n",
    "\n",
    "import openpyxl, pprint\n",
    "book  = openpyxl.load_workbook('地形別面積.xlsx') # Excelブックを取得\n",
    "sheet = book['Sheet1']                            # Sheet1を取得\n",
    "\n",
    "t = tuple(sheet.rows)     # columnsで取得したオブジェクトをタプルにする\n",
    "\n",
    "for cell_obj in t[1]:     # レコードのタプルから1行取り出す\n",
    "    print(cell_obj.value)"
   ]
  },
  {
   "cell_type": "code",
   "execution_count": 8,
   "metadata": {},
   "outputs": [
    {
     "name": "stdout",
     "output_type": "stream",
     "text": [
      "県名\n",
      "山地\n",
      "丘陵地\n",
      "台地\n",
      "低地\n",
      "--- 1行のレコード終わり ---\n",
      "青森県\n",
      "4868\n",
      "1570\n",
      "1831\n",
      "1237\n",
      "--- 1行のレコード終わり ---\n",
      "岩手県\n",
      "11021\n",
      "2089\n",
      "881\n",
      "1261\n",
      "--- 1行のレコード終わり ---\n",
      "宮城県\n",
      "2158\n",
      "2673\n",
      "652\n",
      "1757\n",
      "--- 1行のレコード終わり ---\n",
      "秋田県\n",
      "6755\n",
      "1629\n",
      "710\n",
      "2453\n",
      "--- 1行のレコード終わり ---\n",
      "山形県\n",
      "6307\n",
      "841\n",
      "776\n",
      "1393\n",
      "--- 1行のレコード終わり ---\n",
      "福島県\n",
      "10389\n",
      "702\n",
      "1114\n",
      "1437\n",
      "--- 1行のレコード終わり ---\n"
     ]
    }
   ],
   "source": [
    "# すべてのデータをレコード単位で取得する\n",
    "\n",
    "import openpyxl, pprint\n",
    "book  = openpyxl.load_workbook('地形別面積.xlsx') # Excelブックを取得\n",
    "sheet = book['Sheet1']                            # Sheet1を取得\n",
    "\n",
    "for cells_obj in tuple(sheet.rows):      # 1行のレコードを取り出す\n",
    "    for  cell_obj in cells_obj:          # レコードからCellオブジェクトを取り出す\n",
    "        print(cell_obj.value)\n",
    "    print('--- 1行のレコード終わり ---') # 1行のレコードの区切りを示す\n"
   ]
  },
  {
   "cell_type": "code",
   "execution_count": 9,
   "metadata": {},
   "outputs": [
    {
     "name": "stdout",
     "output_type": "stream",
     "text": [
      "A2 青森県\n",
      "B2 4868\n",
      "C2 1570\n",
      "D2 1831\n",
      "E2 1237\n",
      "--- 1行のレコード終わり ---\n",
      "A3 岩手県\n",
      "B3 11021\n",
      "C3 2089\n",
      "D3 881\n",
      "E3 1261\n",
      "--- 1行のレコード終わり ---\n",
      "A4 宮城県\n",
      "B4 2158\n",
      "C4 2673\n",
      "D4 652\n",
      "E4 1757\n",
      "--- 1行のレコード終わり ---\n",
      "A5 秋田県\n",
      "B5 6755\n",
      "C5 1629\n",
      "D5 710\n",
      "E5 2453\n",
      "--- 1行のレコード終わり ---\n",
      "A6 山形県\n",
      "B6 6307\n",
      "C6 841\n",
      "D6 776\n",
      "E6 1393\n",
      "--- 1行のレコード終わり ---\n",
      "A7 福島県\n",
      "B7 10389\n",
      "C7 702\n",
      "D7 1114\n",
      "E7 1437\n",
      "--- 1行のレコード終わり ---\n"
     ]
    }
   ],
   "source": [
    "# 指定した範囲のデータをレコード単位ですべて取り出す\n",
    "\n",
    "import openpyxl\n",
    "book  = openpyxl.load_workbook('地形別面積.xlsx') # Excelブックを取得\n",
    "sheet = book['Sheet1']                            # Sheet1を取得\n",
    "\n",
    "for row_obj in sheet['A2':'E7']:                  # ①1行のレコードを取り出す\n",
    "    for cell_obj in row_obj:                      # ②レコードからセルを取り出す\n",
    "        print(cell_obj.coordinate,                # セル番地\n",
    "              cell_obj.value                      # セルの値\n",
    "              )\n",
    "    print('--- 1行のレコード終わり ---')          # 1行のレコードの区切りを示す"
   ]
  },
  {
   "cell_type": "code",
   "execution_count": null,
   "metadata": {},
   "outputs": [],
   "source": []
  }
 ],
 "metadata": {
  "kernelspec": {
   "display_name": "Python 3",
   "language": "python",
   "name": "python3"
  },
  "language_info": {
   "codemirror_mode": {
    "name": "ipython",
    "version": 3
   },
   "file_extension": ".py",
   "mimetype": "text/x-python",
   "name": "python",
   "nbconvert_exporter": "python",
   "pygments_lexer": "ipython3",
   "version": "3.7.6"
  }
 },
 "nbformat": 4,
 "nbformat_minor": 2
}
