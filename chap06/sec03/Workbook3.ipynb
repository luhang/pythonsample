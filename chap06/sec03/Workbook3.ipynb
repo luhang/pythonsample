{
 "cells": [
  {
   "cell_type": "code",
   "execution_count": 8,
   "metadata": {},
   "outputs": [],
   "source": [
    "# 指定した商品の単価を更新する関数\n",
    "import openpyxl\n",
    "\n",
    "def priceUpdater(unitprice, fname):\n",
    "    book = openpyxl.load_workbook('惣菜売上.xlsx')   # Workbookオブジェクトを生成\n",
    "    sheet = book['Sheet1']                           # Worksheetオブジェクトを生成\n",
    "\n",
    "    # 該当する商品の単価を更新する\n",
    "    for row_num in range(2, sheet.max_row + 1):  # ①先頭行を除いて2行目からループを開始\n",
    "        name = sheet.cell(row=row_num,           # 行番号を指定\n",
    "                          column=1               # 商品名が登録されている1列目を指定\n",
    "                          ).value                # 商品名を取得する\n",
    "        if name in unitprice:                    # ②商品名がPRICE_UPDATESの商品名と一致するか\n",
    "                                                 # 一致したらPRICE_UPDATESの単価に更新する\n",
    "            sheet.cell(row=row_num,              # 行番号を指定\n",
    "                       column=2                  # 単価が登録されている2行目を指定\n",
    "                       ).value = unitprice[name] # PRICE_UPDATESのnameキーの値に更新\n",
    "\n",
    "    book.save(fname + '.xlsx')                   # 更新したワークブックを別名で保存"
   ]
  },
  {
   "cell_type": "code",
   "execution_count": 10,
   "metadata": {
    "collapsed": true
   },
   "outputs": [],
   "source": [
    "# 商品単価を更新して別名のファイルに保存する。\n",
    "\n",
    "# 変更する商品名と変更後の単価を辞書に登録\n",
    "pu = {'秋刀魚の竜田揚げ': 3.66,       \n",
    "      '鶏つみれ大根': 2.78,\n",
    "      'きのこの白和え': 2.16}\n",
    "# 保存するファイル名\n",
    "fname = '単価更新1月25日'\n",
    "priceUpdater(pu, fname)"
   ]
  },
  {
   "cell_type": "code",
   "execution_count": null,
   "metadata": {},
   "outputs": [],
   "source": []
  }
 ],
 "metadata": {
  "kernelspec": {
   "display_name": "Python 3",
   "language": "python",
   "name": "python3"
  },
  "language_info": {
   "codemirror_mode": {
    "name": "ipython",
    "version": 3
   },
   "file_extension": ".py",
   "mimetype": "text/x-python",
   "name": "python",
   "nbconvert_exporter": "python",
   "pygments_lexer": "ipython3",
   "version": "3.7.6"
  }
 },
 "nbformat": 4,
 "nbformat_minor": 2
}
