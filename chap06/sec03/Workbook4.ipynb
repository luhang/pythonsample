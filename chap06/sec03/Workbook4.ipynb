{
 "cells": [
  {
   "cell_type": "code",
   "execution_count": 8,
   "metadata": {},
   "outputs": [
    {
     "data": {
      "text/plain": [
       "'=SUM(A1:A2)'"
      ]
     },
     "execution_count": 8,
     "metadata": {},
     "output_type": "execute_result"
    }
   ],
   "source": [
    "# セルに数式を入力する\n",
    "\n",
    "import openpyxl\n",
    "book = openpyxl.Workbook()  # Excelブックを生成\n",
    "sheet = book.active         # アクティブなワークシートを取得\n",
    "sheet['A1'] = 500           # A1セルに値を入力\n",
    "sheet['A2'] = 300           # A2セルに値を入力\n",
    "sheet['A3'] = '=SUM(A1:A2)' # A3セルにSUM()関数を入力\n",
    "sheet['A3'].value           # A3セルの数式を確認"
   ]
  },
  {
   "cell_type": "code",
   "execution_count": 9,
   "metadata": {},
   "outputs": [],
   "source": [
    "book.save('sample.xlsx')    # ブックを保存"
   ]
  },
  {
   "cell_type": "code",
   "execution_count": 16,
   "metadata": {},
   "outputs": [
    {
     "data": {
      "text/plain": [
       "30.0"
      ]
     },
     "execution_count": 16,
     "metadata": {},
     "output_type": "execute_result"
    }
   ],
   "source": [
    "# セルの幅と高さを設定する\n",
    "\n",
    "import openpyxl\n",
    "book = openpyxl.Workbook()              # Workbookオブジェクトを生成\n",
    "sheet = book.active                     # アクティブシートをストク\n",
    "sheet['A1'] = 'column_dim'              # A1セルに文字列を入力\n",
    "sheet['B2'] = 'row_dim'                 # B2セルに文字列を入力\n",
    "sheet.column_dimensions['A'].width = 30 # A列の幅を30に設定\n",
    "sheet.row_dimensions[2].height = 100    # 2行目の高さを100に設定\n",
    "sheet.column_dimensions['A'].width      # A列の幅を確認"
   ]
  },
  {
   "cell_type": "code",
   "execution_count": 17,
   "metadata": {},
   "outputs": [
    {
     "data": {
      "text/plain": [
       "100.0"
      ]
     },
     "execution_count": 17,
     "metadata": {},
     "output_type": "execute_result"
    }
   ],
   "source": [
    "sheet.row_dimensions[2].height          # 2行目の高さを確認"
   ]
  },
  {
   "cell_type": "code",
   "execution_count": 18,
   "metadata": {},
   "outputs": [],
   "source": [
    "book.save('dimensions.xlsx')            # Excelブックとして保存"
   ]
  },
  {
   "cell_type": "code",
   "execution_count": 19,
   "metadata": {},
   "outputs": [],
   "source": [
    "# セルを結合する\n",
    "\n",
    "import openpyxl\n",
    "book = openpyxl.Workbook()\n",
    "sheet = book.active\n",
    "sheet.merge_cells('A1:A2')   # セルを結合\n",
    "sheet['A1'] = 'A1：A2結合'   # セルに入力\n",
    "sheet.merge_cells('B1:C1')   # セルを結合\n",
    "sheet['B1'] = 'B1：C1結合'   # セルに入力\n",
    "sheet.merge_cells('D1:G3')   # セルを結合\n",
    "sheet['D1'] = 'D1：G3結合'   # セルに入力\n",
    "book.save('merge_cells.xlsx')"
   ]
  },
  {
   "cell_type": "code",
   "execution_count": 23,
   "metadata": {},
   "outputs": [],
   "source": [
    "# セルの結合を解除する\n",
    "\n",
    "import openpyxl\n",
    "# カレントディレクトリのmerge_cells.xlsxを読み込む\n",
    "book = openpyxl.load_workbook('merge_cells.xlsx')\n",
    "sheet = book.active\n",
    "sheet.unmerge_cells('A1:A2') # 結合を解除\n",
    "sheet.unmerge_cells('B1:C1') # 結合を解除\n",
    "sheet.unmerge_cells('D1:G3') # 結合を解除\n",
    "book.save('merge_cells.xlsx')"
   ]
  },
  {
   "cell_type": "code",
   "execution_count": 24,
   "metadata": {},
   "outputs": [],
   "source": [
    "# ワークシートの1行目を固定する\n",
    "\n",
    "import openpyxl\n",
    "book = openpyxl.load_workbook('惣菜売上.xlsx')\n",
    "sheet = book.active\n",
    "sheet.freeze_panes = 'A2'\n",
    "book.save('惣菜売上_freeze.xlsx')"
   ]
  },
  {
   "cell_type": "code",
   "execution_count": 27,
   "metadata": {},
   "outputs": [],
   "source": [
    "# レコード単位でデータを追加する\n",
    "\n",
    "import openpyxl\n",
    "\n",
    "def writeCell(rows, fname):\n",
    "    book  = openpyxl.Workbook()  # ブックを生成\n",
    "    sheet = book.active          # アクティブなシートを取得\n",
    "    for row in rows:             # 行数の数だけ繰り返す\n",
    "        sheet.append(row)        # ワークシートに追加する\n",
    "\n",
    "    book.save(fname + '.xlsx')   # ブックを保存"
   ]
  },
  {
   "cell_type": "code",
   "execution_count": 28,
   "metadata": {},
   "outputs": [],
   "source": [
    "# レコードのタプルをまとめたリストを作成\n",
    "rows = [\n",
    "    ('月', '商品A', '商品B'), # タイトル行\n",
    "    (1,  30, 35),             # 12行のレコードデータ\n",
    "    (2,  10, 30),\n",
    "    (3,  40, 60),\n",
    "    (4,  50, 70),\n",
    "    (5,  20, 10),\n",
    "    (6,  30, 40),\n",
    "    (7,  50, 30),\n",
    "    (8,  65, 30),\n",
    "    (9,  70, 30),\n",
    "    (10, 50, 40),\n",
    "    (11, 60, 50),\n",
    "    (12, 65, 55),\n",
    "]\n",
    "# ファイル名\n",
    "fname = '月別売上'\n",
    "# writeCell()を実行\n",
    "writeCell(rows, fname)"
   ]
  },
  {
   "cell_type": "code",
   "execution_count": null,
   "metadata": {},
   "outputs": [],
   "source": []
  }
 ],
 "metadata": {
  "kernelspec": {
   "display_name": "Python 3",
   "language": "python",
   "name": "python3"
  },
  "language_info": {
   "codemirror_mode": {
    "name": "ipython",
    "version": 3
   },
   "file_extension": ".py",
   "mimetype": "text/x-python",
   "name": "python",
   "nbconvert_exporter": "python",
   "pygments_lexer": "ipython3",
   "version": "3.7.6"
  }
 },
 "nbformat": 4,
 "nbformat_minor": 2
}
