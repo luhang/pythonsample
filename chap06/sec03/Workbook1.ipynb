{
 "cells": [
  {
   "cell_type": "code",
   "execution_count": 1,
   "metadata": {},
   "outputs": [],
   "source": [
    "# 新規のWorkbookオブジェクトを生成する\n",
    "\n",
    "import openpyxl\n",
    "book = openpyxl.Workbook()    # Workbookオブジェクトを生成"
   ]
  },
  {
   "cell_type": "code",
   "execution_count": 2,
   "metadata": {},
   "outputs": [
    {
     "name": "stdout",
     "output_type": "stream",
     "text": [
      "['Sheet']\n"
     ]
    }
   ],
   "source": [
    "print(book.sheetnames)        # 新規ブックに含まれるワークシート名を表示"
   ]
  },
  {
   "cell_type": "code",
   "execution_count": 3,
   "metadata": {},
   "outputs": [
    {
     "name": "stdout",
     "output_type": "stream",
     "text": [
      "Sheet\n"
     ]
    }
   ],
   "source": [
    "print(book.active.title)      # アクティブなワークシート名を表示"
   ]
  },
  {
   "cell_type": "code",
   "execution_count": 4,
   "metadata": {},
   "outputs": [
    {
     "name": "stdout",
     "output_type": "stream",
     "text": [
      "['Sales_2020']\n"
     ]
    }
   ],
   "source": [
    "# ワークシートに独自の名前を付ける\n",
    "sheet = book['Sheet']         # Sheetを取得\n",
    "sheet.title = 'Sales_2020'    # sheetにはWorksheetオブジェクトが格納されている\n",
    "print(book.sheetnames)        # 名前が変更されたか確認する"
   ]
  },
  {
   "cell_type": "code",
   "execution_count": 5,
   "metadata": {},
   "outputs": [],
   "source": [
    "# WorkbookオブジェクトをXLSX形式のExcelブックとして保存\n",
    "\n",
    "import openpyxl\n",
    "book = openpyxl.Workbook()    # Workbookオブジェクトを生成\n",
    "book.save('example.xlsx')     # 名前を付けて保存する"
   ]
  },
  {
   "cell_type": "code",
   "execution_count": 6,
   "metadata": {},
   "outputs": [],
   "source": [
    "import openpyxl\n",
    "book = openpyxl.Workbook()    # Workbookオブジェクトを生成\n",
    "book.save('sample/example.xlsx')     # 名前を付けて保存する"
   ]
  },
  {
   "cell_type": "code",
   "execution_count": 9,
   "metadata": {},
   "outputs": [
    {
     "data": {
      "text/plain": [
       "['Sheet']"
      ]
     },
     "execution_count": 9,
     "metadata": {},
     "output_type": "execute_result"
    }
   ],
   "source": [
    "# Workbookオブジェクトにワークシートを追加する\n",
    "\n",
    "import openpyxl\n",
    "book = openpyxl.Workbook()    # Workbookオブジェクトを生成\n",
    "book.sheetnames"
   ]
  },
  {
   "cell_type": "code",
   "execution_count": 10,
   "metadata": {},
   "outputs": [
    {
     "data": {
      "text/plain": [
       "<Worksheet \"Sheet1\">"
      ]
     },
     "execution_count": 10,
     "metadata": {},
     "output_type": "execute_result"
    }
   ],
   "source": [
    "book.create_sheet()"
   ]
  },
  {
   "cell_type": "code",
   "execution_count": 11,
   "metadata": {},
   "outputs": [
    {
     "data": {
      "text/plain": [
       "['Sheet', 'Sheet1']"
      ]
     },
     "execution_count": 11,
     "metadata": {},
     "output_type": "execute_result"
    }
   ],
   "source": [
    "book.sheetnames"
   ]
  },
  {
   "cell_type": "code",
   "execution_count": null,
   "metadata": {},
   "outputs": [],
   "source": []
  }
 ],
 "metadata": {
  "kernelspec": {
   "display_name": "Python 3",
   "language": "python",
   "name": "python3"
  },
  "language_info": {
   "codemirror_mode": {
    "name": "ipython",
    "version": 3
   },
   "file_extension": ".py",
   "mimetype": "text/x-python",
   "name": "python",
   "nbconvert_exporter": "python",
   "pygments_lexer": "ipython3",
   "version": "3.7.6"
  }
 },
 "nbformat": 4,
 "nbformat_minor": 2
}
