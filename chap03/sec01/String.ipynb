{
 "cells": [
  {
   "cell_type": "code",
   "execution_count": 1,
   "metadata": {},
   "outputs": [
    {
     "data": {
      "text/plain": [
       "'こんにちは\\nPython!'"
      ]
     },
     "execution_count": 1,
     "metadata": {},
     "output_type": "execute_result"
    }
   ],
   "source": [
    "'''こんにちは\n",
    "Python!'''"
   ]
  },
  {
   "cell_type": "code",
   "execution_count": 2,
   "metadata": {},
   "outputs": [
    {
     "name": "stdout",
     "output_type": "stream",
     "text": [
      "こんにちは\n",
      "Python!\n"
     ]
    }
   ],
   "source": [
    "print('''こんにちは\n",
    "Python!''')"
   ]
  },
  {
   "cell_type": "code",
   "execution_count": 3,
   "metadata": {},
   "outputs": [
    {
     "name": "stdout",
     "output_type": "stream",
     "text": [
      "こんにちは Python!\n"
     ]
    }
   ],
   "source": [
    "# print()関数で異なる文字列をまとめて出力する\n",
    "str1 = 'こんにちは' # 変数str1に文字列を格納\n",
    "str2 = 'Python!'    # 変数str2に文字列を格納\n",
    "print(str1, str2)   # str1、str2を出力"
   ]
  },
  {
   "cell_type": "code",
   "execution_count": 4,
   "metadata": {},
   "outputs": [
    {
     "data": {
      "text/plain": [
       "'こんにちはPython!'"
      ]
     },
     "execution_count": 4,
     "metadata": {},
     "output_type": "execute_result"
    }
   ],
   "source": [
    "'こんにちは' 'Python!'"
   ]
  },
  {
   "cell_type": "code",
   "execution_count": 6,
   "metadata": {},
   "outputs": [
    {
     "name": "stdout",
     "output_type": "stream",
     "text": [
      "こんにちは\n",
      "Python!\n"
     ]
    }
   ],
   "source": [
    "# 「\\n」で改行する\n",
    "print('こんにちは\\nPython!')"
   ]
  },
  {
   "cell_type": "code",
   "execution_count": 7,
   "metadata": {},
   "outputs": [
    {
     "name": "stdout",
     "output_type": "stream",
     "text": [
      "こんにちは\n"
     ]
    }
   ],
   "source": [
    "# 文字列結合演算子の「+」で連結する\n",
    "a = 'こん'\n",
    "b = 'にちは'\n",
    "print(a + b)  # 変数aとbに格納されている文字列を連結する"
   ]
  },
  {
   "cell_type": "code",
   "execution_count": 8,
   "metadata": {},
   "outputs": [
    {
     "name": "stdout",
     "output_type": "stream",
     "text": [
      "こん にちは\n"
     ]
    }
   ],
   "source": [
    "# 「,」で区切って連続して表示する\n",
    "print(a, b)"
   ]
  },
  {
   "cell_type": "code",
   "execution_count": 9,
   "metadata": {},
   "outputs": [
    {
     "name": "stdout",
     "output_type": "stream",
     "text": [
      "ようこそ ようこそ ようこそ ようこそ \n",
      "!!!!!!!!\n",
      "Pythonの世界へ\n"
     ]
    }
   ],
   "source": [
    "# 「* 数字」で直前の文字列を繰り返す\n",
    "start = 'ようこそ ' * 4 + '\\n'  # 「* 4」で「ようこそ」を4回繰り返して改行\n",
    "middle = '!' * 8 + '\\n'\t        # 「* 8」で「!」を8回繰り返して改行\n",
    "end = 'Pythonの世界へ'\n",
    "print(start + middle + end)\t    # a、b、cの文字列を連結して表示"
   ]
  },
  {
   "cell_type": "code",
   "execution_count": 10,
   "metadata": {},
   "outputs": [
    {
     "data": {
      "text/plain": [
       "20"
      ]
     },
     "execution_count": 10,
     "metadata": {},
     "output_type": "execute_result"
    }
   ],
   "source": [
    "# 文字列の文字数を知る\n",
    "mail = 'user-111@example.com'\n",
    "len(mail)"
   ]
  },
  {
   "cell_type": "code",
   "execution_count": 11,
   "metadata": {},
   "outputs": [
    {
     "data": {
      "text/plain": [
       "'2'"
      ]
     },
     "execution_count": 11,
     "metadata": {},
     "output_type": "execute_result"
    }
   ],
   "source": [
    "# 文字列の先頭の文字を取り出す\n",
    "'2の3乗は8'[0]  # 先頭文字のインデックスは「0」"
   ]
  },
  {
   "cell_type": "code",
   "execution_count": 14,
   "metadata": {},
   "outputs": [
    {
     "data": {
      "text/plain": [
       "'3'"
      ]
     },
     "execution_count": 14,
     "metadata": {},
     "output_type": "execute_result"
    }
   ],
   "source": [
    "# 変数に格納された文字列から取り出す\n",
    "a = '2の3乗は8'\n",
    "a[2]  # 3つ目の文字を取り出す"
   ]
  },
  {
   "cell_type": "code",
   "execution_count": 15,
   "metadata": {},
   "outputs": [
    {
     "data": {
      "text/plain": [
       "'8'"
      ]
     },
     "execution_count": 15,
     "metadata": {},
     "output_type": "execute_result"
    }
   ],
   "source": [
    "a[-1]          # 右端の文字を取り出す"
   ]
  },
  {
   "cell_type": "code",
   "execution_count": 16,
   "metadata": {},
   "outputs": [
    {
     "data": {
      "text/plain": [
       "'user-111@example.com'"
      ]
     },
     "execution_count": 16,
     "metadata": {},
     "output_type": "execute_result"
    }
   ],
   "source": [
    "# [インデックス:]でスライス\n",
    "# 全部で20文字\n",
    "mail = 'user-111@example.com'\n",
    "mail[:]   # インデックスを指定しないと文字列がすべてスライスされる"
   ]
  },
  {
   "cell_type": "code",
   "execution_count": 17,
   "metadata": {},
   "outputs": [
    {
     "data": {
      "text/plain": [
       "'example.com'"
      ]
     },
     "execution_count": 17,
     "metadata": {},
     "output_type": "execute_result"
    }
   ],
   "source": [
    "mail[9:]  # @のあとのeは10番目なのでインデックスは「9」"
   ]
  },
  {
   "cell_type": "code",
   "execution_count": 18,
   "metadata": {},
   "outputs": [
    {
     "data": {
      "text/plain": [
       "'com'"
      ]
     },
     "execution_count": 18,
     "metadata": {},
     "output_type": "execute_result"
    }
   ],
   "source": [
    "# 末尾の3文字をスライス\n",
    "mail[-3:]  # 末尾から3つ目の文字から末尾までをスライス"
   ]
  },
  {
   "cell_type": "code",
   "execution_count": 19,
   "metadata": {},
   "outputs": [
    {
     "data": {
      "text/plain": [
       "''"
      ]
     },
     "execution_count": 19,
     "metadata": {},
     "output_type": "execute_result"
    }
   ],
   "source": [
    "# 「user-111@example.com」の先頭から任意の位置までをスライスする\n",
    "mail = 'user-111@example.com'\n",
    "mail[:0] # 0を指定すると何もスライスされない"
   ]
  },
  {
   "cell_type": "code",
   "execution_count": 20,
   "metadata": {},
   "outputs": [
    {
     "data": {
      "text/plain": [
       "'u'"
      ]
     },
     "execution_count": 20,
     "metadata": {},
     "output_type": "execute_result"
    }
   ],
   "source": [
    "# 1を指定すると1 - 1でインデックス0となり、先頭文字のみスライスされる\n",
    "mail[:1] "
   ]
  },
  {
   "cell_type": "code",
   "execution_count": 21,
   "metadata": {},
   "outputs": [
    {
     "data": {
      "text/plain": [
       "'user-111'"
      ]
     },
     "execution_count": 21,
     "metadata": {},
     "output_type": "execute_result"
    }
   ],
   "source": [
    " # 8を指定すると8－1でインデックス7となり、8番目までの文字列がスライスされる\n",
    "mail[:8] "
   ]
  },
  {
   "cell_type": "code",
   "execution_count": 23,
   "metadata": {},
   "outputs": [
    {
     "data": {
      "text/plain": [
       "'user-111@example.'"
      ]
     },
     "execution_count": 23,
     "metadata": {},
     "output_type": "execute_result"
    }
   ],
   "source": [
    "# 末尾から指定してスライスする\n",
    "mail = 'user-111@example.com'\n",
    "mail[:-3]"
   ]
  },
  {
   "cell_type": "code",
   "execution_count": 24,
   "metadata": {},
   "outputs": [
    {
     "data": {
      "text/plain": [
       "'user-'"
      ]
     },
     "execution_count": 24,
     "metadata": {},
     "output_type": "execute_result"
    }
   ],
   "source": [
    "# 「user-111@example.com」の指定した範囲の文字列をスライスする\n",
    "mail = 'user-111@example.com'\n",
    "mail[0:5]   # 先頭から5文字目までをスライス"
   ]
  },
  {
   "cell_type": "code",
   "execution_count": 25,
   "metadata": {},
   "outputs": [
    {
     "data": {
      "text/plain": [
       "'example'"
      ]
     },
     "execution_count": 25,
     "metadata": {},
     "output_type": "execute_result"
    }
   ],
   "source": [
    "mail[9:16]  # 10文字目から16文字目までをスライス"
   ]
  },
  {
   "cell_type": "code",
   "execution_count": 26,
   "metadata": {},
   "outputs": [
    {
     "data": {
      "text/plain": [
       "'example'"
      ]
     },
     "execution_count": 26,
     "metadata": {},
     "output_type": "execute_result"
    }
   ],
   "source": [
    "mail[9:-4]  #10文字目から末尾から数えて5文字目までをスライス"
   ]
  },
  {
   "cell_type": "code",
   "execution_count": 27,
   "metadata": {},
   "outputs": [
    {
     "data": {
      "text/plain": [
       "'1,2,3,4,5,6,7,8,9'"
      ]
     },
     "execution_count": 27,
     "metadata": {},
     "output_type": "execute_result"
    }
   ],
   "source": [
    "# ステップ数のみを指定してスライス\n",
    "str = '1,2,3,4,5,6,7,8,9'\n",
    "str[::1]    # ステップの数は「1」"
   ]
  },
  {
   "cell_type": "code",
   "execution_count": 28,
   "metadata": {},
   "outputs": [
    {
     "data": {
      "text/plain": [
       "'123456789'"
      ]
     },
     "execution_count": 28,
     "metadata": {},
     "output_type": "execute_result"
    }
   ],
   "source": [
    "str[::2]"
   ]
  },
  {
   "cell_type": "code",
   "execution_count": 29,
   "metadata": {},
   "outputs": [
    {
     "data": {
      "text/plain": [
       "'2345678'"
      ]
     },
     "execution_count": 29,
     "metadata": {},
     "output_type": "execute_result"
    }
   ],
   "source": [
    "# 先頭と末尾を指定してステップごとにスライスする\n",
    "str = '1,2,3,4,5,6,7,8,9'\n",
    "str[2:-2:2]"
   ]
  },
  {
   "cell_type": "code",
   "execution_count": 30,
   "metadata": {},
   "outputs": [
    {
     "name": "stdout",
     "output_type": "stream",
     "text": [
      "逆さまにするよ→ろっぽんぎ\n",
      "ぎんぽっろ\n"
     ]
    }
   ],
   "source": [
    "# 文字列を逆順に並び替える\n",
    "str = input('逆さまにするよ→')\n",
    "print(str[::-1]) # ステップを-1にして文字列を逆順に並び替える"
   ]
  },
  {
   "cell_type": "code",
   "execution_count": 31,
   "metadata": {},
   "outputs": [
    {
     "data": {
      "text/plain": [
       "['1', '2', '3', '4', '5', '6', '7', '8', '9', '10', '100', '1000', '']"
      ]
     },
     "execution_count": 31,
     "metadata": {},
     "output_type": "execute_result"
    }
   ],
   "source": [
    "# 「,」をセパレーターにして文字列を取り出す\n",
    "str = '1,2,3,4,5,6,7,8,9,10,100,1000,'\n",
    "str.split(',')"
   ]
  },
  {
   "cell_type": "code",
   "execution_count": 32,
   "metadata": {},
   "outputs": [
    {
     "data": {
      "text/plain": [
       "['僕は', 'パイソン', 'です', 'よろしくね']"
      ]
     },
     "execution_count": 32,
     "metadata": {},
     "output_type": "execute_result"
    }
   ],
   "source": [
    "# 全角スペースをセパレーターにする\n",
    "sentence = '僕は　パイソン　です　よろしくね'\n",
    "sentence.split('　')"
   ]
  },
  {
   "cell_type": "code",
   "execution_count": 33,
   "metadata": {},
   "outputs": [
    {
     "data": {
      "text/plain": [
       "['僕の', '名前は', 'パイソン', 'といいます']"
      ]
     },
     "execution_count": 33,
     "metadata": {},
     "output_type": "execute_result"
    }
   ],
   "source": [
    "# split()で分割したリストをjoin()で1つの文字列にまとめる\n",
    "# スペースで区切った文を用意\n",
    "sentence = '僕の　名前は　パイソン　といいます' \n",
    "# ①スペースをセパレーターにして分割し、listに格納する\n",
    "lst = sentence.split('　')\t\n",
    "lst"
   ]
  },
  {
   "cell_type": "code",
   "execution_count": 34,
   "metadata": {},
   "outputs": [
    {
     "data": {
      "text/plain": [
       "['僕の', '名前は', 'パイソン', 'といいます']"
      ]
     },
     "execution_count": 34,
     "metadata": {},
     "output_type": "execute_result"
    }
   ],
   "source": [
    "# ①スペースをセパレーターにして分割し、listに格納する\n",
    "lst = sentence.split('　')\t\n",
    "lst"
   ]
  },
  {
   "cell_type": "code",
   "execution_count": 35,
   "metadata": {},
   "outputs": [
    {
     "name": "stdout",
     "output_type": "stream",
     "text": [
      "僕の\n",
      "名前は\n",
      "パイソン\n",
      "といいます\n"
     ]
    }
   ],
   "source": [
    "# ②リストに格納されている分割された文字列を連結\n",
    "join =  '\\n'.join(lst)\n",
    "print(join) "
   ]
  },
  {
   "cell_type": "code",
   "execution_count": 36,
   "metadata": {},
   "outputs": [
    {
     "name": "stdout",
     "output_type": "stream",
     "text": [
      "僕の名前はパイソンといいます\n"
     ]
    }
   ],
   "source": [
    "# 間に何もいれずに連結する\n",
    "\n",
    "join2 = ''.join(lst)  # 間に挟む文字を空文字にする\n",
    "print(join2)"
   ]
  },
  {
   "cell_type": "code",
   "execution_count": 37,
   "metadata": {},
   "outputs": [
    {
     "name": "stdout",
     "output_type": "stream",
     "text": [
      "こんばんはパイソンです\n"
     ]
    }
   ],
   "source": [
    "# 文字列の一部を書き換える\n",
    "\n",
    "msg = 'こんばんはパイソンです'\n",
    "print(msg)"
   ]
  },
  {
   "cell_type": "code",
   "execution_count": 38,
   "metadata": {},
   "outputs": [
    {
     "name": "stdout",
     "output_type": "stream",
     "text": [
      "調子はどう？パイソンです\n"
     ]
    }
   ],
   "source": [
    "# '調子はどう？'に書き換えて再代入する\n",
    "\n",
    "msg = msg.replace('こんばんは', '調子はどう？')\n",
    "print(msg)  # msgの中身を出力"
   ]
  },
  {
   "cell_type": "code",
   "execution_count": 39,
   "metadata": {},
   "outputs": [
    {
     "name": "stdout",
     "output_type": "stream",
     "text": [
      "とても美しい花がとても美しい庭に美しく咲いていました。\n"
     ]
    }
   ],
   "source": [
    "# replace()で繰り返し書き換える\n",
    "\n",
    "str = '美しい花が美しい庭に美しく咲いていました。'\n",
    "# 回数を多めに設定して書き換える\n",
    "str = str.replace('美しい', 'とても美しい', 10) \n",
    "print(str)"
   ]
  },
  {
   "cell_type": "code",
   "execution_count": 40,
   "metadata": {},
   "outputs": [
    {
     "data": {
      "text/plain": [
       "'こんにちは'"
      ]
     },
     "execution_count": 40,
     "metadata": {},
     "output_type": "execute_result"
    }
   ],
   "source": [
    "# 書式設定された文字列に文字列を埋め込む\n",
    "\n",
    "# {}の部分に「にち」を埋め込む\n",
    "'こん{}は'.format('にち')"
   ]
  },
  {
   "cell_type": "code",
   "execution_count": 41,
   "metadata": {},
   "outputs": [
    {
     "data": {
      "text/plain": [
       "'本日は10日です'"
      ]
     },
     "execution_count": 41,
     "metadata": {},
     "output_type": "execute_result"
    }
   ],
   "source": [
    "# 2箇所の{}を置き換える\n",
    "\n",
    "'{}は{}です'.format('本日', '10日')"
   ]
  },
  {
   "cell_type": "code",
   "execution_count": 42,
   "metadata": {},
   "outputs": [
    {
     "data": {
      "text/plain": [
       "'10日は本日です'"
      ]
     },
     "execution_count": 42,
     "metadata": {},
     "output_type": "execute_result"
    }
   ],
   "source": [
    "# 引数として設定した文字列を埋め込む位置を指定する\n",
    "\n",
    "'{1}は{0}です'.format('本日', '10日')"
   ]
  },
  {
   "cell_type": "code",
   "execution_count": 43,
   "metadata": {},
   "outputs": [
    {
     "data": {
      "text/plain": [
       "' 0.333'"
      ]
     },
     "execution_count": 43,
     "metadata": {},
     "output_type": "execute_result"
    }
   ],
   "source": [
    "# 小数点以下3桁までにする\n",
    "\n",
    "'{: .3f}'.format(1/3)          # 1/3は0.33333333..."
   ]
  },
  {
   "cell_type": "code",
   "execution_count": 45,
   "metadata": {},
   "outputs": [
    {
     "data": {
      "text/plain": [
       "' 1,111,111,111.123'"
      ]
     },
     "execution_count": 45,
     "metadata": {},
     "output_type": "execute_result"
    }
   ],
   "source": [
    "# 3桁区切りのカンマを入れる\n",
    "\n",
    "'{: ,}'.format(1111111111.123) # 小数も含めてみる"
   ]
  },
  {
   "cell_type": "code",
   "execution_count": 46,
   "metadata": {},
   "outputs": [
    {
     "data": {
      "text/plain": [
       "True"
      ]
     },
     "execution_count": 46,
     "metadata": {},
     "output_type": "execute_result"
    }
   ],
   "source": [
    "# 先頭の文字列が指定した文字かどうか\n",
    "\n",
    "mail = 'user-111@example.com'\n",
    "# 文字列（メールアドレス）の先頭が「user」であるか\n",
    "mail.startswith('user') "
   ]
  },
  {
   "cell_type": "code",
   "execution_count": 47,
   "metadata": {},
   "outputs": [
    {
     "data": {
      "text/plain": [
       "True"
      ]
     },
     "execution_count": 47,
     "metadata": {},
     "output_type": "execute_result"
    }
   ],
   "source": [
    "# 末尾の文字列を調べる\n",
    "\n",
    "mail = 'user-111@example.com'\n",
    "# 文字列（メールアドレス）の末尾が「.com」であるか\n",
    "mail.endswith('.com')"
   ]
  },
  {
   "cell_type": "code",
   "execution_count": 49,
   "metadata": {},
   "outputs": [
    {
     "data": {
      "text/plain": [
       "8"
      ]
     },
     "execution_count": 49,
     "metadata": {},
     "output_type": "execute_result"
    }
   ],
   "source": [
    "# 文字列の位置を調べる\n",
    "\n",
    "mail = 'user-111@example.com'\n",
    "# メールアドレス内の@の位置を調べる\n",
    "mail.find('@')"
   ]
  },
  {
   "cell_type": "code",
   "execution_count": 50,
   "metadata": {},
   "outputs": [
    {
     "data": {
      "text/plain": [
       "1"
      ]
     },
     "execution_count": 50,
     "metadata": {},
     "output_type": "execute_result"
    }
   ],
   "source": [
    "# 文字列が登場する回数を調べる\n",
    "\n",
    "mail = 'user-111@example.com'\n",
    "# メールアドレスの中に「.」はいくつあるのか\n",
    "mail.count('.')"
   ]
  },
  {
   "cell_type": "code",
   "execution_count": 51,
   "metadata": {},
   "outputs": [
    {
     "data": {
      "text/plain": [
       "True"
      ]
     },
     "execution_count": 51,
     "metadata": {},
     "output_type": "execute_result"
    }
   ],
   "source": [
    "# isX系メソッドを使う\n",
    "\n",
    "# すべて英文字か\n",
    "'Python'.isalpha()"
   ]
  },
  {
   "cell_type": "code",
   "execution_count": 52,
   "metadata": {},
   "outputs": [
    {
     "data": {
      "text/plain": [
       "False"
      ]
     },
     "execution_count": 52,
     "metadata": {},
     "output_type": "execute_result"
    }
   ],
   "source": [
    "# すべて英文字か\n",
    "'Python123'.isalpha()"
   ]
  },
  {
   "cell_type": "code",
   "execution_count": 53,
   "metadata": {},
   "outputs": [
    {
     "data": {
      "text/plain": [
       "True"
      ]
     },
     "execution_count": 53,
     "metadata": {},
     "output_type": "execute_result"
    }
   ],
   "source": [
    "# すべて英文字または数字か\n",
    "'Python123'.isalnum()"
   ]
  },
  {
   "cell_type": "code",
   "execution_count": 54,
   "metadata": {},
   "outputs": [
    {
     "data": {
      "text/plain": [
       "True"
      ]
     },
     "execution_count": 54,
     "metadata": {},
     "output_type": "execute_result"
    }
   ],
   "source": [
    "# すべて英文字または数字か\n",
    "'Python'.isalnum()"
   ]
  },
  {
   "cell_type": "code",
   "execution_count": 55,
   "metadata": {},
   "outputs": [
    {
     "data": {
      "text/plain": [
       "True"
      ]
     },
     "execution_count": 55,
     "metadata": {},
     "output_type": "execute_result"
    }
   ],
   "source": [
    "# すべて数字か\n",
    "'123'.isdecimal()"
   ]
  },
  {
   "cell_type": "code",
   "execution_count": 56,
   "metadata": {},
   "outputs": [
    {
     "data": {
      "text/plain": [
       "True"
      ]
     },
     "execution_count": 56,
     "metadata": {},
     "output_type": "execute_result"
    }
   ],
   "source": [
    "# スペース、タブ、改行のみであるか\n",
    "' '.isspace()"
   ]
  },
  {
   "cell_type": "code",
   "execution_count": 57,
   "metadata": {},
   "outputs": [
    {
     "data": {
      "text/plain": [
       "False"
      ]
     },
     "execution_count": 57,
     "metadata": {},
     "output_type": "execute_result"
    }
   ],
   "source": [
    "# すべて大文字から始まる英単語であるか\n",
    "'This is Python'.istitle()"
   ]
  },
  {
   "cell_type": "code",
   "execution_count": 58,
   "metadata": {},
   "outputs": [
    {
     "name": "stdout",
     "output_type": "stream",
     "text": [
      "年齢を入力してください：二十六\n",
      "年齢は数字であることが必要です\n",
      "年齢を入力してください：26\n",
      "パスワードを入力してください(英数字のみ)：win!\n",
      "パスワードは英数字であることが必要です\n",
      "パスワードを入力してください(英数字のみ)：winwin55\n"
     ]
    }
   ],
   "source": [
    "# 年齢、パスワードの入力チェック（inputCheck.py）\n",
    "while True:\n",
    "    age = input('年齢を入力してください：')\n",
    "    if age.isdecimal():    # 数字であるかをチェック\n",
    "        break\n",
    "    print('年齢は数字であることが必要です')\n",
    "\n",
    "while True:\n",
    "    password = input('パスワードを入力してください(英数字のみ)：')\n",
    "    if password.isalnum(): # 英数字であるかをチェック\n",
    "        break\n",
    "    print('パスワードは英数字であることが必要です')"
   ]
  },
  {
   "cell_type": "code",
   "execution_count": 59,
   "metadata": {},
   "outputs": [
    {
     "name": "stdout",
     "output_type": "stream",
     "text": [
      "USER-111@EXAMPLE.COM\n"
     ]
    }
   ],
   "source": [
    "# 「小文字→大文字」、「大文字→小文字」の変換\n",
    "\n",
    "mail = 'user-111@example.com'\n",
    "mail =  mail.upper()          # 大文字に変換する\n",
    "print(mail)"
   ]
  },
  {
   "cell_type": "code",
   "execution_count": 60,
   "metadata": {},
   "outputs": [
    {
     "name": "stdout",
     "output_type": "stream",
     "text": [
      "user-111@example.com\n"
     ]
    }
   ],
   "source": [
    "mail = mail.lower()           # 小文字に戻す\n",
    "print(mail)"
   ]
  },
  {
   "cell_type": "code",
   "execution_count": 61,
   "metadata": {},
   "outputs": [
    {
     "data": {
      "text/plain": [
       "'    Python'"
      ]
     },
     "execution_count": 61,
     "metadata": {},
     "output_type": "execute_result"
    }
   ],
   "source": [
    "# 指定した文字数の範囲で右寄せ、または左寄せで配置する\n",
    "\n",
    "'Python'.rjust(10)  # 全体を10文字にして右寄せにする"
   ]
  },
  {
   "cell_type": "code",
   "execution_count": 62,
   "metadata": {},
   "outputs": [
    {
     "data": {
      "text/plain": [
       "'              Python'"
      ]
     },
     "execution_count": 62,
     "metadata": {},
     "output_type": "execute_result"
    }
   ],
   "source": [
    "'Python'.rjust(20)  # 全体を20文字にして右寄せにする"
   ]
  },
  {
   "cell_type": "code",
   "execution_count": 63,
   "metadata": {},
   "outputs": [
    {
     "data": {
      "text/plain": [
       "'Python    '"
      ]
     },
     "execution_count": 63,
     "metadata": {},
     "output_type": "execute_result"
    }
   ],
   "source": [
    "'Python'.ljust(10)  # 全体を10文字にして左寄せにする"
   ]
  },
  {
   "cell_type": "code",
   "execution_count": 64,
   "metadata": {},
   "outputs": [
    {
     "data": {
      "text/plain": [
       "'**************Python'"
      ]
     },
     "execution_count": 64,
     "metadata": {},
     "output_type": "execute_result"
    }
   ],
   "source": [
    "# スペースの代わりに任意の文字を埋め込む\n",
    "\n",
    "'Python'.rjust(20, '*')"
   ]
  },
  {
   "cell_type": "code",
   "execution_count": 65,
   "metadata": {},
   "outputs": [
    {
     "data": {
      "text/plain": [
       "'Python>>>>>>>>>>>>>>'"
      ]
     },
     "execution_count": 65,
     "metadata": {},
     "output_type": "execute_result"
    }
   ],
   "source": [
    "'Python'.ljust(20, '>')"
   ]
  },
  {
   "cell_type": "code",
   "execution_count": 66,
   "metadata": {},
   "outputs": [
    {
     "data": {
      "text/plain": [
       "'       Python       '"
      ]
     },
     "execution_count": 66,
     "metadata": {},
     "output_type": "execute_result"
    }
   ],
   "source": [
    "# 文字列を中央揃えにする\n",
    "\n",
    "'Python'.center(20)"
   ]
  },
  {
   "cell_type": "code",
   "execution_count": 67,
   "metadata": {},
   "outputs": [
    {
     "data": {
      "text/plain": [
       "'#######Python#######'"
      ]
     },
     "execution_count": 67,
     "metadata": {},
     "output_type": "execute_result"
    }
   ],
   "source": [
    "'Python'.center(20, '#')"
   ]
  },
  {
   "cell_type": "code",
   "execution_count": 68,
   "metadata": {},
   "outputs": [
    {
     "data": {
      "text/plain": [
       "'こんにちはPython！'"
      ]
     },
     "execution_count": 68,
     "metadata": {},
     "output_type": "execute_result"
    }
   ],
   "source": [
    "# コピー＆ペーストを行う\n",
    "\n",
    "import pyperclip\n",
    "\n",
    "pyperclip.copy('こんにちはPython！') # 文字列をクリップボードにコピーする\n",
    "pyperclip.paste()                    # クリップボードのデータを出力"
   ]
  },
  {
   "cell_type": "code",
   "execution_count": 69,
   "metadata": {},
   "outputs": [
    {
     "data": {
      "text/plain": [
       "'ソースコードを実行すると、クリップボードにコピーされた文字列を取得できます。'"
      ]
     },
     "execution_count": 69,
     "metadata": {},
     "output_type": "execute_result"
    }
   ],
   "source": [
    "# クリップボードにコピーした文字列を取得した例\n",
    "pyperclip.paste()"
   ]
  },
  {
   "cell_type": "code",
   "execution_count": 70,
   "metadata": {},
   "outputs": [],
   "source": [
    "# クリップボードの文字列を分割して行頭にコメント記号「#」を付ける\n",
    "\n",
    "import pyperclip\n",
    "\n",
    "# ①クリップボードのデータを取得\n",
    "text = pyperclip.paste()\n",
    "# ②改行の位置で切り分ける\n",
    "lines = text.split('\\n')\n",
    "\n",
    "# ③切り分けた各行のデータに対して繰り返す\n",
    "for i in range(len(lines)):\n",
    "    # ④先頭に*を追加する\n",
    "    lines[i] = '# ' + lines[i]\n",
    "\n",
    "# ⑤改行を間に挟んで1つの文字列にまとめる\n",
    "text = '\\n'.join(lines)\n",
    "# ⑥クリップボードにコピー\n",
    "pyperclip.copy(text)"
   ]
  },
  {
   "cell_type": "code",
   "execution_count": null,
   "metadata": {},
   "outputs": [],
   "source": []
  }
 ],
 "metadata": {
  "kernelspec": {
   "display_name": "Python 3",
   "language": "python",
   "name": "python3"
  },
  "language_info": {
   "codemirror_mode": {
    "name": "ipython",
    "version": 3
   },
   "file_extension": ".py",
   "mimetype": "text/x-python",
   "name": "python",
   "nbconvert_exporter": "python",
   "pygments_lexer": "ipython3",
   "version": "3.7.6"
  }
 },
 "nbformat": 4,
 "nbformat_minor": 2
}
