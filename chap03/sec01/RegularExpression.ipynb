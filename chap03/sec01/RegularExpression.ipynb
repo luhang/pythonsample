{
 "cells": [
  {
   "cell_type": "code",
   "execution_count": 1,
   "metadata": {},
   "outputs": [
    {
     "name": "stdout",
     "output_type": "stream",
     "text": [
      "パイソン\n"
     ]
    }
   ],
   "source": [
    "# match()メソッドでパターンマッチを行う\n",
    "\n",
    "import re                      # reモジュールをインポート\n",
    "line = 'パイソンです'\n",
    "m = re.match('パイソン', line) # 'パイソン'をパターンマッチさせる\n",
    "print(m.group())               # マッチした文字列を取り出す"
   ]
  },
  {
   "cell_type": "code",
   "execution_count": 2,
   "metadata": {},
   "outputs": [
    {
     "name": "stdout",
     "output_type": "stream",
     "text": [
      "パイソン\n"
     ]
    }
   ],
   "source": [
    "# raw文字列のパターンをRegexオブジェクトにしてマッチングさせる\n",
    "\n",
    "line = 'パイソンです'\n",
    "reg = re.compile(r'パイソン')\n",
    "m = re.match(reg, line)\n",
    "print(m.group())"
   ]
  },
  {
   "cell_type": "code",
   "execution_count": 3,
   "metadata": {},
   "outputs": [
    {
     "name": "stdout",
     "output_type": "stream",
     "text": [
      "いや\n"
     ]
    }
   ],
   "source": [
    "# 文字列だけのパターンマッチング\n",
    "\n",
    "line = 'そういやパイソンはどうなった？' \n",
    "m = re.search(r'いや', line)\n",
    "print(m.group())"
   ]
  },
  {
   "cell_type": "code",
   "execution_count": 4,
   "metadata": {},
   "outputs": [
    {
     "name": "stdout",
     "output_type": "stream",
     "text": [
      "こんにちは\n"
     ]
    }
   ],
   "source": [
    "# 複数の候補のパターンマッチング\n",
    "\n",
    "line = 'こんにちは、パイソン'\n",
    "m = re.search(r'こんにちは|今日は|こんちは', line)\n",
    "print(m.group())"
   ]
  },
  {
   "cell_type": "code",
   "execution_count": 5,
   "metadata": {},
   "outputs": [
    {
     "name": "stdout",
     "output_type": "stream",
     "text": [
      "じゃん\n"
     ]
    }
   ],
   "source": [
    "# パターンにアンカーを使用する\n",
    "\n",
    "line = 'これ、いいじゃん'\n",
    "m = re.search(r'じゃん$', line)\n",
    "print(m.group())"
   ]
  },
  {
   "cell_type": "code",
   "execution_count": 6,
   "metadata": {},
   "outputs": [
    {
     "name": "stdout",
     "output_type": "stream",
     "text": [
      "どもー\n"
     ]
    }
   ],
   "source": [
    "# 'ども'に続く文字として[～ー…！、]のどれか1文字にマッチさせる\n",
    "\n",
    "line = 'どもーっす'\n",
    "m = re.search(r'ども[～ー…！、]', line)\n",
    "print(m.group())"
   ]
  },
  {
   "cell_type": "code",
   "execution_count": 7,
   "metadata": {},
   "outputs": [
    {
     "name": "stdout",
     "output_type": "stream",
     "text": [
      "うわっ、それか！\n"
     ]
    }
   ],
   "source": [
    "# 「'うわっ' + 3文字 + ！」のマッチング\n",
    "\n",
    "line = 'うわっ、それか！'\n",
    "m = re.search(r'うわっ、...！', line)\n",
    "print(m.group())"
   ]
  },
  {
   "cell_type": "code",
   "execution_count": 8,
   "metadata": {},
   "outputs": [
    {
     "name": "stdout",
     "output_type": "stream",
     "text": [
      "ええーっ！！\n"
     ]
    }
   ],
   "source": [
    "# ！の1回以上の繰り返しにマッチングさせる\n",
    "\n",
    "line = 'ええーっ！！たったこれだけ？'\n",
    "m = re.search(r'^ええーっ！+', line)\n",
    "print(m.group())"
   ]
  },
  {
   "cell_type": "code",
   "execution_count": 9,
   "metadata": {},
   "outputs": [
    {
     "name": "stdout",
     "output_type": "stream",
     "text": [
      "まじ\n"
     ]
    }
   ],
   "source": [
    "# ( )でグループ化する\n",
    "\n",
    "line = 'まじで、ほんとにそう思います'\n",
    "m = re.search(r'(^まじ|ほんと)', line)\n",
    "print(m.group())"
   ]
  },
  {
   "cell_type": "code",
   "execution_count": 10,
   "metadata": {},
   "outputs": [
    {
     "data": {
      "text/plain": [
       "'001-111-9292'"
      ]
     },
     "execution_count": 10,
     "metadata": {},
     "output_type": "execute_result"
    }
   ],
   "source": [
    "# 文字列の中から電話番号を取得する\n",
    "\n",
    "# Regexオブジェクトを生成\n",
    "number = re.compile(r'(\\d\\d\\d)-(\\d\\d\\d-\\d\\d\\d\\d)')\n",
    "# 電話番号をマッチング\n",
    "m = number.search('電話番号は001-111-9292です。')\n",
    "m.group()    # マッチした文字列全体を取得"
   ]
  },
  {
   "cell_type": "code",
   "execution_count": 11,
   "metadata": {},
   "outputs": [
    {
     "data": {
      "text/plain": [
       "'001-111-9292'"
      ]
     },
     "execution_count": 11,
     "metadata": {},
     "output_type": "execute_result"
    }
   ],
   "source": [
    "m.group(0)   # マッチした文字列全体を取得"
   ]
  },
  {
   "cell_type": "code",
   "execution_count": 12,
   "metadata": {},
   "outputs": [
    {
     "data": {
      "text/plain": [
       "'001'"
      ]
     },
     "execution_count": 12,
     "metadata": {},
     "output_type": "execute_result"
    }
   ],
   "source": [
    "m.group(1)   # グループ1にマッチした文字列を取得"
   ]
  },
  {
   "cell_type": "code",
   "execution_count": 13,
   "metadata": {},
   "outputs": [
    {
     "data": {
      "text/plain": [
       "'111-9292'"
      ]
     },
     "execution_count": 13,
     "metadata": {},
     "output_type": "execute_result"
    }
   ],
   "source": [
    "m.group(2)   #グループ2にマッチした文字列を取得"
   ]
  },
  {
   "cell_type": "code",
   "execution_count": 14,
   "metadata": {},
   "outputs": [
    {
     "data": {
      "text/plain": [
       "('001', '100-9292')"
      ]
     },
     "execution_count": 14,
     "metadata": {},
     "output_type": "execute_result"
    }
   ],
   "source": [
    "# すべてのグループにマッチした文字列を取得\n",
    "\n",
    "number = re.compile(r'(\\d\\d\\d)-(\\d\\d\\d-\\d\\d\\d\\d)')\n",
    "m = number.search('電話番号は001-100-9292です。')\n",
    "m.groups()"
   ]
  },
  {
   "cell_type": "code",
   "execution_count": 15,
   "metadata": {},
   "outputs": [
    {
     "name": "stdout",
     "output_type": "stream",
     "text": [
      "001\n"
     ]
    }
   ],
   "source": [
    "# グループにマッチした文字列を別々の変数に代入\n",
    "\n",
    "area_code, main_number = m.groups()\n",
    "print(area_code)"
   ]
  },
  {
   "cell_type": "code",
   "execution_count": 16,
   "metadata": {},
   "outputs": [
    {
     "name": "stdout",
     "output_type": "stream",
     "text": [
      "100-9292\n"
     ]
    }
   ],
   "source": [
    "print(main_number)"
   ]
  },
  {
   "cell_type": "code",
   "execution_count": 17,
   "metadata": {},
   "outputs": [
    {
     "data": {
      "text/plain": [
       "'(001)'"
      ]
     },
     "execution_count": 17,
     "metadata": {},
     "output_type": "execute_result"
    }
   ],
   "source": [
    "# (市外局番)xxx－xxxxのパターンでマッチングさせる\n",
    "\n",
    "# Regexオブジェクトを生成\n",
    "number = re.compile(r'(\\(\\d\\d\\d\\))(\\d\\d\\d-\\d\\d\\d\\d)')\n",
    "# 電話番号をマッチング\n",
    "m = number.search('電話番号は(001)100-9292です。')\n",
    "m.group(1)"
   ]
  },
  {
   "cell_type": "code",
   "execution_count": 18,
   "metadata": {},
   "outputs": [
    {
     "data": {
      "text/plain": [
       "'100-9292'"
      ]
     },
     "execution_count": 18,
     "metadata": {},
     "output_type": "execute_result"
    }
   ],
   "source": [
    "m.group(2)"
   ]
  },
  {
   "cell_type": "code",
   "execution_count": 19,
   "metadata": {},
   "outputs": [
    {
     "data": {
      "text/plain": [
       "'001-100-9292'"
      ]
     },
     "execution_count": 19,
     "metadata": {},
     "output_type": "execute_result"
    }
   ],
   "source": [
    "# 市外局番なしでも電話番号を取得する\n",
    "\n",
    "# Regexオブジェクトを生成\n",
    "number = re.compile(r'(\\d\\d\\d-)?(\\d\\d\\d-\\d\\d\\d\\d)')\n",
    "# 電話番号をマッチング\n",
    "m1 = number.search('電話番号は001-100-9292です。')\n",
    "m1.group()"
   ]
  },
  {
   "cell_type": "code",
   "execution_count": 20,
   "metadata": {},
   "outputs": [
    {
     "data": {
      "text/plain": [
       "'100-9292'"
      ]
     },
     "execution_count": 20,
     "metadata": {},
     "output_type": "execute_result"
    }
   ],
   "source": [
    "# 電話番号をマッチング\n",
    "m2 = number.search('電話番号は100-9292です。')\n",
    "m2.group()"
   ]
  },
  {
   "cell_type": "code",
   "execution_count": 22,
   "metadata": {},
   "outputs": [
    {
     "data": {
      "text/plain": [
       "'ははははは'"
      ]
     },
     "execution_count": 22,
     "metadata": {},
     "output_type": "execute_result"
    }
   ],
   "source": [
    "# { }で繰り返しの回数を指定するパターン\n",
    "\n",
    "# 'は'を3回以上5回以下繰り返すパターン\n",
    "regex1 = re.compile(r'(は){3,5}')\n",
    "m1 = regex1.search('わははははは')\n",
    "m1.group()"
   ]
  },
  {
   "cell_type": "code",
   "execution_count": 23,
   "metadata": {},
   "outputs": [
    {
     "data": {
      "text/plain": [
       "'ははは'"
      ]
     },
     "execution_count": 23,
     "metadata": {},
     "output_type": "execute_result"
    }
   ],
   "source": [
    "# { }で繰り返しの回数を指定するパターン\n",
    "\n",
    "# 'は'を3回以上5回以下繰り返すパターン（非貪欲マッチ）\n",
    "regex2 = re.compile(r'(は){3,5}?')\n",
    "m2 = regex2.search('わははははは')\n",
    "m2.group()"
   ]
  },
  {
   "cell_type": "code",
   "execution_count": 24,
   "metadata": {},
   "outputs": [
    {
     "data": {
      "text/plain": [
       "'999-555-6666'"
      ]
     },
     "execution_count": 24,
     "metadata": {},
     "output_type": "execute_result"
    }
   ],
   "source": [
    "# search()メソッドでマッチングを行う\n",
    "\n",
    "# Regexオブジェクトを生成\n",
    "num_regex = re.compile(r'\\d\\d\\d-\\d\\d\\d-\\d\\d\\d\\d')\n",
    "# 電話番号をマッチング\n",
    "m = num_regex.search('携帯：999-555-6666　自宅：001-100-9292')\n",
    "m.group()"
   ]
  },
  {
   "cell_type": "code",
   "execution_count": 25,
   "metadata": {},
   "outputs": [
    {
     "data": {
      "text/plain": [
       "['999-555-6666', '001-100-9292']"
      ]
     },
     "execution_count": 25,
     "metadata": {},
     "output_type": "execute_result"
    }
   ],
   "source": [
    "# findall ()メソッドでマッチングを行う\n",
    "\n",
    "num_regex = re.compile(r'\\d\\d\\d-\\d\\d\\d-\\d\\d\\d\\d')\n",
    "num_regex.findall('携帯：999-555-6666　自宅：001-100-9292')"
   ]
  },
  {
   "cell_type": "code",
   "execution_count": 26,
   "metadata": {},
   "outputs": [
    {
     "data": {
      "text/plain": [
       "[('999', '555', '6666'), ('001', '100', '9292')]"
      ]
     },
     "execution_count": 26,
     "metadata": {},
     "output_type": "execute_result"
    }
   ],
   "source": [
    "# ( )で囲んだグループのマッチングをfindall ()メソッドで行う\n",
    "\n",
    "# グループが設定された正規表現のパターン\n",
    "num_regex = re.compile(r'(\\d\\d\\d)-(\\d\\d\\d)-(\\d\\d\\d\\d)')\n",
    "num_regex.findall('携帯：999-555-6666　自宅：001-100-9292')"
   ]
  },
  {
   "cell_type": "code",
   "execution_count": 27,
   "metadata": {},
   "outputs": [
    {
     "data": {
      "text/plain": [
       "['1 January', '2 February', '3 March', '4 April', '5 May', '6 June']"
      ]
     },
     "execution_count": 27,
     "metadata": {},
     "output_type": "execute_result"
    }
   ],
   "source": [
    "# 短縮形を利用したマッチング\n",
    "\n",
    "regex = re.compile(r'\\d+\\s+\\w+')\n",
    "month = '1 January, 2 February, 3 March, 4 April, 5 May, 6 June'\n",
    "regex.findall(month)"
   ]
  },
  {
   "cell_type": "code",
   "execution_count": 28,
   "metadata": {},
   "outputs": [
    {
     "data": {
      "text/plain": [
       "['1', '2', '3', '4', '5']"
      ]
     },
     "execution_count": 28,
     "metadata": {},
     "output_type": "execute_result"
    }
   ],
   "source": [
    "# 短縮形の範囲を指定する\n",
    "\n",
    "reg = re.compile(r'[0-5]')\n",
    "num = '1, 2, 3, 4, 5, 6, 7, 8'\n",
    "reg.findall(num)"
   ]
  },
  {
   "cell_type": "code",
   "execution_count": 29,
   "metadata": {},
   "outputs": [
    {
     "data": {
      "text/plain": [
       "'秀和'"
      ]
     },
     "execution_count": 29,
     "metadata": {},
     "output_type": "execute_result"
    }
   ],
   "source": [
    "# .*であらゆる文字列とマッチさせる\n",
    "\n",
    "name_regex = re.compile(r'姓：(.*)　名：(.*)')\n",
    "m = name_regex.search('姓：秀和　名：太郎')\n",
    "m = name_regex.search('姓：秀和　名：太郎')\n",
    "m.group(1)"
   ]
  },
  {
   "cell_type": "code",
   "execution_count": 30,
   "metadata": {},
   "outputs": [
    {
     "data": {
      "text/plain": [
       "'太郎'"
      ]
     },
     "execution_count": 30,
     "metadata": {},
     "output_type": "execute_result"
    }
   ],
   "source": [
    "m.group(2)"
   ]
  },
  {
   "cell_type": "code",
   "execution_count": 31,
   "metadata": {},
   "outputs": [
    {
     "data": {
      "text/plain": [
       "'第1主成分'"
      ]
     },
     "execution_count": 31,
     "metadata": {},
     "output_type": "execute_result"
    }
   ],
   "source": [
    "# '.*'のみのパターンの場合\n",
    "\n",
    "reg1 = re.compile('.*')\n",
    "# 改行を含む文字列にマッチさせる\n",
    "m1 = reg1.search('第1主成分\\n第2主成分\\n第3主成分')\n",
    "m1.group()"
   ]
  },
  {
   "cell_type": "code",
   "execution_count": 32,
   "metadata": {},
   "outputs": [
    {
     "data": {
      "text/plain": [
       "'第1主成分\\n第2主成分\\n第3主成分'"
      ]
     },
     "execution_count": 32,
     "metadata": {},
     "output_type": "execute_result"
    }
   ],
   "source": [
    "# re.DOTALLを指定\n",
    "\n",
    "# compile()メソッドの第2引数としてre.DOTALLを指定\n",
    "reg2 = re.compile('.*', re.DOTALL)\n",
    "# 改行を含む文字列にマッチさせる\n",
    "m2 = reg2.search('第1主成分\\n第2主成分\\n第3主成分')\n",
    "m2.group()"
   ]
  },
  {
   "cell_type": "code",
   "execution_count": 34,
   "metadata": {},
   "outputs": [
    {
     "data": {
      "text/plain": [
       "'Python'"
      ]
     },
     "execution_count": 34,
     "metadata": {},
     "output_type": "execute_result"
    }
   ],
   "source": [
    "# 大文字と小文字を区別せずにマッチさせる\n",
    "\n",
    "# re.compile()メソッドの第2引数としてre.Iを指定\n",
    "regex = re.compile(r'python', re.I)\n",
    "# 'Python'にマッチさせる\n",
    "regex. search('Pythonは面白い').group()"
   ]
  },
  {
   "cell_type": "code",
   "execution_count": 35,
   "metadata": {},
   "outputs": [
    {
     "data": {
      "text/plain": [
       "'PYTHON'"
      ]
     },
     "execution_count": 35,
     "metadata": {},
     "output_type": "execute_result"
    }
   ],
   "source": [
    "# 'PYTHON'にマッチさせる\n",
    "regex. search ('PYTHONってよくわからない') .group()"
   ]
  },
  {
   "cell_type": "code",
   "execution_count": 36,
   "metadata": {},
   "outputs": [
    {
     "data": {
      "text/plain": [
       "'python'"
      ]
     },
     "execution_count": 36,
     "metadata": {},
     "output_type": "execute_result"
    }
   ],
   "source": [
    "# 'python'にマッチさせる\n",
    "regex. search ('これがpythonなのか') .group()"
   ]
  },
  {
   "cell_type": "code",
   "execution_count": 38,
   "metadata": {},
   "outputs": [
    {
     "data": {
      "text/plain": [
       "'2020年 売上高 売上予測'"
      ]
     },
     "execution_count": 38,
     "metadata": {},
     "output_type": "execute_result"
    }
   ],
   "source": [
    "# 文字列の一部を置き換える\n",
    "\n",
    "str = '第1 四半期 売上高 売上予測'\n",
    "regex = re.compile(r'第1 \\w+')\n",
    "regex.sub('2020年', str)"
   ]
  },
  {
   "cell_type": "code",
   "execution_count": 39,
   "metadata": {},
   "outputs": [
    {
     "data": {
      "text/plain": [
       "'S**** B**** A****'"
      ]
     },
     "execution_count": 39,
     "metadata": {},
     "output_type": "execute_result"
    }
   ],
   "source": [
    "# マッチした文字列の先頭文字を使って書き換える\n",
    "\n",
    "str = 'password Secret1111 password Book555 password AA007'\n",
    "# 正規表現のグループ1に(\\w)を設定\n",
    "regex = re.compile(r'password (\\w)\\w*')\n",
    "# グループ1にマッチした文字列を使って書き換える\n",
    "regex.sub(r'\\1****', str)"
   ]
  },
  {
   "cell_type": "code",
   "execution_count": 40,
   "metadata": {},
   "outputs": [
    {
     "data": {
      "text/plain": [
       "'c**** o**** 0****'"
      ]
     },
     "execution_count": 40,
     "metadata": {},
     "output_type": "execute_result"
    }
   ],
   "source": [
    "# 先頭から3文字目にマッチさせて書き換える\n",
    "\n",
    "regex = re.compile(r'password (\\w){3}\\w*')\n",
    "regex.sub(r'\\1****', str)"
   ]
  },
  {
   "cell_type": "code",
   "execution_count": 41,
   "metadata": {},
   "outputs": [],
   "source": [
    "# 正規表現のパターンに改行とコメントを入れる\n",
    "import re\n",
    "phone = re.compile(r'''(\n",
    "    (0\\d{0,3}|\\(\\d{0,3}\\))  # 市外局番\n",
    "    (\\s|-)                  # 区切り\n",
    "    (\\d{1,4})               # 市内局番\n",
    "    (\\s|-)                  # 区切り\n",
    "    (\\d{3,4})               # 加入者番号\n",
    "    )''', re.VERBOSE)"
   ]
  },
  {
   "cell_type": "code",
   "execution_count": 42,
   "metadata": {},
   "outputs": [],
   "source": [
    "# 電話番号用の正規表現のパターン\n",
    "\n",
    "import re\n",
    "\n",
    "# 電話番号の正規表現\n",
    "phone_regex = re.compile(r'''(\n",
    "    (0\\d{1,4}|\\(0\\d{1,4}\\))                      # 市外局番\n",
    "    (\\s|-)?                                      # 区切り\n",
    "    (\\d{1,4})                                    # 市内局番\n",
    "    (\\s|-)                                       # 区切り\n",
    "    (\\d{4})                                      # 加入者番号\n",
    "    (\\s*(内線|\\(内\\)|\\(内.{1,3}\\))\\s*(\\d{2,5}))? # 内線番号\n",
    "    )''', re.VERBOSE)"
   ]
  },
  {
   "cell_type": "code",
   "execution_count": 43,
   "metadata": {},
   "outputs": [
    {
     "name": "stdout",
     "output_type": "stream",
     "text": [
      "(001)5555-6767 (内線)365\n"
     ]
    }
   ],
   "source": [
    "# マッチングの例\n",
    "str = '氏名:秀和太郎 住所:東京都中央区 電話番号: (001)5555-6767 (内線)365'\n",
    "pho = phone_regex.search(str)\n",
    "print(pho.group())"
   ]
  },
  {
   "cell_type": "code",
   "execution_count": 44,
   "metadata": {},
   "outputs": [],
   "source": [
    "# メールアドレス用の正規表現のパターン\n",
    "\n",
    "import re\n",
    "\n",
    "# メールの正規表現\n",
    "mail_regex = re.compile(r'''(\n",
    "    [a-zA-Z0-9._%+-]+  # ユーザー名\n",
    "    @                  # @ 記号\n",
    "    [a-zA-Z0-9.-]+     # ドメイン名\n",
    "    (\\.[a-zA-Z]{2,4})  # トップレベルドメイン\n",
    "    )''', re.VERBOSE)"
   ]
  },
  {
   "cell_type": "code",
   "execution_count": 45,
   "metadata": {},
   "outputs": [
    {
     "name": "stdout",
     "output_type": "stream",
     "text": [
      "taro@shuwasystem.co.jp\n"
     ]
    }
   ],
   "source": [
    "# マッチングの例\n",
    "str = '氏名:秀和太郎 住所:東京都中央区 メールアドレス:taro@shuwasystem.co.jp'\n",
    "ml = mail_regex.search(str)\n",
    "print(ml.group())"
   ]
  },
  {
   "cell_type": "code",
   "execution_count": 55,
   "metadata": {},
   "outputs": [
    {
     "name": "stdout",
     "output_type": "stream",
     "text": [
      "クリップボードにコピーしました:\n",
      "03-6264-3093\n",
      "03-6264-3094\n",
      "06-6342-5003\n",
      "06-6342-5012\n",
      "s-info@shuwasystem.co.jp\n"
     ]
    }
   ],
   "source": []
  },
  {
   "cell_type": "code",
   "execution_count": null,
   "metadata": {},
   "outputs": [],
   "source": []
  }
 ],
 "metadata": {
  "kernelspec": {
   "display_name": "Python 3",
   "language": "python",
   "name": "python3"
  },
  "language_info": {
   "codemirror_mode": {
    "name": "ipython",
    "version": 3
   },
   "file_extension": ".py",
   "mimetype": "text/x-python",
   "name": "python",
   "nbconvert_exporter": "python",
   "pygments_lexer": "ipython3",
   "version": "3.7.6"
  }
 },
 "nbformat": 4,
 "nbformat_minor": 2
}
