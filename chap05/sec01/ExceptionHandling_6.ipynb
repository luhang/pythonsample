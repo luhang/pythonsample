{
 "cells": [
  {
   "cell_type": "code",
   "execution_count": 1,
   "metadata": {},
   "outputs": [
    {
     "name": "stdout",
     "output_type": "stream",
     "text": [
      "120\n"
     ]
    }
   ],
   "source": [
    "# ログをファイルに出力する\n",
    "\n",
    "import logging      # loggingモジュールのインポート\n",
    "\n",
    "logging.basicConfig(filename = 'logFIle.txt',# ログをファイルに出力する\n",
    "                    level=logging.DEBUG,     # ログレベルはDEBUG\n",
    "                    format=' %(asctime)s - %(levelname)s - %(message)s')\n",
    "\n",
    "logging.debug('プログラム開始') # 最初のログを出力\n",
    "\n",
    "def get_factorial(num):         # 階乗を計算する関数\n",
    "    logging.debug('factorial({})が実行されました'.format(num)) # ログ出力\n",
    "    fact = 1                    # 掛け算の初期値を設定\n",
    "    for i in range(1, num + 1): # 1～num + 1になるまで繰り返す\n",
    "        fact *= i               # factの値にiの値を掛けて再代入\n",
    "        logging.debug('i = {}, fact = {}'.format(i, fact))     # ログ出力\n",
    "    logging.debug('factorial({})終了'.format(num))             # ログ出力\n",
    "    return fact                                                # 階乗した値を返す\n",
    "\n",
    "print(get_factorial(5))          # get_factorial()を呼び出して階乗を求める\n",
    "logging.debug('プログラム終了')  # ログ出力"
   ]
  },
  {
   "cell_type": "code",
   "execution_count": null,
   "metadata": {},
   "outputs": [],
   "source": []
  }
 ],
 "metadata": {
  "kernelspec": {
   "display_name": "Python 3",
   "language": "python",
   "name": "python3"
  },
  "language_info": {
   "codemirror_mode": {
    "name": "ipython",
    "version": 3
   },
   "file_extension": ".py",
   "mimetype": "text/x-python",
   "name": "python",
   "nbconvert_exporter": "python",
   "pygments_lexer": "ipython3",
   "version": "3.7.6"
  }
 },
 "nbformat": 4,
 "nbformat_minor": 2
}
