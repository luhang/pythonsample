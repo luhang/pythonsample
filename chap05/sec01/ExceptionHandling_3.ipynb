{
 "cells": [
  {
   "cell_type": "code",
   "execution_count": 1,
   "metadata": {},
   "outputs": [],
   "source": [
    "# LogRecordオブジェクトをDEBUGに設定してログを出力\n",
    "\n",
    "import logging\n",
    "# LogRecordオブジェクトをDEBUGに設定\n",
    "logging.basicConfig(level=logging.DEBUG,\n",
    "                    format=' %(asctime)s - %(levelname)s - %(message)s')"
   ]
  },
  {
   "cell_type": "code",
   "execution_count": 2,
   "metadata": {},
   "outputs": [
    {
     "name": "stderr",
     "output_type": "stream",
     "text": [
      " 2020-01-21 23:57:10,764 - DEBUG - プログラム実行中\n"
     ]
    }
   ],
   "source": [
    "logging.debug('プログラム実行中')      # DEBUGレベルのログを出力"
   ]
  },
  {
   "cell_type": "code",
   "execution_count": 3,
   "metadata": {},
   "outputs": [
    {
     "name": "stderr",
     "output_type": "stream",
     "text": [
      " 2020-01-21 23:57:11,277 - INFO - プログラム実行中\n"
     ]
    }
   ],
   "source": [
    "logging.info('プログラム実行中')      # INFOレベルのログを出力"
   ]
  },
  {
   "cell_type": "code",
   "execution_count": 4,
   "metadata": {},
   "outputs": [
    {
     "name": "stderr",
     "output_type": "stream",
     "text": [
      " 2020-01-21 23:57:11,739 - WARNING - プログラム実行中\n"
     ]
    }
   ],
   "source": [
    "logging.warning('プログラム実行中')   # WARNINGレベルのログを出力"
   ]
  },
  {
   "cell_type": "code",
   "execution_count": 5,
   "metadata": {},
   "outputs": [
    {
     "name": "stderr",
     "output_type": "stream",
     "text": [
      " 2020-01-21 23:57:12,227 - ERROR - プログラム実行中\n"
     ]
    }
   ],
   "source": [
    "logging.error('プログラム実行中')     # ERRORレベルのログを出力"
   ]
  },
  {
   "cell_type": "code",
   "execution_count": 6,
   "metadata": {},
   "outputs": [
    {
     "name": "stderr",
     "output_type": "stream",
     "text": [
      " 2020-01-21 23:57:12,717 - CRITICAL - プログラム実行中\n"
     ]
    }
   ],
   "source": [
    "logging.critical('プログラム実行中')  # CRITICALレベルのログを出力"
   ]
  },
  {
   "cell_type": "code",
   "execution_count": null,
   "metadata": {},
   "outputs": [],
   "source": []
  }
 ],
 "metadata": {
  "kernelspec": {
   "display_name": "Python 3",
   "language": "python",
   "name": "python3"
  },
  "language_info": {
   "codemirror_mode": {
    "name": "ipython",
    "version": 3
   },
   "file_extension": ".py",
   "mimetype": "text/x-python",
   "name": "python",
   "nbconvert_exporter": "python",
   "pygments_lexer": "ipython3",
   "version": "3.7.6"
  }
 },
 "nbformat": 4,
 "nbformat_minor": 2
}
