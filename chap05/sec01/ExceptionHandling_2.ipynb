{
 "cells": [
  {
   "cell_type": "code",
   "execution_count": 1,
   "metadata": {},
   "outputs": [
    {
     "name": "stderr",
     "output_type": "stream",
     "text": [
      " 2020-01-21 23:36:25,804 - DEBUG - プログラム開始\n",
      " 2020-01-21 23:36:25,809 - DEBUG - factorial(5)が実行されました\n",
      " 2020-01-21 23:36:25,810 - DEBUG - i = 1, fact = 1\n",
      " 2020-01-21 23:36:25,811 - DEBUG - i = 2, fact = 2\n",
      " 2020-01-21 23:36:25,812 - DEBUG - i = 3, fact = 6\n",
      " 2020-01-21 23:36:25,813 - DEBUG - i = 4, fact = 24\n",
      " 2020-01-21 23:36:25,813 - DEBUG - i = 5, fact = 120\n",
      " 2020-01-21 23:36:25,814 - DEBUG - factorial(5)終了\n",
      " 2020-01-21 23:36:25,815 - DEBUG - プログラム終了\n"
     ]
    },
    {
     "name": "stdout",
     "output_type": "stream",
     "text": [
      "120\n"
     ]
    }
   ],
   "source": [
    "# 階乗を求める関数の計算過程をログとして出力する\n",
    "\n",
    "import logging      # loggingモジュールのインポート\n",
    "\n",
    "logging.basicConfig(# ログのレベルをDEBUG(詳細情報)にする\n",
    "                    level=logging.DEBUG,\n",
    "                    # ログの書式設定\n",
    "                    # イベントの日付と時刻 - ログレベル - メッセージ\n",
    "                    format=' %(asctime)s - %(levelname)s - %(message)s')\n",
    "\n",
    "# 最初のログを出力\n",
    "logging.debug('プログラム開始')\n",
    "\n",
    "# 階乗を計算する関数\n",
    "def get_factorial(num):\n",
    "    # ログ出力(処理の開始)\n",
    "    logging.debug('factorial({})が実行されました'.format(num))\n",
    "    fact = 1                    # 掛け算の初期値を設定\n",
    "    for i in range(1, num + 1): # 1～num + 1になるまで繰り返す\n",
    "        fact *= i               # factの値にiの値を掛けて再代入\n",
    "        # ログ出力（iの値、factの値)\n",
    "        logging.debug('i = {}, fact = {}'.format(i, fact))\n",
    "    # ログ出力（処理終了）\n",
    "    logging.debug('factorial({})終了'.format(num))\n",
    "    return fact                 # 階乗した値を返す\n",
    "\n",
    "# get_factorial()を呼び出して階乗を求める\n",
    "print(get_factorial(5))\n",
    "\n",
    "# ログ出力(プログラムの終了)\n",
    "logging.debug('プログラム終了')"
   ]
  },
  {
   "cell_type": "code",
   "execution_count": 3,
   "metadata": {},
   "outputs": [
    {
     "name": "stderr",
     "output_type": "stream",
     "text": [
      " 2020-01-21 23:46:13,854 - DEBUG - プログラム開始\n",
      " 2020-01-21 23:46:13,855 - DEBUG - factorial(5)が実行されました\n",
      " 2020-01-21 23:46:13,856 - DEBUG - i = 0, fact = 0\n",
      " 2020-01-21 23:46:13,857 - DEBUG - i = 1, fact = 0\n",
      " 2020-01-21 23:46:13,857 - DEBUG - i = 2, fact = 0\n",
      " 2020-01-21 23:46:13,858 - DEBUG - i = 3, fact = 0\n",
      " 2020-01-21 23:46:13,859 - DEBUG - i = 4, fact = 0\n",
      " 2020-01-21 23:46:13,859 - DEBUG - i = 5, fact = 0\n",
      " 2020-01-21 23:46:13,860 - DEBUG - factorial(5)終了\n",
      " 2020-01-21 23:46:13,861 - DEBUG - プログラム終了\n"
     ]
    },
    {
     "name": "stdout",
     "output_type": "stream",
     "text": [
      "0\n"
     ]
    }
   ],
   "source": [
    "# forループのところをfor i in range(num + 1):に書き換えて実行\n",
    "\n",
    "import logging      # loggingモジュールのインポート\n",
    "\n",
    "logging.basicConfig(# ログのレベルをDEBUG(詳細情報)にする\n",
    "                    level=logging.DEBUG,\n",
    "                    # ログの書式設定\n",
    "                    # イベントの日付と時刻 - ログレベル - メッセージ\n",
    "                    format=' %(asctime)s - %(levelname)s - %(message)s')\n",
    "\n",
    "# 最初のログを出力\n",
    "logging.debug('プログラム開始')\n",
    "\n",
    "# 階乗を計算する関数\n",
    "def get_factorial(num):\n",
    "    # ログ出力(処理の開始)\n",
    "    logging.debug('factorial({})が実行されました'.format(num))\n",
    "    fact = 1                    # 掛け算の初期値を設定\n",
    "    for i in range(num + 1):    # 1～num + 1になるまで繰り返す(つもり)\n",
    "        fact *= i               # factの値にiの値を掛けて再代入\n",
    "        # ログ出力（iの値、factの値)\n",
    "        logging.debug('i = {}, fact = {}'.format(i, fact))\n",
    "    # ログ出力（処理終了）\n",
    "    logging.debug('factorial({})終了'.format(num))\n",
    "    return fact                 # 階乗した値を返す\n",
    "\n",
    "# get_factorial()を呼び出して階乗を求める\n",
    "print(get_factorial(5))\n",
    "\n",
    "# ログ出力(プログラムの終了)\n",
    "logging.debug('プログラム終了')"
   ]
  },
  {
   "cell_type": "code",
   "execution_count": null,
   "metadata": {},
   "outputs": [],
   "source": []
  }
 ],
 "metadata": {
  "kernelspec": {
   "display_name": "Python 3",
   "language": "python",
   "name": "python3"
  },
  "language_info": {
   "codemirror_mode": {
    "name": "ipython",
    "version": 3
   },
   "file_extension": ".py",
   "mimetype": "text/x-python",
   "name": "python",
   "nbconvert_exporter": "python",
   "pygments_lexer": "ipython3",
   "version": "3.7.6"
  }
 },
 "nbformat": 4,
 "nbformat_minor": 2
}
