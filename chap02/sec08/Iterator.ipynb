{
 "cells": [
  {
   "cell_type": "code",
   "execution_count": 1,
   "metadata": {},
   "outputs": [
    {
     "name": "stdout",
     "output_type": "stream",
     "text": [
      "タコケン・レイダーがあらわれた！\n",
      " >>>勇者はライトセーバーをふりかざした!\n",
      " >>>タコケン・レイダーが反撃した！\n",
      "ストームトルッパがあらわれた！\n",
      " >>>勇者はターボレーザーをふりかざした!\n",
      " >>>ストームトルッパが防御した！\n",
      "ジャンゴンがあらわれた！\n",
      " >>>勇者はブラスターライフルをふりかざした!\n",
      " >>>ジャンゴンが逃走した！\n"
     ]
    }
   ],
   "source": [
    "# 3つのリストをまとめてイテレートする\n",
    "monster    = ['タコケン・レイダー', 'ストームトルッパ', 'ジャンゴン']\n",
    "attack     = ['ライトセーバー', 'ターボレーザー', 'ブラスターライフル']\n",
    "fight_back = ['反撃', '防御', '逃走']\n",
    "\n",
    "# リストの要素の数だけ繰り返す\n",
    "for mst, atc, fb in zip(monster, attack, fight_back):\n",
    "    print(mst + 'があらわれた！\\n',                        # モンスターの出現\n",
    "          '>>>勇者は{}をふりかざした!'.format(atc) + '\\n', # 勇者の反応\n",
    "          '>>>{}が{}した！'.format(mst, fb)                # モンスターの反応\n",
    "          )"
   ]
  },
  {
   "cell_type": "code",
   "execution_count": 2,
   "metadata": {},
   "outputs": [
    {
     "name": "stdout",
     "output_type": "stream",
     "text": [
      "[('ライトセーバー', 'フォースと共鳴してプラズマのブレードを放出する'), ('ブラスターライフル', '集束した光線エネルギーを発射する'), ('レーザー砲', '強力なレーザー兵器')]\n"
     ]
    }
   ],
   "source": [
    "# 2つのリストからタプル→リストにする\n",
    "weapon = ['ライトセーバー', 'ブラスターライフル', 'レーザー砲']\n",
    "ability= [ 'フォースと共鳴してプラズマのブレードを放出する',\n",
    "           '集束した光線エネルギーを発射する',\n",
    "           '強力なレーザー兵器']\n",
    "# 各要素をタプルにして、これをリストの要素にする\n",
    "ls = list( zip(weapon, ability))\n",
    "print(ls)"
   ]
  },
  {
   "cell_type": "code",
   "execution_count": 3,
   "metadata": {},
   "outputs": [
    {
     "name": "stdout",
     "output_type": "stream",
     "text": [
      "{'ライトセーバー': 'フォースと共鳴してプラズマのブレードを放出する', 'ブラスターライフル': '集束した光線エネルギーを発射する', 'レーザー砲': '強力なレーザー兵器'}\n"
     ]
    }
   ],
   "source": [
    "# 2つのリストから辞書を作る\n",
    "weapon = ['ライトセーバー', 'ブラスターライフル', 'レーザー砲']\n",
    "ability= [ 'フォースと共鳴してプラズマのブレードを放出する',\n",
    "           '集束した光線エネルギーを発射する',\n",
    "           '強力なレーザー兵器']\n",
    "# リスト要素をキーと値のペアにして辞書を作成する\n",
    "dc = dict( zip(weapon, ability) )\n",
    "print(dc)"
   ]
  },
  {
   "cell_type": "code",
   "execution_count": 4,
   "metadata": {},
   "outputs": [
    {
     "name": "stdout",
     "output_type": "stream",
     "text": [
      "{'ライトセーバー': 'フォースと共鳴してプラズマのブレードを放出する', 'ブラスターライフル': '集束した光線エネルギーを発射する', 'レーザー砲': '強力なレーザー兵器'}\n"
     ]
    }
   ],
   "source": [
    "# 内包表記を使って2つのリストを辞書にする\n",
    "weapon = ['ライトセーバー', 'ブラスターライフル', 'レーザー砲']\n",
    "ability= [ 'フォースと共鳴してプラズマのブレードを放出する',\n",
    "           '集束した光線エネルギーを発射する',\n",
    "           '強力なレーザー兵器']\n",
    "# 内包表記で辞書を作成する\n",
    "dc = {i : j for (i, j) in zip(weapon, ability)}\n",
    "print(dc)"
   ]
  },
  {
   "cell_type": "code",
   "execution_count": null,
   "metadata": {},
   "outputs": [],
   "source": []
  }
 ],
 "metadata": {
  "kernelspec": {
   "display_name": "Python 3",
   "language": "python",
   "name": "python3"
  },
  "language_info": {
   "codemirror_mode": {
    "name": "ipython",
    "version": 3
   },
   "file_extension": ".py",
   "mimetype": "text/x-python",
   "name": "python",
   "nbconvert_exporter": "python",
   "pygments_lexer": "ipython3",
   "version": "3.7.6"
  }
 },
 "nbformat": 4,
 "nbformat_minor": 2
}
