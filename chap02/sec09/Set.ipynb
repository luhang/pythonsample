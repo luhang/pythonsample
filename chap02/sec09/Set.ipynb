{
 "cells": [
  {
   "cell_type": "code",
   "execution_count": 1,
   "metadata": {},
   "outputs": [
    {
     "data": {
      "text/plain": [
       "{'1月', '2月', '3月', '4月', '5月'}"
      ]
     },
     "execution_count": 1,
     "metadata": {},
     "output_type": "execute_result"
    }
   ],
   "source": [
    "# 集合の作成例\n",
    "month = { '1月', '2月', '3月', '4月', '5月' }\n",
    "month"
   ]
  },
  {
   "cell_type": "code",
   "execution_count": 2,
   "metadata": {},
   "outputs": [
    {
     "data": {
      "text/plain": [
       "{'STAR', 'WARS'}"
      ]
     },
     "execution_count": 2,
     "metadata": {},
     "output_type": "execute_result"
    }
   ],
   "source": [
    "#リストから集合を作成\n",
    "set( ['STAR', 'WARS'] ) "
   ]
  },
  {
   "cell_type": "code",
   "execution_count": 3,
   "metadata": {},
   "outputs": [
    {
     "data": {
      "text/plain": [
       "{'STAR', 'WARS'}"
      ]
     },
     "execution_count": 3,
     "metadata": {},
     "output_type": "execute_result"
    }
   ],
   "source": [
    "# タプルから集合を作成\n",
    "set( ('STAR', 'WARS') ) "
   ]
  },
  {
   "cell_type": "code",
   "execution_count": 4,
   "metadata": {},
   "outputs": [
    {
     "data": {
      "text/plain": [
       "{'ブラスターライフル', 'レーザー砲'}"
      ]
     },
     "execution_count": 4,
     "metadata": {},
     "output_type": "execute_result"
    }
   ],
   "source": [
    "# 辞書から集合を作成\n",
    "set( {'レーザー砲': '強力なレーザー兵器',\n",
    "      'ブラスターライフル': '集束した光線エネルギーを発射する'}) "
   ]
  },
  {
   "cell_type": "code",
   "execution_count": 5,
   "metadata": {},
   "outputs": [
    {
     "data": {
      "text/plain": [
       "{'アメリカ', 'ロシア', '日本'}"
      ]
     },
     "execution_count": 5,
     "metadata": {},
     "output_type": "execute_result"
    }
   ],
   "source": [
    "# リストから重複したデータを取り除く\n",
    "# 重複したデータを含むリスト\n",
    "data = [ '日本', 'アメリカ', 'ロシア' ,'アメリカ', 'ロシア']\n",
    "# 重複した要素を取り除いて集合を作る\n",
    "data_set = set(data) \n",
    "data_set"
   ]
  },
  {
   "cell_type": "code",
   "execution_count": 6,
   "metadata": {},
   "outputs": [
    {
     "data": {
      "text/plain": [
       "{'イギリス'}"
      ]
     },
     "execution_count": 6,
     "metadata": {},
     "output_type": "execute_result"
    }
   ],
   "source": [
    "# 「－」と「&」で演算する\n",
    "data1 = { '日本', 'アメリカ', 'イギリス' }\n",
    "data2 = { '日本', 'アメリカ' }\n",
    "data1 - data2"
   ]
  },
  {
   "cell_type": "code",
   "execution_count": 7,
   "metadata": {},
   "outputs": [
    {
     "data": {
      "text/plain": [
       "{'アメリカ', '日本'}"
      ]
     },
     "execution_count": 7,
     "metadata": {},
     "output_type": "execute_result"
    }
   ],
   "source": [
    "data1 & data2"
   ]
  },
  {
   "cell_type": "code",
   "execution_count": 8,
   "metadata": {},
   "outputs": [
    {
     "data": {
      "text/plain": [
       "{'アメリカ', 'イギリス', 'イタリア', 'フランス', '日本'}"
      ]
     },
     "execution_count": 8,
     "metadata": {},
     "output_type": "execute_result"
    }
   ],
   "source": [
    "# ユニオンとインターセクション\n",
    "data1 = { '日本', 'アメリカ', 'イギリス' }\n",
    "data2 = { '日本', 'アメリカ', 'フランス' }\n",
    "data3 = { '日本', 'アメリカ', 'イタリア' }\n",
    "# 重複した要素を除いた集合を作る\n",
    "data1.union(data2, data3)"
   ]
  },
  {
   "cell_type": "code",
   "execution_count": 9,
   "metadata": {},
   "outputs": [
    {
     "data": {
      "text/plain": [
       "{'アメリカ', '日本'}"
      ]
     },
     "execution_count": 9,
     "metadata": {},
     "output_type": "execute_result"
    }
   ],
   "source": [
    "# 重複している要素だけで集合を作る\n",
    "data1.intersection(data2, data3)"
   ]
  },
  {
   "cell_type": "code",
   "execution_count": null,
   "metadata": {},
   "outputs": [],
   "source": []
  }
 ],
 "metadata": {
  "kernelspec": {
   "display_name": "Python 3",
   "language": "python",
   "name": "python3"
  },
  "language_info": {
   "codemirror_mode": {
    "name": "ipython",
    "version": 3
   },
   "file_extension": ".py",
   "mimetype": "text/x-python",
   "name": "python",
   "nbconvert_exporter": "python",
   "pygments_lexer": "ipython3",
   "version": "3.7.6"
  }
 },
 "nbformat": 4,
 "nbformat_minor": 2
}
