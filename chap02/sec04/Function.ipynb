{
 "cells": [
  {
   "cell_type": "code",
   "execution_count": 1,
   "metadata": {},
   "outputs": [
    {
     "name": "stdout",
     "output_type": "stream",
     "text": [
      "モンスターがあらわれた！\n"
     ]
    }
   ],
   "source": [
    "# 呼び出すと文字列を出力する関数\n",
    "def appear():                         # appear()関数の定義\n",
    "    print('モンスターがあらわれた！')\n",
    "\n",
    "appear()                              # 関数を呼び出す"
   ]
  },
  {
   "cell_type": "code",
   "execution_count": 2,
   "metadata": {},
   "outputs": [
    {
     "name": "stdout",
     "output_type": "stream",
     "text": [
      "ベイダー卿があらわれた!\n",
      "シスの暗黒卿があらわれた!\n"
     ]
    }
   ],
   "source": [
    "# 引数を2つ受け取る関数\n",
    "def appear(word1, word2):            # 2つのパラメーターを持つ関数\n",
    "    print(word1 + 'があらわれた!')\n",
    "    print(word2 + 'があらわれた!')\n",
    "\n",
    "appear('ベイダー卿', 'シスの暗黒卿') # 引数を2つ設定して関数を呼び出す"
   ]
  },
  {
   "cell_type": "code",
   "execution_count": 3,
   "metadata": {},
   "outputs": [
    {
     "name": "stdout",
     "output_type": "stream",
     "text": [
      "ベイダー卿とシスの暗黒卿があらわれた！\n"
     ]
    }
   ],
   "source": [
    "# 戻り値を返す関数\n",
    "def appear(word1, word2):                   # 2つのパラメーターを持つ関数\n",
    "    result = word1 + 'と' + word2 + 'があらわれた！'\n",
    "    return result                           # 処理した文字列を戻り値として返す\n",
    "\n",
    "show = appear('ベイダー卿', 'シスの暗黒卿') # 引数を2つ設定して関数を呼び出す\n",
    "print(show) "
   ]
  },
  {
   "cell_type": "code",
   "execution_count": 4,
   "metadata": {},
   "outputs": [
    {
     "name": "stdout",
     "output_type": "stream",
     "text": [
      "ベイダー卿があらわれた！\n"
     ]
    }
   ],
   "source": [
    "# キーワード引数を使う\n",
    "def appear(name, action):                # 2つのパラメーターを持つ関数\n",
    "    result = name + 'が' + action + '！'\n",
    "    return result                        # 処理した文字列を戻り値として返す\n",
    "\n",
    "show = appear(action = 'あらわれた',     # actionに渡す\n",
    "              name = 'ベイダー卿'        # nameに渡す\n",
    "              )\n",
    "print(show)                              # 関数の戻り値を出力"
   ]
  },
  {
   "cell_type": "code",
   "execution_count": 5,
   "metadata": {},
   "outputs": [
    {
     "name": "stdout",
     "output_type": "stream",
     "text": [
      "シスの暗黒卿が逃げだした！\n"
     ]
    }
   ],
   "source": [
    "# デフォルトパラメーター\n",
    "# 2つのパラメーターを持つ関数\n",
    "def appear(name,                 # パラメーター名のみ\n",
    "           action = '逃げだした' # パラメーターのデフォルト値を設定\n",
    "           ): \n",
    "    result = name + 'が' + action + '！'\n",
    "    return result                        # 処理した文字列を戻り値として返す\n",
    "\n",
    "show = appear('シスの暗黒卿')            # nameに渡す\n",
    "print(show)                              # 関数の戻り値を出力"
   ]
  },
  {
   "cell_type": "code",
   "execution_count": 6,
   "metadata": {},
   "outputs": [
    {
     "ename": "NameError",
     "evalue": "name 'rate' is not defined",
     "output_type": "error",
     "traceback": [
      "\u001b[1;31m---------------------------------------------------------------------------\u001b[0m",
      "\u001b[1;31mNameError\u001b[0m                                 Traceback (most recent call last)",
      "\u001b[1;32m<ipython-input-6-7861af3622c1>\u001b[0m in \u001b[0;36m<module>\u001b[1;34m\u001b[0m\n\u001b[0;32m      4\u001b[0m     \u001b[0mrate\u001b[0m \u001b[1;33m=\u001b[0m \u001b[1;36m3.14\u001b[0m \u001b[1;31m# ローカル変数\u001b[0m\u001b[1;33m\u001b[0m\u001b[1;33m\u001b[0m\u001b[0m\n\u001b[0;32m      5\u001b[0m \u001b[0mpi\u001b[0m\u001b[1;33m(\u001b[0m\u001b[1;33m)\u001b[0m            \u001b[1;31m# pi()を呼出す\u001b[0m\u001b[1;33m\u001b[0m\u001b[1;33m\u001b[0m\u001b[0m\n\u001b[1;32m----> 6\u001b[1;33m \u001b[0mprint\u001b[0m\u001b[1;33m(\u001b[0m\u001b[0mrate\u001b[0m\u001b[1;33m)\u001b[0m     \u001b[1;31m# rateを使うことはできない\u001b[0m\u001b[1;33m\u001b[0m\u001b[1;33m\u001b[0m\u001b[0m\n\u001b[0m",
      "\u001b[1;31mNameError\u001b[0m: name 'rate' is not defined"
     ]
    }
   ],
   "source": [
    "# グローバルスコープからローカルスコープへのアクセスは不可\n",
    "# エラーが表示されます\n",
    "def pi():\n",
    "    rate = 3.14 # ローカル変数\n",
    "pi()            # pi()を呼出す\n",
    "print(rate)     # rateを使うことはできない"
   ]
  },
  {
   "cell_type": "code",
   "execution_count": 7,
   "metadata": {},
   "outputs": [
    {
     "name": "stdout",
     "output_type": "stream",
     "text": [
      "3.14\n"
     ]
    }
   ],
   "source": [
    "# 関数内部で別の関数を呼び出す\n",
    "def pi():\n",
    "    rate = 3.14  # ①\n",
    "    tax()        # ②\n",
    "    print(rate)  # ③\n",
    "    \n",
    "def tax():\n",
    "    rate = 0.08  # ④\n",
    "\n",
    "pi()             # ⑤"
   ]
  },
  {
   "cell_type": "code",
   "execution_count": 8,
   "metadata": {},
   "outputs": [
    {
     "name": "stdout",
     "output_type": "stream",
     "text": [
      "3.14\n"
     ]
    }
   ],
   "source": [
    "# ローカルスコープからグローバル変数にアクセスする\n",
    "def pi():\n",
    "    print(rate)  # ①グローバル変数を参照する\n",
    "    \n",
    "rate = 3.14      # グローバル変数\n",
    "pi()             # pi()を呼出す"
   ]
  },
  {
   "cell_type": "code",
   "execution_count": 9,
   "metadata": {},
   "outputs": [
    {
     "name": "stdout",
     "output_type": "stream",
     "text": [
      "Hello\n"
     ]
    }
   ],
   "source": [
    "# 関数内部でグローバル変数の値を変更する\n",
    "def msg():\n",
    "    global word    # ①グローバル変数を変更できるようにする\n",
    "    word = 'Hello' # グローバル変数の値を設定\n",
    "\n",
    "word = 'global'    # グローバル変数\n",
    "msg()              # msg()を呼出す\n",
    "print(word)        # グローバル変数の値を出力"
   ]
  },
  {
   "cell_type": "code",
   "execution_count": 10,
   "metadata": {},
   "outputs": [
    {
     "name": "stdout",
     "output_type": "stream",
     "text": [
      "square\n",
      "square\n"
     ]
    }
   ],
   "source": [
    "# 同名のグローバル変数とローカル変数\n",
    "def square():\n",
    "    global word       # ①グローバル変数を変更できるようにする\n",
    "    word = 'square'   # グローバル変数に代入する\n",
    "\n",
    "def triangle():\n",
    "    word = 'triangle' # ②ローカル変数word\n",
    "\n",
    "def show():\n",
    "    print(word)       # ③グローバル変数を参照する\n",
    "\n",
    "word = 'form'         # グローバル変数\n",
    "square()              # ④square()を実行\n",
    "show ()               # ⑤show()を実行\n",
    "print(word)           # ⑥グローバル変数wordを出力"
   ]
  },
  {
   "cell_type": "code",
   "execution_count": 11,
   "metadata": {},
   "outputs": [
    {
     "name": "stdout",
     "output_type": "stream",
     "text": [
      "10.0\n"
     ]
    },
    {
     "ename": "ZeroDivisionError",
     "evalue": "division by zero",
     "output_type": "error",
     "traceback": [
      "\u001b[1;31m---------------------------------------------------------------------------\u001b[0m",
      "\u001b[1;31mZeroDivisionError\u001b[0m                         Traceback (most recent call last)",
      "\u001b[1;32m<ipython-input-11-3833dc946b4c>\u001b[0m in \u001b[0;36m<module>\u001b[1;34m\u001b[0m\n\u001b[0;32m      4\u001b[0m \u001b[1;33m\u001b[0m\u001b[0m\n\u001b[0;32m      5\u001b[0m \u001b[0mprint\u001b[0m\u001b[1;33m(\u001b[0m\u001b[0mcalc\u001b[0m\u001b[1;33m(\u001b[0m\u001b[1;36m100\u001b[0m\u001b[1;33m,\u001b[0m \u001b[1;36m10\u001b[0m\u001b[1;33m)\u001b[0m\u001b[1;33m)\u001b[0m\u001b[1;33m\u001b[0m\u001b[1;33m\u001b[0m\u001b[0m\n\u001b[1;32m----> 6\u001b[1;33m \u001b[0mprint\u001b[0m\u001b[1;33m(\u001b[0m\u001b[0mcalc\u001b[0m\u001b[1;33m(\u001b[0m\u001b[1;36m100\u001b[0m\u001b[1;33m,\u001b[0m \u001b[1;36m0\u001b[0m\u001b[1;33m)\u001b[0m\u001b[1;33m)\u001b[0m\u001b[1;33m\u001b[0m\u001b[1;33m\u001b[0m\u001b[0m\n\u001b[0m\u001b[0;32m      7\u001b[0m \u001b[0mprint\u001b[0m\u001b[1;33m(\u001b[0m\u001b[0mcalc\u001b[0m\u001b[1;33m(\u001b[0m\u001b[1;36m5\u001b[0m\u001b[1;33m,\u001b[0m \u001b[1;36m2\u001b[0m\u001b[1;33m)\u001b[0m\u001b[1;33m)\u001b[0m\u001b[1;33m\u001b[0m\u001b[1;33m\u001b[0m\u001b[0m\n",
      "\u001b[1;32m<ipython-input-11-3833dc946b4c>\u001b[0m in \u001b[0;36mcalc\u001b[1;34m(num1, num2)\u001b[0m\n\u001b[0;32m      1\u001b[0m \u001b[1;31m# ゼロ除算を含む演算を行うサンプル\u001b[0m\u001b[1;33m\u001b[0m\u001b[1;33m\u001b[0m\u001b[1;33m\u001b[0m\u001b[0m\n\u001b[0;32m      2\u001b[0m \u001b[1;32mdef\u001b[0m \u001b[0mcalc\u001b[0m\u001b[1;33m(\u001b[0m\u001b[0mnum1\u001b[0m\u001b[1;33m,\u001b[0m \u001b[0mnum2\u001b[0m\u001b[1;33m)\u001b[0m\u001b[1;33m:\u001b[0m\u001b[1;33m\u001b[0m\u001b[1;33m\u001b[0m\u001b[0m\n\u001b[1;32m----> 3\u001b[1;33m     \u001b[1;32mreturn\u001b[0m \u001b[0mnum1\u001b[0m \u001b[1;33m/\u001b[0m \u001b[0mnum2\u001b[0m\u001b[1;33m\u001b[0m\u001b[1;33m\u001b[0m\u001b[0m\n\u001b[0m\u001b[0;32m      4\u001b[0m \u001b[1;33m\u001b[0m\u001b[0m\n\u001b[0;32m      5\u001b[0m \u001b[0mprint\u001b[0m\u001b[1;33m(\u001b[0m\u001b[0mcalc\u001b[0m\u001b[1;33m(\u001b[0m\u001b[1;36m100\u001b[0m\u001b[1;33m,\u001b[0m \u001b[1;36m10\u001b[0m\u001b[1;33m)\u001b[0m\u001b[1;33m)\u001b[0m\u001b[1;33m\u001b[0m\u001b[1;33m\u001b[0m\u001b[0m\n",
      "\u001b[1;31mZeroDivisionError\u001b[0m: division by zero"
     ]
    }
   ],
   "source": [
    "# ゼロ除算を含む演算を行うサンプル\n",
    "def calc(num1, num2):\n",
    "    return num1 / num2\n",
    "\n",
    "print(calc(100, 10))\n",
    "print(calc(100, 0))\n",
    "print(calc(5, 2))"
   ]
  },
  {
   "cell_type": "code",
   "execution_count": 12,
   "metadata": {},
   "outputs": [
    {
     "name": "stdout",
     "output_type": "stream",
     "text": [
      "10.0\n",
      "不正な引数が指定されました。\n",
      "None\n"
     ]
    }
   ],
   "source": [
    "# ゼロ除算時の例外処理を行う\n",
    "def calc(num1, num2):\n",
    "    try:\n",
    "        return num1 / num2\n",
    "    except ZeroDivisionError:\n",
    "        print('不正な引数が指定されました。')\n",
    "\n",
    "print(calc(100, 10))\n",
    "print(calc(100, 0))"
   ]
  },
  {
   "cell_type": "code",
   "execution_count": 13,
   "metadata": {},
   "outputs": [
    {
     "name": "stdout",
     "output_type": "stream",
     "text": [
      "10.0\n",
      "不正な引数が指定されました。\n"
     ]
    }
   ],
   "source": [
    "# 関数の呼び出し側で例外処理を行う\n",
    "def calc(num1, num2):\n",
    "        return num1 / num2\n",
    "\n",
    "try:\n",
    "    print(calc(100, 10))\n",
    "    print(calc(100, 0))\n",
    "    print(calc(5, 2))\n",
    "except ZeroDivisionError:\n",
    "    print('不正な引数が指定されました。')"
   ]
  },
  {
   "cell_type": "code",
   "execution_count": null,
   "metadata": {},
   "outputs": [],
   "source": []
  }
 ],
 "metadata": {
  "kernelspec": {
   "display_name": "Python 3",
   "language": "python",
   "name": "python3"
  },
  "language_info": {
   "codemirror_mode": {
    "name": "ipython",
    "version": 3
   },
   "file_extension": ".py",
   "mimetype": "text/x-python",
   "name": "python",
   "nbconvert_exporter": "python",
   "pygments_lexer": "ipython3",
   "version": "3.7.6"
  }
 },
 "nbformat": 4,
 "nbformat_minor": 2
}
