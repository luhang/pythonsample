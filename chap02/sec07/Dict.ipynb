{
 "cells": [
  {
   "cell_type": "code",
   "execution_count": 1,
   "metadata": {},
   "outputs": [
    {
     "data": {
      "text/plain": [
       "{'朝食': 'シリアル', '昼食': '牛丼', '夕食': 'トマトのパスタ'}"
      ]
     },
     "execution_count": 1,
     "metadata": {},
     "output_type": "execute_result"
    }
   ],
   "source": [
    "# 辞書を作成する\n",
    "menu = {'朝食' : 'シリアル',\n",
    "    '昼食' : '牛丼',\n",
    "    '夕食' : 'トマトのパスタ' }\n",
    "menu"
   ]
  },
  {
   "cell_type": "code",
   "execution_count": 2,
   "metadata": {},
   "outputs": [
    {
     "data": {
      "text/plain": [
       "'シリアル'"
      ]
     },
     "execution_count": 2,
     "metadata": {},
     "output_type": "execute_result"
    }
   ],
   "source": [
    "# 辞書に登録した要素を参照する\n",
    "menu = {'朝食' : 'シリアル',\n",
    "    '昼食' : '牛丼',\n",
    "    '夕食' : 'トマトのパスタ' }\n",
    "menu['朝食']"
   ]
  },
  {
   "cell_type": "code",
   "execution_count": 3,
   "metadata": {},
   "outputs": [
    {
     "data": {
      "text/plain": [
       "{'朝食': 'シリアル', '昼食': '牛丼', '夕食': 'トマトのパスタ', 'おやつ': 'マカロン'}"
      ]
     },
     "execution_count": 3,
     "metadata": {},
     "output_type": "execute_result"
    }
   ],
   "source": [
    "# 要素を追加する\n",
    "menu['おやつ'] = 'マカロン'\n",
    "menu"
   ]
  },
  {
   "cell_type": "code",
   "execution_count": 4,
   "metadata": {},
   "outputs": [
    {
     "data": {
      "text/plain": [
       "{'朝食': 'シリアル', '昼食': '牛丼', '夕食': 'トマトのパスタ', 'おやつ': 'いちご大福'}"
      ]
     },
     "execution_count": 4,
     "metadata": {},
     "output_type": "execute_result"
    }
   ],
   "source": [
    "# 登録済みの値を変更する\n",
    "menu['おやつ'] = 'いちご大福'\n",
    "menu"
   ]
  },
  {
   "cell_type": "code",
   "execution_count": 5,
   "metadata": {},
   "outputs": [
    {
     "data": {
      "text/plain": [
       "{'朝食': 'シリアル', '昼食': '牛丼', '夕食': 'トマトのパスタ'}"
      ]
     },
     "execution_count": 5,
     "metadata": {},
     "output_type": "execute_result"
    }
   ],
   "source": [
    "# 指定した要素を削除する\n",
    "del menu['おやつ']\n",
    "menu"
   ]
  },
  {
   "cell_type": "code",
   "execution_count": 6,
   "metadata": {},
   "outputs": [
    {
     "name": "stdout",
     "output_type": "stream",
     "text": [
      "R2-D2\n",
      "C-3PO\n",
      "バトル・ドロイド\n"
     ]
    }
   ],
   "source": [
    "# キーをイテレートして列挙する\n",
    "droid= {'R2-D2' : '宇宙用のアストロメク・ドロイド',\n",
    "        'C-3PO' : '知覚生物とコミュニケーションを取るためのドロイド',\n",
    "        'バトル・ドロイド' : '戦闘用に設計されたドロイド'\n",
    "        }\n",
    "for key in droid:\n",
    "    print(key)"
   ]
  },
  {
   "cell_type": "code",
   "execution_count": 7,
   "metadata": {},
   "outputs": [
    {
     "name": "stdout",
     "output_type": "stream",
     "text": [
      "dict_keys(['R2-D2', 'C-3PO', 'バトル・ドロイド'])\n"
     ]
    }
   ],
   "source": [
    "# 辞書のすべてのキーを取得する\n",
    "droid= {'R2-D2' : '宇宙用のアストロメク・ドロイド',\n",
    "        'C-3PO' : '知覚生物とコミュニケーションを取るためのドロイド',\n",
    "        'バトル・ドロイド' : '戦闘用に設計されたドロイド'\n",
    "        }\n",
    "lst = droid.keys() # すべてのキーを要素にしたリストを取得する\n",
    "print(lst)"
   ]
  },
  {
   "cell_type": "code",
   "execution_count": 8,
   "metadata": {},
   "outputs": [
    {
     "name": "stdout",
     "output_type": "stream",
     "text": [
      "R2-D2\n",
      "C-3PO\n",
      "バトル・ドロイド\n"
     ]
    }
   ],
   "source": [
    "# keys()メソッドが返すキーのリストから1つずつ取り出す\n",
    "for key in droid.keys():\n",
    "    print(key)"
   ]
  },
  {
   "cell_type": "code",
   "execution_count": 9,
   "metadata": {},
   "outputs": [
    {
     "name": "stdout",
     "output_type": "stream",
     "text": [
      "dict_values(['宇宙用のアストロメク・ドロイド', '知覚生物とコミュニケーションを取るためのドロイド', '戦闘用に設計されたドロイド'])\n"
     ]
    }
   ],
   "source": [
    "# 辞書のすべての値をリストとして取得する\n",
    "droid= {'R2-D2' : '宇宙用のアストロメク・ドロイド',\n",
    "        'C-3PO' : '知覚生物とコミュニケーションを取るためのドロイド',\n",
    "        'バトル・ドロイド' : '戦闘用に設計されたドロイド'\n",
    "        }\n",
    "val = droid.values()       # 辞書の値のみをすべて取り出す\n",
    "print(val)"
   ]
  },
  {
   "cell_type": "code",
   "execution_count": 10,
   "metadata": {},
   "outputs": [
    {
     "name": "stdout",
     "output_type": "stream",
     "text": [
      "宇宙用のアストロメク・ドロイド\n",
      "知覚生物とコミュニケーションを取るためのドロイド\n",
      "戦闘用に設計されたドロイド\n"
     ]
    }
   ],
   "source": [
    "# 辞書のすべての値を取得する(dictionary_slime.py）\n",
    "for key in droid.values(): # values()の戻り値をforでイテレートする\n",
    "    print(key)"
   ]
  },
  {
   "cell_type": "code",
   "execution_count": 11,
   "metadata": {},
   "outputs": [
    {
     "name": "stdout",
     "output_type": "stream",
     "text": [
      "dict_items([('R2-D2', '宇宙用のアストロメク・ドロイド'), ('C-3PO', '知覚生物とコミュニケーションを取るためのドロイド'), ('バトル・ドロイド', '戦闘用に設計されたドロイド')])\n"
     ]
    }
   ],
   "source": [
    "# 辞書の要素をすべて取得\n",
    "droid= {'R2-D2'            : '宇宙用のアストロメク・ドロイド',\n",
    "        'C-3PO'            : '知覚生物とコミュニケーションを取るためのドロイド',\n",
    "        'バトル・ドロイド' : '戦闘用に設計されたドロイド'\n",
    "        }\n",
    "val = droid.items()\n",
    "print(val)"
   ]
  },
  {
   "cell_type": "code",
   "execution_count": 12,
   "metadata": {},
   "outputs": [
    {
     "name": "stdout",
     "output_type": "stream",
     "text": [
      "「R2-D2」は宇宙用のアストロメク・ドロイドなのです。\n",
      "「C-3PO」は知覚生物とコミュニケーションを取るためのドロイドなのです。\n",
      "「バトル・ドロイド」は戦闘用に設計されたドロイドなのです。\n"
     ]
    }
   ],
   "source": [
    "# 辞書のキーと値をイテレートする\n",
    "droid= {'R2-D2' : '宇宙用のアストロメク・ドロイド',\n",
    "        'C-3PO' : '知覚生物とコミュニケーションを取るためのドロイド',\n",
    "        'バトル・ドロイド' : '戦闘用に設計されたドロイド'\n",
    "        }\n",
    "for key, value in droid.items(): # キーをkey、値をvalueに取り出す\n",
    "    print(\n",
    "        '「{}」は{}なのです。'.format(key, value))"
   ]
  },
  {
   "cell_type": "code",
   "execution_count": 13,
   "metadata": {},
   "outputs": [
    {
     "data": {
      "text/plain": [
       "{'グンガン': '惑星ナブーに住む両生類型知覚種族',\n",
       " 'ジャワ': '砂漠の惑星タトゥイーンに住むヒューマノイド型知覚種族',\n",
       " 'ナーコイス': '惑星ナークに住む背の低い知覚種族'}"
      ]
     },
     "execution_count": 13,
     "metadata": {},
     "output_type": "execute_result"
    }
   ],
   "source": [
    "# リストを辞書にする\n",
    "# リストのリスト\n",
    "seq = [ ['グンガン', '惑星ナブーに住む両生類型知覚種族'],\n",
    "        ['ジャワ', '砂漠の惑星タトゥイーンに住むヒューマノイド型知覚種族'],\n",
    "        ['ナーコイス', '惑星ナークに住む背の低い知覚種族'] ]\n",
    "dict(seq)"
   ]
  },
  {
   "cell_type": "code",
   "execution_count": 14,
   "metadata": {},
   "outputs": [
    {
     "data": {
      "text/plain": [
       "{'宇宙船': ['ミレニアム・ファルコン'],\n",
       " '武器': ['イオン砲', 'ブラスター砲', 'ボウキャスター'],\n",
       " 'ドロイド': ['ドロイド・タンク', ' B1バトル・ドロイド', 'マグナガード']}"
      ]
     },
     "execution_count": 14,
     "metadata": {},
     "output_type": "execute_result"
    }
   ],
   "source": [
    "# 辞書に辞書を追加\n",
    "items = { '宇宙船' : ['スターファイター',' GR-75中型輸送船'],\n",
    "          '武器'   : ['イオン砲','ブラスター砲', 'ボウキャスター'], }\n",
    "# 追加用の辞書\n",
    "add = {'宇宙船'   : ['ミレニアム・ファルコン'],\n",
    "       'ドロイド' : ['ドロイド・タンク',' B1バトル・ドロイド', 'マグナガード']}\n",
    "# 辞書を追加する\n",
    "items.update(add)\n",
    "items"
   ]
  },
  {
   "cell_type": "code",
   "execution_count": 15,
   "metadata": {},
   "outputs": [
    {
     "data": {
      "text/plain": [
       "{'宇宙船': ['ミレニアム・ファルコン'], 'ドロイド': ['ドロイド・タンク', ' B1バトル・ドロイド', 'マグナガード']}"
      ]
     },
     "execution_count": 15,
     "metadata": {},
     "output_type": "execute_result"
    }
   ],
   "source": [
    "#  辞書のコピー\n",
    "add = {'宇宙船'   : ['ミレニアム・ファルコン'],\n",
    "        'ドロイド' : ['ドロイド・タンク',' B1バトル・ドロイド', 'マグナガード']}\n",
    "new = add.copy()\n",
    "new"
   ]
  },
  {
   "cell_type": "code",
   "execution_count": 16,
   "metadata": {},
   "outputs": [
    {
     "data": {
      "text/plain": [
       "{'宇宙船': ['ミレニアム・ファルコン', 'スターファイター']}"
      ]
     },
     "execution_count": 16,
     "metadata": {},
     "output_type": "execute_result"
    }
   ],
   "source": [
    "# キーを指定して要素を削除する（インタラクティブシェルの続き）\n",
    "add = {'宇宙船'   : ['ミレニアム・ファルコン', 'スターファイター'],\n",
    "       'ドロイド' : ['ドロイド・タンク',' B1バトル・ドロイド', 'マグナガード']}\n",
    "del add['ドロイド']\n",
    "add"
   ]
  },
  {
   "cell_type": "code",
   "execution_count": 17,
   "metadata": {},
   "outputs": [
    {
     "data": {
      "text/plain": [
       "{}"
      ]
     },
     "execution_count": 17,
     "metadata": {},
     "output_type": "execute_result"
    }
   ],
   "source": [
    "# 辞書のすべての要素を削除（先の続き）\n",
    "add.clear()\n",
    "add"
   ]
  },
  {
   "cell_type": "code",
   "execution_count": null,
   "metadata": {},
   "outputs": [],
   "source": []
  }
 ],
 "metadata": {
  "kernelspec": {
   "display_name": "Python 3",
   "language": "python",
   "name": "python3"
  },
  "language_info": {
   "codemirror_mode": {
    "name": "ipython",
    "version": 3
   },
   "file_extension": ".py",
   "mimetype": "text/x-python",
   "name": "python",
   "nbconvert_exporter": "python",
   "pygments_lexer": "ipython3",
   "version": "3.7.6"
  }
 },
 "nbformat": 4,
 "nbformat_minor": 2
}
