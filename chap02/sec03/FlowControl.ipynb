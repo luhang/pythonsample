{
 "cells": [
  {
   "cell_type": "code",
   "execution_count": 1,
   "metadata": {},
   "outputs": [
    {
     "data": {
      "text/plain": [
       "True"
      ]
     },
     "execution_count": 1,
     "metadata": {},
     "output_type": "execute_result"
    }
   ],
   "source": [
    "a = 5\t# aに5を代入\n",
    "a == 5\t# aの値は5と等しいか"
   ]
  },
  {
   "cell_type": "code",
   "execution_count": 2,
   "metadata": {},
   "outputs": [
    {
     "data": {
      "text/plain": [
       "False"
      ]
     },
     "execution_count": 2,
     "metadata": {},
     "output_type": "execute_result"
    }
   ],
   "source": [
    "a == 10\t# aの値は10と等しいか"
   ]
  },
  {
   "cell_type": "code",
   "execution_count": 3,
   "metadata": {},
   "outputs": [
    {
     "name": "stdout",
     "output_type": "stream",
     "text": [
      "おやつにいくら使える？＞300\n",
      "ウーロン茶とポテチを買う\n",
      "キャラメルチーズタルトを買う\n",
      "ライ麦ケーキを買う\n"
     ]
    }
   ],
   "source": [
    "q1 = int(input('おやつにいくら使える？＞'))\n",
    "if(q1 >= 300):\n",
    "    print('ウーロン茶とポテチを買う')\n",
    "    print('キャラメルチーズタルトを買う')\n",
    "    print('ライ麦ケーキを買う')"
   ]
  },
  {
   "cell_type": "code",
   "execution_count": 4,
   "metadata": {},
   "outputs": [
    {
     "name": "stdout",
     "output_type": "stream",
     "text": [
      "おやつにいくら使える？＞300\n",
      "甘いものがいい？(Y／N)＞Y\n",
      "カロリーを気にしてる？(Y／N)＞Y\n",
      "ライ麦ケーキを買う\n"
     ]
    }
   ],
   "source": [
    "# 使える金額を取得\n",
    "q1 = int(input('おやつにいくら使える？＞'))\n",
    "# 使える金額を判定するif文\n",
    "if q1 >= 300: \n",
    "    q2 = input('甘いものがいい？(Y／N)＞')\n",
    "    # 甘いものかを判定するif文\n",
    "    if q2 =='Y':\n",
    "        q3 = input('カロリーを気にしてる？(Y／N)＞')\n",
    "        # カロリーを気にするかを判定するif文\n",
    "        if q3=='Y':\n",
    "           print('ライ麦ケーキを買う')\n",
    "        else:\n",
    "           print('キャラメルチーズタルトを買う')\n",
    "    else:\n",
    "        print('ウーロン茶とポテチを買う')\n",
    "else:\n",
    "    print('チョコドーナツを買う')"
   ]
  },
  {
   "cell_type": "code",
   "execution_count": 5,
   "metadata": {},
   "outputs": [
    {
     "name": "stdout",
     "output_type": "stream",
     "text": [
      "おやつにいくら使える？(Y／N)＞300\n",
      "甘いものがいい？(Y／N)＞Y\n",
      "カロリーを気にしてる？(Y／N)＞N\n",
      "キャラメルチーズタルトを買う\n"
     ]
    }
   ],
   "source": [
    "# 最初にまとめて質問する\n",
    "q1 = int(input('おやつにいくら使える？(Y／N)＞'))\n",
    "q2 = input('甘いものがいい？(Y／N)＞')\n",
    "q3 = input('カロリーを気にしてる？(Y／N)＞')\n",
    "\n",
    "# 300円以上で甘いものもカロリーも「Y」の場合\n",
    "if (q1 >= 300 and\n",
    "    q2 == 'Y' and\n",
    "    q3 == 'Y'):\n",
    "    print('ライ麦ケーキを買う')\n",
    "# 300円以上で甘いものだけが「Y」の場合\n",
    "elif (q1 >= 300 and\n",
    "      q2 == 'Y'):\n",
    "    print('キャラメルチーズタルトを買う')\n",
    "# 300円以上で甘いものもカロリーも「Y」ではない場合\n",
    "elif q1 >= 300:\n",
    "    print('ウーロン茶とポテチを買う')\n",
    "# どの条件も成立しない（使えるお金が300円以上ではない）場合\n",
    "else:\n",
    "    print('チョコドーナツを買う')"
   ]
  },
  {
   "cell_type": "code",
   "execution_count": 6,
   "metadata": {},
   "outputs": [
    {
     "name": "stdout",
     "output_type": "stream",
     "text": [
      "0\n",
      "1\n",
      "2\n",
      "3\n",
      "4\n"
     ]
    }
   ],
   "source": [
    "for count in range(5):\n",
    "    print(count)"
   ]
  },
  {
   "cell_type": "code",
   "execution_count": 7,
   "metadata": {},
   "outputs": [
    {
     "name": "stdout",
     "output_type": "stream",
     "text": [
      "お名前をどうぞ>パイソン\n",
      "パイソンの攻撃！\n",
      "パイソンの攻撃！\n",
      "パイソンの攻撃！\n",
      "パイソンの攻撃！\n",
      "パイソンの攻撃！\n",
      "まものたちはたいさんした\n"
     ]
    }
   ],
   "source": [
    "# モンスターに連続して5回攻撃する\n",
    "\n",
    "# プレイヤーの名前を取得\n",
    "brave = input('お名前をどうぞ>')\n",
    "\n",
    "# 名前が入力されたら以下の処理を実行\n",
    "if (brave):\n",
    "    # 攻撃を5回繰り返す\n",
    "    for count in range(5):\n",
    "        print(brave + 'の攻撃！')\n",
    "    # 5回繰り返したら終了のメッセージを出力\n",
    "    print('まものたちはたいさんした')\n",
    "# 何も入力されなければゲームを終了\n",
    "else:\n",
    "    print('ゲーム終了')"
   ]
  },
  {
   "cell_type": "code",
   "execution_count": 8,
   "metadata": {},
   "outputs": [
    {
     "name": "stdout",
     "output_type": "stream",
     "text": [
      "お名前をどうぞ>パイソン\n",
      "まものたちがあらわれた！\n",
      "パイソンの攻撃！\n",
      "まものたちはひるんでいる\n",
      "パイソンの攻撃！\n",
      "まものたちはひるんでいる\n",
      "パイソンの攻撃！\n",
      "まものたちはひるんでいる\n",
      "パイソンの攻撃！\n",
      "まものたちはひるんでいる\n",
      "パイソンの攻撃！\n",
      "まものたちはひるんでいる\n",
      "まものたちはたいさんした\n"
     ]
    }
   ],
   "source": [
    "# 勇者の攻撃と魔物たちの反応を織り交ぜる\n",
    "\n",
    "name    = input('お名前をどうぞ>')\t# プレイヤーの名前を取得\n",
    "brave   =  (name + 'の攻撃！')          # プレイヤーの攻撃パターン\n",
    "mamono1 = 'まものたちはひるんでいる'\t# 魔物の応答パターン1\n",
    "mamono2 = 'まものたちはたいさんした'\t# 魔物の応答パターン2\n",
    "\n",
    "# 名前が入力されたらバトル開始\n",
    "if (brave):\n",
    "    print('まものたちがあらわれた！')\n",
    "    # 10回繰り返す\n",
    "    for count in range(10):\n",
    "        # 偶数回の処理ならプレイヤーの攻撃を出力①\n",
    "        if count % 2 ==0:\n",
    "            print(brave)\n",
    "        # 偶数回の処理なら魔物たちの応答mamono1を出力\n",
    "        else:\n",
    "            print(mamono1)\n",
    "    # for文終了後に魔物たちの応答mamono2を出力\n",
    "    print(mamono2)\n",
    "# 何も入力されなければゲームを終了\n",
    "else:\n",
    "    print('ゲーム終了')"
   ]
  },
  {
   "cell_type": "code",
   "execution_count": 9,
   "metadata": {},
   "outputs": [
    {
     "name": "stdout",
     "output_type": "stream",
     "text": [
      "まものたちがあらわれた！\n",
      "お名前をどうぞ！>パイソン\n",
      "パイソンのこうげき！\n",
      "パイソンのこうげき！\n",
      "パイソンは呪文をとなえた！\n",
      "まものたちはひるんでいる\n",
      "まものたちはひるんでいる\n",
      "パイソンは呪文をとなえた！\n",
      "まものたちはひるんでいる\n",
      "パイソンのこうげき！\n",
      "まものたちがはんげきした！\n",
      "まものたちはひるんでいる\n",
      "まものたちはひるんでいる\n",
      "まものたちはたいさんした\n"
     ]
    }
   ],
   "source": [
    "# ランダムに攻撃を繰り出す\n",
    "\n",
    "import random                          # randomモジュールのインポート\n",
    "\n",
    "print('まものたちがあらわれた！')      # 最初に出力\n",
    "\n",
    "brave   = input('お名前をどうぞ！>')   # 勇者の名前を取得\n",
    "brave1  = brave + 'のこうげき！'       # 1つ目の攻撃パターンを作る\n",
    "brave2  = brave + 'は呪文をとなえた！' # 2つ目の攻撃パターン\n",
    "mamono1 = 'まものたちはひるんでいる'   # 魔物の反応その1\n",
    "mamono2 = 'まものたちがはんげきした！' # 魔物の反応その2\n",
    "\n",
    "if(brave):\n",
    "    print(brave1)                      # 繰り返しの前に勇者の攻撃を出力しておく\n",
    "    for count in range(10):            # 繰り返す回数は10回\n",
    "        x = random.randint(1, 10)      # 1～10の範囲の値をランダムに生成\n",
    "        if x <= 3:                     # 生成された値が3以下であればbrave1\n",
    "            print(brave1)\n",
    "        elif 4 <= x <= 6:              # 生成された値4以上6以下であればbrave2\n",
    "            print(brave2)\n",
    "        elif 7 <= x <= 9:              # 生成された値が7以上9以下であればmamono1\n",
    "            print(mamono1)\n",
    "        else:                          # 生成された値が上記以外はmamono2\n",
    "            print(mamono2)\n",
    "    print('まものたちはたいさんした')\n",
    "else:\n",
    "    print('ゲーム終了')                # 名前が入力されなかった場合は何もせずに終了"
   ]
  },
  {
   "cell_type": "code",
   "execution_count": 10,
   "metadata": {},
   "outputs": [
    {
     "name": "stdout",
     "output_type": "stream",
     "text": [
      "まものたちがあらわれた！\n",
      "お名前をどうぞ！>パイソン\n",
      "パイソンの呪文 > ラリホイ\n",
      "パイソンは「ラリホイ」の呪文をとなえた！\n",
      "まものたちは様子をうかがっている\n",
      "パイソンの呪文 > ホイホイ\n",
      "パイソンは「ホイホイ」の呪文をとなえた！\n",
      "まものたちは様子をうかがっている\n",
      "パイソンの呪文 > ジェダイ\n",
      "パイソンは「ジェダイ」の呪文をとなえた！\n",
      "まものたちは全滅した\n"
     ]
    }
   ],
   "source": [
    "# 指定の呪文を使わない限りバトルを繰り返す\n",
    "\n",
    "print('まものたちがあらわれた！')    # 最初に出力\n",
    "brave = input('お名前をどうぞ！>')   # プレイヤーの名前を取得\n",
    "prompt = brave + 'の呪文 > '         # プロンプトを作る\n",
    "attack = ''                          # 呪文を代入する変数を用意\n",
    "\n",
    "while attack != 'ジェダイ':          # attackが'ジェダイ'でない限り繰り返す\n",
    "    attack = input('' + prompt)      # 呪文を取得\n",
    "    print(brave + 'は「' + attack + '」の呪文をとなえた！')\n",
    "\n",
    "    if attack != 'ジェダイ':         # attackが'ジェダイ'でなければ以下を表示\n",
    "        print('まものたちは様子をうかがっている')\n",
    "\n",
    "print('まものたちは全滅した')"
   ]
  },
  {
   "cell_type": "code",
   "execution_count": null,
   "metadata": {},
   "outputs": [],
   "source": [
    "# ツールバーの[inerrupt the kernel]ボタンをクリックして止める\n",
    "counter = 0\n",
    "while counter < 10:\n",
    "    print('無限')"
   ]
  },
  {
   "cell_type": "code",
   "execution_count": 5,
   "metadata": {},
   "outputs": [
    {
     "name": "stdout",
     "output_type": "stream",
     "text": [
      "まものたちがあらわれた！\n",
      "お名前をどうぞ！>パイソン\n",
      "パイソンの呪文 > ワカラン\n",
      "パイソンは「ワカラン」の呪文をとなえた！\n",
      "まものたちはようすをうかがっている\n",
      "パイソンの呪文 > シッシ\n",
      "パイソンは「シッシ」の呪文をとなえた！\n",
      "まものたちはようすをうかがっている\n",
      "パイソンの呪文 > エンド\n",
      "パイソンは「エンド」の呪文をとなえた！\n",
      "まものたちはようすをうかがっている\n",
      "まものたちはどこかへ行ってしまった...\n"
     ]
    }
   ],
   "source": [
    "# whileの繰り返しを最大3回までにする\n",
    "\n",
    "print('まものたちがあらわれた！')    # 最初に出力\n",
    "brave = input('お名前をどうぞ！>')   # プレイヤーの名前を取得\n",
    "prompt = brave + 'の呪文 > '         # プロンプトを作る\n",
    "attack = ''                          # 呪文を代入する変数を用意\n",
    "counter = 0\n",
    "\n",
    "\n",
    "while counter < 3:                   # attackが'ジェダイ'でない限り繰り返す\n",
    "    attack = input('' + prompt)      # 呪文を取得\n",
    "    print(brave + 'は「' + attack + '」の呪文をとなえた！')\n",
    "\n",
    "    if attack == 'ジェダイ':         # attackが'ジェダイ'なら終了\n",
    "        print('まものたちは全滅した')\n",
    "        break                        #ここでwhileループを抜ける\n",
    "    else:\n",
    "        print('まものたちはようすをうかがっている')\n",
    "\n",
    "    counter = counter + 1            # 1を加算\n",
    "\n",
    "if counter == 3:                     # 3回繰り返した場合の処理\n",
    "    print('まものたちはどこかへ行ってしまった...')"
   ]
  },
  {
   "cell_type": "code",
   "execution_count": 2,
   "metadata": {},
   "outputs": [
    {
     "name": "stdout",
     "output_type": "stream",
     "text": [
      "お名前をどうぞ！>名乗るほどのものではない\n",
      "そんな人は知りません!\n",
      "お名前をどうぞ！>アナキン\n",
      "ようこそ!パスワードをどうぞ>good\n",
      "認証しました\n"
     ]
    }
   ],
   "source": [
    "# ユーザー名とパスワードチェック\n",
    "\n",
    "user = 'アナキン'\n",
    "pswd = 'good'\n",
    "\n",
    "while True:\n",
    "    name = input('お名前をどうぞ！>')   # 名前を取得\n",
    "    if name != user:                    # 入力された名前をチェック\n",
    "        print('そんな人は知りません!')\n",
    "        continue                        # 名前が一致しなければループの先頭に戻る\n",
    "    password = input(\n",
    "    'ようこそ!パスワードをどうぞ>')     # 名前が一致したらパスワードを尋ねる\n",
    "    if password == pswd:                # パスワードのチェック\n",
    "        break                           # パスワードが一致したらループを抜ける\n",
    "print('認証しました')"
   ]
  },
  {
   "cell_type": "code",
   "execution_count": null,
   "metadata": {},
   "outputs": [],
   "source": []
  }
 ],
 "metadata": {
  "kernelspec": {
   "display_name": "Python 3",
   "language": "python",
   "name": "python3"
  },
  "language_info": {
   "codemirror_mode": {
    "name": "ipython",
    "version": 3
   },
   "file_extension": ".py",
   "mimetype": "text/x-python",
   "name": "python",
   "nbconvert_exporter": "python",
   "pygments_lexer": "ipython3",
   "version": "3.7.6"
  }
 },
 "nbformat": 4,
 "nbformat_minor": 2
}
